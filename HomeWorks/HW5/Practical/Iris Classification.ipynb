{
 "cells": [
  {
   "cell_type": "markdown",
   "metadata": {},
   "source": [
    "# Import Packages"
   ]
  },
  {
   "cell_type": "code",
   "execution_count": 273,
   "metadata": {
    "ExecuteTime": {
     "end_time": "2020-12-09T19:56:28.215754Z",
     "start_time": "2020-12-09T19:56:28.203104Z"
    }
   },
   "outputs": [],
   "source": [
    "import pandas as pd\n",
    "import matplotlib.pyplot as plt\n",
    "import numpy as np\n",
    "from sklearn.datasets import load_iris\n",
    "import random"
   ]
  },
  {
   "cell_type": "markdown",
   "metadata": {},
   "source": [
    "# Matplotlib Configuration"
   ]
  },
  {
   "cell_type": "code",
   "execution_count": 274,
   "metadata": {
    "ExecuteTime": {
     "end_time": "2020-12-09T19:56:28.538834Z",
     "start_time": "2020-12-09T19:56:28.529577Z"
    }
   },
   "outputs": [],
   "source": [
    "plt.rcParams['figure.figsize'] = [12, 8]\n",
    "plt.rcParams['figure.dpi'] = 100 "
   ]
  },
  {
   "cell_type": "markdown",
   "metadata": {},
   "source": [
    "# Loading dataset"
   ]
  },
  {
   "cell_type": "code",
   "execution_count": 275,
   "metadata": {
    "ExecuteTime": {
     "end_time": "2020-12-09T19:56:28.905703Z",
     "start_time": "2020-12-09T19:56:28.873811Z"
    }
   },
   "outputs": [
    {
     "data": {
      "text/html": [
       "<div>\n",
       "<style scoped>\n",
       "    .dataframe tbody tr th:only-of-type {\n",
       "        vertical-align: middle;\n",
       "    }\n",
       "\n",
       "    .dataframe tbody tr th {\n",
       "        vertical-align: top;\n",
       "    }\n",
       "\n",
       "    .dataframe thead th {\n",
       "        text-align: right;\n",
       "    }\n",
       "</style>\n",
       "<table border=\"1\" class=\"dataframe\">\n",
       "  <thead>\n",
       "    <tr style=\"text-align: right;\">\n",
       "      <th></th>\n",
       "      <th>sepal length (cm)</th>\n",
       "      <th>sepal width (cm)</th>\n",
       "      <th>petal length (cm)</th>\n",
       "      <th>petal width (cm)</th>\n",
       "      <th>target</th>\n",
       "    </tr>\n",
       "  </thead>\n",
       "  <tbody>\n",
       "    <tr>\n",
       "      <th>0</th>\n",
       "      <td>5.1</td>\n",
       "      <td>3.5</td>\n",
       "      <td>1.4</td>\n",
       "      <td>0.2</td>\n",
       "      <td>0</td>\n",
       "    </tr>\n",
       "    <tr>\n",
       "      <th>1</th>\n",
       "      <td>4.9</td>\n",
       "      <td>3.0</td>\n",
       "      <td>1.4</td>\n",
       "      <td>0.2</td>\n",
       "      <td>0</td>\n",
       "    </tr>\n",
       "    <tr>\n",
       "      <th>2</th>\n",
       "      <td>4.7</td>\n",
       "      <td>3.2</td>\n",
       "      <td>1.3</td>\n",
       "      <td>0.2</td>\n",
       "      <td>0</td>\n",
       "    </tr>\n",
       "    <tr>\n",
       "      <th>3</th>\n",
       "      <td>4.6</td>\n",
       "      <td>3.1</td>\n",
       "      <td>1.5</td>\n",
       "      <td>0.2</td>\n",
       "      <td>0</td>\n",
       "    </tr>\n",
       "    <tr>\n",
       "      <th>4</th>\n",
       "      <td>5.0</td>\n",
       "      <td>3.6</td>\n",
       "      <td>1.4</td>\n",
       "      <td>0.2</td>\n",
       "      <td>0</td>\n",
       "    </tr>\n",
       "    <tr>\n",
       "      <th>...</th>\n",
       "      <td>...</td>\n",
       "      <td>...</td>\n",
       "      <td>...</td>\n",
       "      <td>...</td>\n",
       "      <td>...</td>\n",
       "    </tr>\n",
       "    <tr>\n",
       "      <th>145</th>\n",
       "      <td>6.7</td>\n",
       "      <td>3.0</td>\n",
       "      <td>5.2</td>\n",
       "      <td>2.3</td>\n",
       "      <td>2</td>\n",
       "    </tr>\n",
       "    <tr>\n",
       "      <th>146</th>\n",
       "      <td>6.3</td>\n",
       "      <td>2.5</td>\n",
       "      <td>5.0</td>\n",
       "      <td>1.9</td>\n",
       "      <td>2</td>\n",
       "    </tr>\n",
       "    <tr>\n",
       "      <th>147</th>\n",
       "      <td>6.5</td>\n",
       "      <td>3.0</td>\n",
       "      <td>5.2</td>\n",
       "      <td>2.0</td>\n",
       "      <td>2</td>\n",
       "    </tr>\n",
       "    <tr>\n",
       "      <th>148</th>\n",
       "      <td>6.2</td>\n",
       "      <td>3.4</td>\n",
       "      <td>5.4</td>\n",
       "      <td>2.3</td>\n",
       "      <td>2</td>\n",
       "    </tr>\n",
       "    <tr>\n",
       "      <th>149</th>\n",
       "      <td>5.9</td>\n",
       "      <td>3.0</td>\n",
       "      <td>5.1</td>\n",
       "      <td>1.8</td>\n",
       "      <td>2</td>\n",
       "    </tr>\n",
       "  </tbody>\n",
       "</table>\n",
       "<p>150 rows × 5 columns</p>\n",
       "</div>"
      ],
      "text/plain": [
       "     sepal length (cm)  sepal width (cm)  petal length (cm)  petal width (cm)  \\\n",
       "0                  5.1               3.5                1.4               0.2   \n",
       "1                  4.9               3.0                1.4               0.2   \n",
       "2                  4.7               3.2                1.3               0.2   \n",
       "3                  4.6               3.1                1.5               0.2   \n",
       "4                  5.0               3.6                1.4               0.2   \n",
       "..                 ...               ...                ...               ...   \n",
       "145                6.7               3.0                5.2               2.3   \n",
       "146                6.3               2.5                5.0               1.9   \n",
       "147                6.5               3.0                5.2               2.0   \n",
       "148                6.2               3.4                5.4               2.3   \n",
       "149                5.9               3.0                5.1               1.8   \n",
       "\n",
       "     target  \n",
       "0         0  \n",
       "1         0  \n",
       "2         0  \n",
       "3         0  \n",
       "4         0  \n",
       "..      ...  \n",
       "145       2  \n",
       "146       2  \n",
       "147       2  \n",
       "148       2  \n",
       "149       2  \n",
       "\n",
       "[150 rows x 5 columns]"
      ]
     },
     "execution_count": 275,
     "metadata": {},
     "output_type": "execute_result"
    }
   ],
   "source": [
    "iris = load_iris(as_frame=True)\n",
    "df = pd.DataFrame(iris['data'])\n",
    "df['target'] = iris['target']\n",
    "df"
   ]
  },
  {
   "cell_type": "markdown",
   "metadata": {},
   "source": [
    "## Train Test split"
   ]
  },
  {
   "cell_type": "code",
   "execution_count": 276,
   "metadata": {
    "ExecuteTime": {
     "end_time": "2020-12-09T19:56:29.458076Z",
     "start_time": "2020-12-09T19:56:29.433004Z"
    }
   },
   "outputs": [],
   "source": [
    "def train_test_split(df, train_size, test_size):\n",
    "    train = df.sample(frac=train_size, random_state=0)\n",
    "    print(\"train_size:\", train.shape)\n",
    "    df.drop(train.index, inplace=True)\n",
    "    test = df\n",
    "    print(\"test_size:\", test.shape)\n",
    "    return train, test"
   ]
  },
  {
   "cell_type": "code",
   "execution_count": 277,
   "metadata": {
    "ExecuteTime": {
     "end_time": "2020-12-09T19:56:29.735185Z",
     "start_time": "2020-12-09T19:56:29.710710Z"
    }
   },
   "outputs": [
    {
     "name": "stdout",
     "output_type": "stream",
     "text": [
      "train_size: (120, 5)\n",
      "test_size: (30, 5)\n"
     ]
    }
   ],
   "source": [
    "train_size, test_size = 0.8, 0.2\n",
    "train, test = train_test_split(df.copy(), train_size, test_size)"
   ]
  },
  {
   "cell_type": "code",
   "execution_count": 278,
   "metadata": {
    "ExecuteTime": {
     "end_time": "2020-12-09T19:56:29.981987Z",
     "start_time": "2020-12-09T19:56:29.951835Z"
    }
   },
   "outputs": [
    {
     "data": {
      "text/plain": [
       "((120, 3), (120, 4), (30, 3), (30, 4))"
      ]
     },
     "execution_count": 278,
     "metadata": {},
     "output_type": "execute_result"
    }
   ],
   "source": [
    "y_train_1 = train['target'].to_numpy()\n",
    "X_train = train.drop('target', axis=1).to_numpy()\n",
    "\n",
    "y_test_1 = test['target'].to_numpy()\n",
    "X_test = test.drop('target', axis=1).to_numpy()\n",
    "\n",
    "y_train.shape, X_train.shape, y_test.shape, X_test.shape"
   ]
  },
  {
   "cell_type": "markdown",
   "metadata": {},
   "source": [
    "# Perceptron\n",
    "\n",
    "$$E_p(w) = -\\Sigma_{n \\in M} w^T\\phi_nt_n$$\n",
    "\n",
    "$$w^{(t + 1)} = w^{(t)} - \\eta \\nabla E_p(w)$$"
   ]
  },
  {
   "cell_type": "markdown",
   "metadata": {},
   "source": [
    "## Removing `target==2` samples"
   ]
  },
  {
   "cell_type": "code",
   "execution_count": 279,
   "metadata": {
    "ExecuteTime": {
     "end_time": "2020-12-09T19:56:30.632103Z",
     "start_time": "2020-12-09T19:56:30.618544Z"
    }
   },
   "outputs": [],
   "source": [
    "p_train = train.drop(train[train['target'] == 2].index)\n",
    "p_test = test.drop(test[test['target'] == 2].index)\n",
    "\n",
    "p_y_train = p_train['target'].to_numpy()\n",
    "p_X_train = p_train.drop('target', axis=1).to_numpy()\n",
    "\n",
    "p_y_test = p_test['target'].to_numpy()\n",
    "p_X_test = p_test.drop('target', axis=1).to_numpy()"
   ]
  },
  {
   "cell_type": "code",
   "execution_count": 280,
   "metadata": {
    "ExecuteTime": {
     "end_time": "2020-12-09T19:56:30.819602Z",
     "start_time": "2020-12-09T19:56:30.800083Z"
    }
   },
   "outputs": [
    {
     "data": {
      "text/plain": [
       "(79, 79)"
      ]
     },
     "execution_count": 280,
     "metadata": {},
     "output_type": "execute_result"
    }
   ],
   "source": [
    "len(p_X_train), len(p_y_train)"
   ]
  },
  {
   "cell_type": "markdown",
   "metadata": {},
   "source": [
    "## Convert 0 to -1"
   ]
  },
  {
   "cell_type": "code",
   "execution_count": 281,
   "metadata": {
    "ExecuteTime": {
     "end_time": "2020-12-09T19:56:31.166197Z",
     "start_time": "2020-12-09T19:56:31.155607Z"
    }
   },
   "outputs": [],
   "source": [
    "for index, i in enumerate(p_y_train):\n",
    "    if i == 0:\n",
    "        p_y_train[index] = -1"
   ]
  },
  {
   "cell_type": "code",
   "execution_count": 282,
   "metadata": {
    "ExecuteTime": {
     "end_time": "2020-12-09T19:56:31.340343Z",
     "start_time": "2020-12-09T19:56:31.329470Z"
    }
   },
   "outputs": [],
   "source": [
    "for index, i in enumerate(p_y_test):\n",
    "    if i == 0:\n",
    "        p_y_test[index] = -1"
   ]
  },
  {
   "cell_type": "markdown",
   "metadata": {},
   "source": [
    "## Number of misclassified"
   ]
  },
  {
   "cell_type": "code",
   "execution_count": 283,
   "metadata": {
    "ExecuteTime": {
     "end_time": "2020-12-09T19:56:31.644721Z",
     "start_time": "2020-12-09T19:56:31.640105Z"
    }
   },
   "outputs": [],
   "source": [
    "def misclassified_list(w):\n",
    "    misclassified_arr = list()\n",
    "    for index, x in enumerate(p_X_train):\n",
    "        if w.dot(x) * p_y_train[index] <= 0:\n",
    "            misclassified_arr.append((x, p_y_train[index]))\n",
    "    \n",
    "    return misclassified_arr"
   ]
  },
  {
   "cell_type": "markdown",
   "metadata": {
    "ExecuteTime": {
     "end_time": "2020-12-09T16:02:19.185208Z",
     "start_time": "2020-12-09T16:02:19.175183Z"
    }
   },
   "source": [
    "## Train Perceptron Method"
   ]
  },
  {
   "cell_type": "code",
   "execution_count": 284,
   "metadata": {
    "ExecuteTime": {
     "end_time": "2020-12-09T19:56:32.048338Z",
     "start_time": "2020-12-09T19:56:32.021123Z"
    }
   },
   "outputs": [],
   "source": [
    "def train_perceptron(learning_rate = 0.001):\n",
    "    all_misclassified = list()\n",
    "    w = np.zeros(p_X_test.shape[1])\n",
    "    misclassified = misclassified_list(w)\n",
    "    current_misclassified = len(misclassified)\n",
    "    all_misclassified.append(current_misclassified)\n",
    "    counter = 0\n",
    "    \n",
    "    while len(misclassified) > 0:\n",
    "        i = random.randint(0, len(misclassified) - 1)\n",
    "        x, target = misclassified[i]\n",
    "        w += learning_rate * target * x\n",
    "            \n",
    "        misclassified = misclassified_list(w)\n",
    "        current_misclassified = len(misclassified)\n",
    "        all_misclassified.append(current_misclassified)\n",
    "    \n",
    "    return w, all_misclassified\n",
    "\n",
    "\n",
    "w_perceptron, all_misclassified = train_perceptron()"
   ]
  },
  {
   "cell_type": "code",
   "execution_count": 285,
   "metadata": {
    "ExecuteTime": {
     "end_time": "2020-12-09T19:56:32.208101Z",
     "start_time": "2020-12-09T19:56:32.188261Z"
    }
   },
   "outputs": [
    {
     "data": {
      "text/plain": [
       "array([-0.0022, -0.0059,  0.0082,  0.0027])"
      ]
     },
     "execution_count": 285,
     "metadata": {},
     "output_type": "execute_result"
    }
   ],
   "source": [
    "w_perceptron"
   ]
  },
  {
   "cell_type": "code",
   "execution_count": 286,
   "metadata": {
    "ExecuteTime": {
     "end_time": "2020-12-09T19:56:32.337073Z",
     "start_time": "2020-12-09T19:56:32.332173Z"
    }
   },
   "outputs": [
    {
     "data": {
      "text/plain": [
       "79"
      ]
     },
     "execution_count": 286,
     "metadata": {},
     "output_type": "execute_result"
    }
   ],
   "source": [
    "all_misclassified[0]"
   ]
  },
  {
   "cell_type": "code",
   "execution_count": 287,
   "metadata": {
    "ExecuteTime": {
     "end_time": "2020-12-09T19:56:32.527850Z",
     "start_time": "2020-12-09T19:56:32.522052Z"
    }
   },
   "outputs": [
    {
     "data": {
      "text/plain": [
       "0"
      ]
     },
     "execution_count": 287,
     "metadata": {},
     "output_type": "execute_result"
    }
   ],
   "source": [
    "all_misclassified[-1]"
   ]
  },
  {
   "cell_type": "markdown",
   "metadata": {},
   "source": [
    "## Plotting the Iterations"
   ]
  },
  {
   "cell_type": "code",
   "execution_count": 288,
   "metadata": {
    "ExecuteTime": {
     "end_time": "2020-12-09T19:56:32.881648Z",
     "start_time": "2020-12-09T19:56:32.873647Z"
    }
   },
   "outputs": [],
   "source": [
    "def plotting(misclassified, is_train):\n",
    "    if len(misclassified) is 0:\n",
    "        return \"There isn't any misclassified point\"\n",
    "    if is_train:\n",
    "        plt.title(\"Misclassified points number per iteration in train\")\n",
    "    else:\n",
    "        plt.title(\"Misclassified points number per iteration in train\")\n",
    "    plt.xlabel(\"Iteration No\")\n",
    "    plt.ylabel(\"Misclassified No\")\n",
    "    plt.plot(misclassified)"
   ]
  },
  {
   "cell_type": "markdown",
   "metadata": {},
   "source": [
    "## Train misclassified No."
   ]
  },
  {
   "cell_type": "code",
   "execution_count": 289,
   "metadata": {
    "ExecuteTime": {
     "end_time": "2020-12-09T19:56:33.505820Z",
     "start_time": "2020-12-09T19:56:33.212028Z"
    }
   },
   "outputs": [
    {
     "data": {
      "image/png": "[encoded data removed]",
      "text/plain": [
       "<Figure size 1200x800 with 1 Axes>"
      ]
     },
     "metadata": {},
     "output_type": "display_data"
    }
   ],
   "source": [
    "plotting(all_misclassified, True)"
   ]
  },
  {
   "cell_type": "markdown",
   "metadata": {},
   "source": [
    "## Test Perceptron Method"
   ]
  },
  {
   "cell_type": "code",
   "execution_count": 290,
   "metadata": {
    "ExecuteTime": {
     "end_time": "2020-12-09T19:56:33.587518Z",
     "start_time": "2020-12-09T19:56:33.578842Z"
    }
   },
   "outputs": [],
   "source": [
    "def test_perceptron(w):\n",
    "    misclassified_arr, loss = list(), 0\n",
    "    for index, x in enumerate(p_X_test):\n",
    "        if w.dot(x) * p_y_test[index] <= 0:\n",
    "            misclassified_arr.append((x, p_y_test[index]))\n",
    "            loss += w.dot(x) * p_y_test[index]\n",
    "    return loss, misclassified_arr\n",
    "\n",
    "loss, test_misclassified = test_perceptron(w_perceptron)"
   ]
  },
  {
   "cell_type": "code",
   "execution_count": 291,
   "metadata": {
    "ExecuteTime": {
     "end_time": "2020-12-09T19:56:33.776015Z",
     "start_time": "2020-12-09T19:56:33.769510Z"
    }
   },
   "outputs": [
    {
     "data": {
      "text/plain": [
       "\"There isn't any misclassified point\""
      ]
     },
     "execution_count": 291,
     "metadata": {},
     "output_type": "execute_result"
    }
   ],
   "source": [
    "plotting(test_misclassified, False)"
   ]
  },
  {
   "cell_type": "markdown",
   "metadata": {},
   "source": [
    "## Confision Matrix"
   ]
  },
  {
   "cell_type": "code",
   "execution_count": 292,
   "metadata": {
    "ExecuteTime": {
     "end_time": "2020-12-09T19:56:34.158561Z",
     "start_time": "2020-12-09T19:56:34.119343Z"
    },
    "scrolled": true
   },
   "outputs": [
    {
     "name": "stdout",
     "output_type": "stream",
     "text": [
      "confusion Matrix\n",
      " 11 \t 0 \n",
      " 0 \t 10\n"
     ]
    }
   ],
   "source": [
    "def confusion_matrix_perceptron():\n",
    "    c1_c1, c1_c2, c2_c1, c2_c2 = 0, 0, 0, 0\n",
    "\n",
    "    for index, x in enumerate(p_X_test):\n",
    "        if p_y_test[index] == 1:\n",
    "            if w_perceptron.dot(x) > 0:\n",
    "                c1_c1 += 1\n",
    "            else:\n",
    "                c1_c2 += 1\n",
    "        else:\n",
    "            if w_perceptron.dot(x) > 0:\n",
    "                c2_c1 += 1\n",
    "            else:\n",
    "                c2_c2 += 1\n",
    "                \n",
    "    print(\"confusion Matrix\")\n",
    "    print(f\" {c1_c1} \\t {c1_c2} \\n {c2_c1} \\t {c2_c2}\")\n",
    "    \n",
    "confusion_matrix_perceptron()"
   ]
  },
  {
   "cell_type": "markdown",
   "metadata": {},
   "source": [
    "# Logistic Regression\n",
    "\n",
    "As it mentioned in Bishop book we have the following equations:\n",
    "$$\n",
    "p(C_k|\\phi) = y_k(\\phi) = \\frac{e^{a_k}}{\\Sigma_j e^{a_j}}\n",
    "$$\n",
    "\n",
    "where\n",
    "\n",
    "$$\n",
    "a_k = w_k^T\\phi\n",
    "$$\n",
    "\n",
    "$$\n",
    "E(w_1,\\: ..., \\: w_k) = -ln (p(T|w_1, \\: ..., \\: w_k)) = -\\Sigma_{n=1}^{N} \\Sigma_{k=1}^{K} t_{nk} ln (y_{nk})\n",
    "$$\n",
    "\n",
    "$$\n",
    "\\nabla_{w_j} E(w_1, \\: ..., \\: w_k) = \\Sigma_{n = 1}^{N} (y_{nj} - t_{nj})\\phi_n\n",
    "$$"
   ]
  },
  {
   "cell_type": "markdown",
   "metadata": {},
   "source": [
    "# a)\n"
   ]
  },
  {
   "cell_type": "markdown",
   "metadata": {},
   "source": [
    "## One Hot"
   ]
  },
  {
   "cell_type": "code",
   "execution_count": 293,
   "metadata": {
    "ExecuteTime": {
     "end_time": "2020-12-09T19:56:35.157816Z",
     "start_time": "2020-12-09T19:56:35.033547Z"
    }
   },
   "outputs": [],
   "source": [
    "train['C0'] = 0\n",
    "train['C1'] = 0\n",
    "train['C2'] = 0\n",
    "\n",
    "test['C0'] = 0\n",
    "test['C1'] = 0\n",
    "test['C2'] = 0\n",
    "\n",
    "for index, row in train.iterrows():\n",
    "    if row['target'] == 2:\n",
    "        train.loc[index, 'C2'] = 1\n",
    "    elif row['target'] == 1:\n",
    "        train.loc[index, 'C1'] = 1\n",
    "    elif row['target'] == 0:\n",
    "        train.loc[index, 'C0'] = 1\n",
    "\n",
    "for index, row in test.iterrows():\n",
    "    if row['target'] == 2:\n",
    "        test.loc[index, 'C2'] = 1\n",
    "    elif row['target'] == 1:\n",
    "        test.loc[index, 'C1'] = 1\n",
    "    elif row['target'] == 0:\n",
    "        test.loc[index, 'C0'] = 1"
   ]
  },
  {
   "cell_type": "code",
   "execution_count": 294,
   "metadata": {
    "ExecuteTime": {
     "end_time": "2020-12-09T19:56:35.234582Z",
     "start_time": "2020-12-09T19:56:35.218031Z"
    }
   },
   "outputs": [],
   "source": [
    "y_train = train[[\"C0\", \"C1\", \"C2\"]].to_numpy()\n",
    "y_test = test[[\"C0\", \"C1\", \"C2\"]].to_numpy()"
   ]
  },
  {
   "cell_type": "markdown",
   "metadata": {},
   "source": [
    "## Softmax Function"
   ]
  },
  {
   "cell_type": "code",
   "execution_count": 295,
   "metadata": {
    "ExecuteTime": {
     "end_time": "2020-12-09T19:56:35.947953Z",
     "start_time": "2020-12-09T19:56:35.934184Z"
    }
   },
   "outputs": [],
   "source": [
    "def softmax(k, x, w_s):\n",
    "    w_k = w_s[k]\n",
    "    a_k = w_k.dot(x)\n",
    "    upper, lower = np.exp(a_k), 0\n",
    "    \n",
    "    for i, w in enumerate(w_s):\n",
    "        a_j = w.dot(x)\n",
    "        lower += np.exp(a_j)\n",
    "    \n",
    "    return upper / lower\n"
   ]
  },
  {
   "cell_type": "markdown",
   "metadata": {},
   "source": [
    "## Loss function"
   ]
  },
  {
   "cell_type": "code",
   "execution_count": 296,
   "metadata": {
    "ExecuteTime": {
     "end_time": "2020-12-09T19:56:36.548630Z",
     "start_time": "2020-12-09T19:56:36.545045Z"
    }
   },
   "outputs": [],
   "source": [
    "def calc_loss(w):\n",
    "    loss = 0\n",
    "    for i, x in enumerate(X_train):\n",
    "        for k in [0, 1, 2]:\n",
    "            loss -= y_train[i][k] * np.log(softmax(k, x, w))\n",
    "    \n",
    "    return loss"
   ]
  },
  {
   "cell_type": "markdown",
   "metadata": {
    "ExecuteTime": {
     "end_time": "2020-12-09T17:58:28.310518Z",
     "start_time": "2020-12-09T17:58:28.299207Z"
    }
   },
   "source": [
    "## Updating weights"
   ]
  },
  {
   "cell_type": "code",
   "execution_count": 297,
   "metadata": {
    "ExecuteTime": {
     "end_time": "2020-12-09T19:56:36.930918Z",
     "start_time": "2020-12-09T19:56:36.908951Z"
    }
   },
   "outputs": [],
   "source": [
    "def weight_update(learning_rate, current_w, w_s, k):\n",
    "    gradient = 0\n",
    "    for index, x in enumerate(X_train):\n",
    "        gradient += (softmax(k, x, w_s) - y_train[index][k]) * x\n",
    "    \n",
    "    return current_w - learning_rate * gradient"
   ]
  },
  {
   "cell_type": "markdown",
   "metadata": {},
   "source": [
    "## Logistic Regression"
   ]
  },
  {
   "cell_type": "code",
   "execution_count": 298,
   "metadata": {
    "ExecuteTime": {
     "end_time": "2020-12-09T19:56:37.305838Z",
     "start_time": "2020-12-09T19:56:37.260562Z"
    }
   },
   "outputs": [],
   "source": [
    "def logistic_regression(learning_rate, iteration_no):\n",
    "    w1 = np.zeros(X_test.shape[1])\n",
    "    w2 = w1.copy()\n",
    "    w3 = w1.copy()\n",
    "    losses = list()\n",
    "    \n",
    "    for i in range(iteration_no):\n",
    "        all_weights = [w1, w2, w3]\n",
    "        w1 = weight_update(learning_rate, w1, all_weights, 0)\n",
    "        w2 = weight_update(learning_rate, w2, all_weights, 1)\n",
    "        w3 = weight_update(learning_rate, w3, all_weights, 2)\n",
    "        loss = calc_loss([w1, w2, w3])\n",
    "        losses.append(loss)\n",
    "        \n",
    "    return [w1, w2, w3], losses"
   ]
  },
  {
   "cell_type": "code",
   "execution_count": 299,
   "metadata": {
    "ExecuteTime": {
     "end_time": "2020-12-09T19:56:46.914713Z",
     "start_time": "2020-12-09T19:56:37.451795Z"
    }
   },
   "outputs": [],
   "source": [
    "w_s, training_loss = logistic_regression(0.005, 1000)"
   ]
  },
  {
   "cell_type": "code",
   "execution_count": 300,
   "metadata": {
    "ExecuteTime": {
     "end_time": "2020-12-09T19:56:46.947365Z",
     "start_time": "2020-12-09T19:56:46.916115Z"
    }
   },
   "outputs": [
    {
     "data": {
      "text/plain": [
       "[231.1927331198307,\n",
       " 1220.4368899214367,\n",
       " 1348.353290604769,\n",
       " 1197.3551260605723,\n",
       " 1327.7183628292357,\n",
       " 734.4295550456424,\n",
       " 288.57172731711694,\n",
       " 703.3039995375109,\n",
       " 921.6102757813967,\n",
       " 520.9810961329141,\n",
       " 305.46275305322564,\n",
       " 854.5544360342486,\n",
       " 72.71670254286336,\n",
       " 627.0988218153631,\n",
       " 326.91822359144567,\n",
       " 897.9219482671386,\n",
       " 36.854393263788594,\n",
       " 149.75238871029296,\n",
       " 959.1254053151872,\n",
       " 755.6554221088061,\n",
       " 70.63390754312415,\n",
       " 256.56205008712806,\n",
       " 1182.9148485968915,\n",
       " 229.4444134703588,\n",
       " 739.1610918723941,\n",
       " 524.0148089988304,\n",
       " 410.39229258168933,\n",
       " 740.5368317938702,\n",
       " 139.97248825337198,\n",
       " 864.5830459703726,\n",
       " 29.830568061555958,\n",
       " 190.31257312094996,\n",
       " 807.8759159346619,\n",
       " 624.2784566385111,\n",
       " 242.73769349498886,\n",
       " 695.0287040945475,\n",
       " 162.93953010773043,\n",
       " 871.648739019349,\n",
       " 19.361077520200126,\n",
       " 45.07379700367,\n",
       " 500.5268663138167,\n",
       " 723.9578280311979,\n",
       " 112.2352651128203,\n",
       " 774.568524762868,\n",
       " 57.39516197291571,\n",
       " 540.3247786801322,\n",
       " 313.6238024569342,\n",
       " 769.0893639151228,\n",
       " 51.388098969663844,\n",
       " 478.51620417113554,\n",
       " 373.62744520984506,\n",
       " 732.1842807995718,\n",
       " 71.0943352317599,\n",
       " 569.3863682615558,\n",
       " 242.8098936714732,\n",
       " 789.2056562076976,\n",
       " 28.54912059382351,\n",
       " 187.71809898431437,\n",
       " 712.7169966590152,\n",
       " 742.439355623183,\n",
       " 71.77887244481752,\n",
       " 329.36269808863256,\n",
       " 1109.5697571669778,\n",
       " 188.31009679547657,\n",
       " 525.4183503397785,\n",
       " 691.4252100188432,\n",
       " 89.30792819119443,\n",
       " 613.406940669486,\n",
       " 163.13933039632334,\n",
       " 748.6609503837113,\n",
       " 37.50319107424864,\n",
       " 291.1323816379672,\n",
       " 527.1294255775063,\n",
       " 572.2036571386298,\n",
       " 185.02419538907628,\n",
       " 728.5806509654825,\n",
       " 39.22957505493137,\n",
       " 275.38265858198497,\n",
       " 516.2864572385754,\n",
       " 591.3391212428083,\n",
       " 139.28648574684092,\n",
       " 651.1085524632754,\n",
       " 79.51833547238145,\n",
       " 481.4167276565732,\n",
       " 248.86139543613143,\n",
       " 691.9562760347922,\n",
       " 43.836097248328365,\n",
       " 269.95871589310957,\n",
       " 481.51797392416387,\n",
       " 652.2237998799635,\n",
       " 60.67284956391169,\n",
       " 261.67564292941444,\n",
       " 473.74074992318,\n",
       " 644.1726246201263,\n",
       " 59.38321019334453,\n",
       " 270.81827670242455,\n",
       " 436.7244217311773,\n",
       " 635.2127398794513,\n",
       " 59.71421490587483,\n",
       " 299.2352688513512,\n",
       " 383.3108172849202,\n",
       " 633.6683578276937,\n",
       " 55.6760711425972,\n",
       " 280.0476781149774,\n",
       " 392.3981873934916,\n",
       " 647.6784069723909,\n",
       " 43.060921670030126,\n",
       " 179.2023659024708,\n",
       " 455.8497947533047,\n",
       " 729.5508929523832,\n",
       " 43.158710649811795,\n",
       " 57.21151518456419,\n",
       " 291.16384624037914,\n",
       " 418.8820800322241,\n",
       " 667.1329584535835,\n",
       " 31.215506503225484,\n",
       " 99.17387257404305,\n",
       " 363.8297145234675,\n",
       " 667.7370309737437,\n",
       " 28.77909640725152,\n",
       " 100.12747309300906,\n",
       " 353.47239955592966,\n",
       " 630.1224230707219,\n",
       " 42.044687051115716,\n",
       " 170.71879788230765,\n",
       " 419.0111576117229,\n",
       " 587.9318898732288,\n",
       " 59.06607806823171,\n",
       " 244.12705710574218,\n",
       " 359.63475101735,\n",
       " 571.4263293383865,\n",
       " 64.99419218129046,\n",
       " 253.99207354627188,\n",
       " 354.37373699502075,\n",
       " 571.3141416777455,\n",
       " 58.553501558276416,\n",
       " 213.63459596792654,\n",
       " 359.5865792359467,\n",
       " 591.5588396520684,\n",
       " 42.74851281564588,\n",
       " 135.25730091616538,\n",
       " 327.3355709734201,\n",
       " 623.5034013681847,\n",
       " 28.28050937089827,\n",
       " 68.22432353685434,\n",
       " 180.32018105648268,\n",
       " 489.29257753444364,\n",
       " 105.05652267779358,\n",
       " 331.1051282793622,\n",
       " 251.47230503151638,\n",
       " 526.0156458898614,\n",
       " 68.92153679544313,\n",
       " 207.99071599767694,\n",
       " 322.7124753694326,\n",
       " 571.0598828487272,\n",
       " 38.469102250017656,\n",
       " 91.58650062521242,\n",
       " 207.84930178861796,\n",
       " 502.9182706321821,\n",
       " 75.15334765781728,\n",
       " 209.00465745272933,\n",
       " 300.4771982723665,\n",
       " 543.1041824760932,\n",
       " 45.466770674955654,\n",
       " 103.42549279908282,\n",
       " 206.2409213593057,\n",
       " 471.74060789153657,\n",
       " 86.22911518304184,\n",
       " 221.2184974136947,\n",
       " 275.52632057922295,\n",
       " 510.27783689830807,\n",
       " 55.001347474928124,\n",
       " 120.2045476114225,\n",
       " 207.76823963752273,\n",
       " 449.96287112107143,\n",
       " 89.93807357497049,\n",
       " 210.8855022216402,\n",
       " 253.95063182703643,\n",
       " 480.86496670330064,\n",
       " 63.07734764962803,\n",
       " 129.89058231792336,\n",
       " 196.68305285704423,\n",
       " 412.115017298575,\n",
       " 105.56913649858673,\n",
       " 227.53082593015208,\n",
       " 231.20999443598697,\n",
       " 438.9527358878187,\n",
       " 78.9624657750625,\n",
       " 156.73478568789915,\n",
       " 199.3340672027599,\n",
       " 395.75583395031884,\n",
       " 103.85806652201067,\n",
       " 204.79279518987536,\n",
       " 211.4554332412951,\n",
       " 400.12351101523814,\n",
       " 93.77988407478043,\n",
       " 174.80487328651444,\n",
       " 190.24137226679863,\n",
       " 360.8716679187903,\n",
       " 116.41792068343001,\n",
       " 212.04886692114573,\n",
       " 193.38815615857465,\n",
       " 353.6020050710307,\n",
       " 114.60130933682639,\n",
       " 200.00250477504528,\n",
       " 181.6505227728819,\n",
       " 326.03390895130394,\n",
       " 128.1140965353188,\n",
       " 216.8956131063211,\n",
       " 175.89747112655877,\n",
       " 305.24048581710167,\n",
       " 135.91544882209837,\n",
       " 222.95298054404884,\n",
       " 167.68976359926157,\n",
       " 280.902150547021,\n",
       " 144.56980909145076,\n",
       " 230.73337035916092,\n",
       " 159.41600898224726,\n",
       " 256.2008783630411,\n",
       " 149.66964796831226,\n",
       " 232.4590635416844,\n",
       " 151.73926380454105,\n",
       " 233.43919142593896,\n",
       " 148.0806469550628,\n",
       " 222.6696024147756,\n",
       " 144.68827883899567,\n",
       " 213.44344374274652,\n",
       " 140.0141390181021,\n",
       " 202.19677895097385,\n",
       " 133.6144611007515,\n",
       " 188.53801597479477,\n",
       " 124.8201219546911,\n",
       " 171.48185958192045,\n",
       " 112.87752307468574,\n",
       " 149.7583412854367,\n",
       " 97.08770320579025,\n",
       " 121.46422525919357,\n",
       " 75.94501167796459,\n",
       " 82.84210220870169,\n",
       " 45.795883077502,\n",
       " 37.51050872918371,\n",
       " 15.920871042185091,\n",
       " 13.880248655866916,\n",
       " 10.223964586720346,\n",
       " 9.990678322625012,\n",
       " 9.814901333278343,\n",
       " 9.764364401446926,\n",
       " 9.734074993179824,\n",
       " 9.71932095940408,\n",
       " 9.709375940423435,\n",
       " 9.702208896604215,\n",
       " 9.696304007239796,\n",
       " 9.691168976502516,\n",
       " 9.686523168632624,\n",
       " 9.682236930864649,\n",
       " 9.678231734594949,\n",
       " 9.674457613421337,\n",
       " 9.670878152097318,\n",
       " 9.667465045747079,\n",
       " 9.664195228291309,\n",
       " 9.661049412476123,\n",
       " 9.658011263952405,\n",
       " 9.655066836109059,\n",
       " 9.652204180978284,\n",
       " 9.649413034762182,\n",
       " 9.646684571012402,\n",
       " 9.64401119062758,\n",
       " 9.641386347822266,\n",
       " 9.638804400498534,\n",
       " 9.636260483635429,\n",
       " 9.633750400289314,\n",
       " 9.631270528547867,\n",
       " 9.628817741428325,\n",
       " 9.626389338211423,\n",
       " 9.623982985326112,\n",
       " 9.621596665560675,\n",
       " 9.619228634330376,\n",
       " 9.616877382056867,\n",
       " 9.614541601767032,\n",
       " 9.61222016119798,\n",
       " 9.609912078766364,\n",
       " 9.607616502869115,\n",
       " 9.605332694047,\n",
       " 9.603060009615248,\n",
       " 9.600797890416699,\n",
       " 9.598545849403337,\n",
       " 9.596303461792338,\n",
       " 9.594070356578495,\n",
       " 9.591846209214808,\n",
       " 9.589630735299776,\n",
       " 9.58742368513204,\n",
       " 9.585224839012378,\n",
       " 9.583034003189839,\n",
       " 9.580851006363178,\n",
       " 9.578675696660891,\n",
       " 9.576507939033863,\n",
       " 9.574347613003821,\n",
       " 9.572194610718734,\n",
       " 9.570048835272772,\n",
       " 9.567910199254646,\n",
       " 9.565778623493017,\n",
       " 9.563654035971707,\n",
       " 9.561536370891824,\n",
       " 9.559425567860455,\n",
       " 9.557321571188798,\n",
       " 9.555224329284757,\n",
       " 9.553133794126929,\n",
       " 9.55104992080951,\n",
       " 9.548972667147584,\n",
       " 9.546901993335572,\n",
       " 9.544837861650873,\n",
       " 9.542780236197071,\n",
       " 9.540729082681061,\n",
       " 9.53868436821987,\n",
       " 9.536646061172661,\n",
       " 9.534614130995116,\n",
       " 9.532588548112805,\n",
       " 9.53056928381109,\n",
       " 9.52855631013951,\n",
       " 9.52654959982847,\n",
       " 9.524549126216765,\n",
       " 9.522554863188468,\n",
       " 9.520566785117948,\n",
       " 9.518584866821886,\n",
       " 9.516609083517315,\n",
       " 9.514639410785266,\n",
       " 9.512675824538617,\n",
       " 9.510718300994297,\n",
       " 9.508766816648691,\n",
       " 9.506821348256329,\n",
       " 9.504881872811005,\n",
       " 9.502948367529278,\n",
       " 9.501020809835913,\n",
       " 9.499099177351198,\n",
       " 9.49718344787951,\n",
       " 9.495273599399532,\n",
       " 9.493369610055291,\n",
       " 9.491471458148464,\n",
       " 9.489579122131387,\n",
       " 9.48769258060093,\n",
       " 9.485811812292924,\n",
       " 9.483936796077373,\n",
       " 9.482067510953902,\n",
       " 9.480203936047898,\n",
       " 9.478346050606962,\n",
       " 9.476493833997566,\n",
       " 9.47464726570225,\n",
       " 9.472806325316904,\n",
       " 9.470970992548382,\n",
       " 9.469141247212235,\n",
       " 9.467317069230681,\n",
       " 9.465498438630759,\n",
       " 9.46368533554253,\n",
       " 9.46187774019749,\n",
       " 9.46007563292705,\n",
       " 9.45827899416114,\n",
       " 9.45648780442683,\n",
       " 9.454702044347146,\n",
       " 9.452921694639825,\n",
       " 9.451146736116229,\n",
       " 9.449377149680275,\n",
       " 9.44761291632737,\n",
       " 9.445854017143514,\n",
       " 9.444100433304284,\n",
       " 9.44235214607396,\n",
       " 9.440609136804682,\n",
       " 9.438871386935576,\n",
       " 9.437138877991929,\n",
       " 9.435411591584465,\n",
       " 9.433689509408458,\n",
       " 9.431972613243154,\n",
       " 9.430260884950851,\n",
       " 9.428554306476322,\n",
       " 9.426852859846099,\n",
       " 9.425156527167735,\n",
       " 9.423465290629206,\n",
       " 9.421779132498191,\n",
       " 9.420098035121464,\n",
       " 9.41842198092435,\n",
       " 9.416750952409904,\n",
       " 9.415084932158479,\n",
       " 9.413423902827098,\n",
       " 9.411767847148779,\n",
       " 9.410116747932046,\n",
       " 9.408470588060354,\n",
       " 9.406829350491453,\n",
       " 9.405193018256902,\n",
       " 9.403561574461477,\n",
       " 9.401935002282702,\n",
       " 9.400313284970219,\n",
       " 9.398696405845369,\n",
       " 9.397084348300565,\n",
       " 9.39547709579887,\n",
       " 9.393874631873453,\n",
       " 9.392276940127088,\n",
       " 9.39068400423166,\n",
       " 9.38909580792773,\n",
       " 9.387512335023938,\n",
       " 9.385933569396684,\n",
       " 9.384359494989528,\n",
       " 9.382790095812785,\n",
       " 9.381225355943076,\n",
       " 9.379665259522824,\n",
       " 9.378109790759888,\n",
       " 9.376558933927038,\n",
       " 9.375012673361557,\n",
       " 9.373470993464812,\n",
       " 9.37193387870185,\n",
       " 9.37040131360086,\n",
       " 9.368873282752963,\n",
       " 9.36734977081158,\n",
       " 9.365830762492125,\n",
       " 9.36431624257168,\n",
       " 9.362806195888421,\n",
       " 9.361300607341372,\n",
       " 9.359799461889912,\n",
       " 9.35830274455346,\n",
       " 9.356810440411094,\n",
       " 9.355322534601077,\n",
       " 9.353839012320599,\n",
       " 9.352359858825356,\n",
       " 9.350885059429142,\n",
       " 9.349414599503591,\n",
       " 9.347948464477748,\n",
       " 9.346486639837668,\n",
       " 9.345029111126196,\n",
       " 9.343575863942505,\n",
       " 9.3421268839418,\n",
       " 9.34068215683496,\n",
       " 9.339241668388256,\n",
       " 9.337805404422912,\n",
       " 9.33637335081492,\n",
       " 9.33494549349453,\n",
       " 9.333521818446139,\n",
       " 9.332102311707782,\n",
       " 9.330686959370949,\n",
       " 9.329275747580153,\n",
       " 9.327868662532772,\n",
       " 9.3264656904786,\n",
       " 9.325066817719625,\n",
       " 9.323672030609687,\n",
       " 9.322281315554202,\n",
       " 9.32089465900992,\n",
       " 9.319512047484467,\n",
       " 9.318133467536253,\n",
       " 9.316758905774106,\n",
       " 9.315388348856898,\n",
       " 9.31402178349345,\n",
       " 9.3126591964421,\n",
       " 9.311300574510495,\n",
       " 9.309945904555299,\n",
       " 9.30859517348195,\n",
       " 9.307248368244373,\n",
       " 9.305905475844707,\n",
       " 9.30456648333305,\n",
       " 9.303231377807242,\n",
       " 9.301900146412502,\n",
       " 9.300572776341314,\n",
       " 9.299249254833093,\n",
       " 9.29792956917391,\n",
       " 9.296613706696297,\n",
       " 9.295301654779008,\n",
       " 9.293993400846738,\n",
       " 9.2926889323699,\n",
       " 9.291388236864405,\n",
       " 9.290091301891403,\n",
       " 9.288798115057045,\n",
       " 9.287508664012265,\n",
       " 9.286222936452564,\n",
       " 9.284940920117755,\n",
       " 9.283662602791788,\n",
       " 9.28238797230241,\n",
       " 9.281117016521112,\n",
       " 9.279849723362746,\n",
       " 9.278586080785466,\n",
       " 9.277326076790361,\n",
       " 9.276069699421342,\n",
       " 9.2748169367649,\n",
       " 9.273567776949902,\n",
       " 9.272322208147381,\n",
       " 9.27108021857032,\n",
       " 9.26984179647346,\n",
       " 9.26860693015309,\n",
       " 9.26737560794686,\n",
       " 9.266147818233602,\n",
       " 9.264923549433036,\n",
       " 9.263702790005723,\n",
       " 9.262485528452737,\n",
       " 9.261271753315562,\n",
       " 9.26006145317585,\n",
       " 9.258854616655277,\n",
       " 9.257651232415286,\n",
       " 9.256451289156997,\n",
       " 9.255254775620966,\n",
       " 9.254061680586979,\n",
       " 9.25287199287391,\n",
       " 9.251685701339587,\n",
       " 9.25050279488048,\n",
       " 9.249323262431659,\n",
       " 9.24814709296658,\n",
       " 9.246974275496814,\n",
       " 9.24580479907209,\n",
       " 9.24463865277986,\n",
       " 9.24347582574537,\n",
       " 9.242316307131311,\n",
       " 9.241160086137786,\n",
       " 9.240007152002038,\n",
       " 9.238857493998346,\n",
       " 9.237711101437894,\n",
       " 9.236567963668492,\n",
       " 9.235428070074558,\n",
       " 9.234291410076866,\n",
       " 9.233157973132395,\n",
       " 9.232027748734232,\n",
       " 9.230900726411326,\n",
       " 9.229776895728444,\n",
       " 9.228656246285928,\n",
       " 9.227538767719572,\n",
       " 9.226424449700476,\n",
       " 9.22531328193491,\n",
       " 9.224205254164142,\n",
       " 9.223100356164267,\n",
       " 9.221998577746186,\n",
       " 9.22089990875528,\n",
       " 9.219804339071393,\n",
       " 9.218711858608632,\n",
       " 9.217622457315285,\n",
       " 9.216536125173612,\n",
       " 9.215452852199736,\n",
       " 9.214372628443492,\n",
       " 9.213295443988331,\n",
       " 9.212221288951145,\n",
       " 9.21115015348212,\n",
       " 9.21008202776463,\n",
       " 9.209016902015106,\n",
       " 9.20795476648287,\n",
       " 9.206895611450044,\n",
       " 9.205839427231387,\n",
       " 9.204786204174185,\n",
       " 9.203735932658123,\n",
       " 9.20268860309511,\n",
       " 9.20164420592924,\n",
       " 9.200602731636575,\n",
       " 9.199564170725106,\n",
       " 9.198528513734528,\n",
       " 9.197495751236202,\n",
       " 9.196465873833006,\n",
       " 9.195438872159185,\n",
       " 9.194414736880276,\n",
       " 9.19339345869292,\n",
       " 9.19237502832486,\n",
       " 9.191359436534666,\n",
       " 9.190346674111767,\n",
       " 9.189336731876203,\n",
       " 9.18832960067862,\n",
       " 9.187325271400072,\n",
       " 9.186323734951946,\n",
       " 9.185324982275871,\n",
       " 9.184329004343503,\n",
       " 9.183335792156564,\n",
       " 9.182345336746577,\n",
       " 9.181357629174856,\n",
       " 9.180372660532365,\n",
       " 9.179390421939612,\n",
       " 9.178410904546503,\n",
       " 9.177434099532297,\n",
       " 9.176459998105432,\n",
       " 9.17548859150351,\n",
       " 9.17451987099306,\n",
       " 9.173553827869526,\n",
       " 9.172590453457154,\n",
       " 9.171629739108837,\n",
       " 9.170671676206103,\n",
       " 9.169716256158885,\n",
       " 9.1687634704055,\n",
       " 9.167813310412583,\n",
       " 9.166865767674864,\n",
       " 9.165920833715173,\n",
       " 9.16497850008429,\n",
       " 9.164038758360864,\n",
       " 9.163101600151302,\n",
       " 9.16216701708968,\n",
       " 9.161235000837616,\n",
       " 9.160305543084228,\n",
       " 9.159378635545977,\n",
       " 9.158454269966606,\n",
       " 9.157532438117043,\n",
       " 9.15661313179526,\n",
       " 9.155696342826264,\n",
       " 9.154782063061905,\n",
       " 9.15387028438087,\n",
       " 9.152960998688524,\n",
       " 9.15205419791683,\n",
       " 9.151149874024302,\n",
       " 9.150248018995837,\n",
       " 9.149348624842702,\n",
       " 9.148451683602357,\n",
       " 9.147557187338478,\n",
       " 9.14666512814073,\n",
       " 9.145775498124795,\n",
       " 9.144888289432217,\n",
       " 9.144003494230349,\n",
       " 9.143121104712206,\n",
       " 9.142241113096468,\n",
       " 9.141363511627308,\n",
       " 9.140488292574334,\n",
       " 9.139615448232549,\n",
       " 9.13874497092218,\n",
       " 9.137876852988656,\n",
       " 9.137011086802476,\n",
       " 9.136147664759202,\n",
       " 9.135286579279281,\n",
       " 9.134427822807991,\n",
       " 9.133571387815413,\n",
       " 9.132717266796282,\n",
       " 9.131865452269892,\n",
       " 9.131015936780093,\n",
       " 9.13016871289517,\n",
       " 9.129323773207679,\n",
       " 9.128481110334521,\n",
       " 9.127640716916737,\n",
       " 9.12680258561948,\n",
       " 9.125966709131943,\n",
       " 9.12513308016721,\n",
       " 9.124301691462318,\n",
       " 9.123472535777994,\n",
       " 9.122645605898708,\n",
       " 9.121820894632574,\n",
       " 9.120998394811222,\n",
       " 9.120178099289772,\n",
       " 9.119360000946731,\n",
       " 9.118544092683926,\n",
       " 9.117730367426425,\n",
       " 9.116918818122473,\n",
       " 9.116109437743344,\n",
       " 9.115302219283393,\n",
       " 9.11449715575987,\n",
       " 9.113694240212908,\n",
       " 9.112893465705447,\n",
       " 9.11209482532304,\n",
       " 9.111298312174007,\n",
       " 9.110503919389146,\n",
       " 9.109711640121775,\n",
       " 9.108921467547631,\n",
       " 9.108133394864803,\n",
       " 9.107347415293631,\n",
       " 9.10656352207666,\n",
       " 9.105781708478593,\n",
       " 9.105001967786137,\n",
       " 9.104224293308038,\n",
       " 9.103448678374916,\n",
       " 9.102675116339263,\n",
       " 9.101903600575314,\n",
       " 9.10113412447906,\n",
       " 9.10036668146805,\n",
       " 9.099601264981484,\n",
       " 9.098837868479963,\n",
       " 9.098076485445585,\n",
       " 9.097317109381772,\n",
       " 9.096559733813253,\n",
       " 9.095804352285958,\n",
       " 9.09505095836697,\n",
       " 9.094299545644466,\n",
       " 9.093550107727662,\n",
       " 9.092802638246658,\n",
       " 9.092057130852513,\n",
       " 9.09131357921703,\n",
       " 9.090571977032813,\n",
       " 9.089832318013153,\n",
       " 9.089094595891925,\n",
       " 9.088358804423567,\n",
       " 9.087624937383008,\n",
       " 9.086892988565609,\n",
       " 9.086162951787067,\n",
       " 9.085434820883389,\n",
       " 9.084708589710786,\n",
       " 9.083984252145667,\n",
       " 9.083261802084504,\n",
       " 9.082541233443818,\n",
       " 9.081822540160136,\n",
       " 9.081105716189832,\n",
       " 9.080390755509159,\n",
       " 9.079677652114182,\n",
       " 9.078966400020617,\n",
       " 9.07825699326389,\n",
       " 9.07754942589903,\n",
       " 9.076843692000551,\n",
       " 9.076139785662496,\n",
       " 9.075437700998268,\n",
       " 9.07473743214067,\n",
       " 9.074038973241736,\n",
       " 9.073342318472765,\n",
       " 9.072647462024243,\n",
       " 9.071954398105728,\n",
       " 9.071263120945801,\n",
       " 9.070573624792111,\n",
       " 9.069885903911155,\n",
       " 9.069199952588352,\n",
       " 9.068515765127891,\n",
       " 9.067833335852711,\n",
       " 9.067152659104472,\n",
       " 9.06647372924345,\n",
       " 9.065796540648492,\n",
       " 9.065121087716932,\n",
       " 9.06444736486463,\n",
       " 9.063775366525775,\n",
       " 9.06310508715293,\n",
       " 9.062436521216947,\n",
       " 9.061769663206844,\n",
       " 9.061104507629892,\n",
       " 9.060441049011459,\n",
       " 9.059779281894883,\n",
       " 9.05911920084161,\n",
       " 9.058460800430925,\n",
       " 9.057804075260108,\n",
       " 9.057149019944184,\n",
       " 9.056495629115974,\n",
       " 9.055843897426021,\n",
       " 9.055193819542545,\n",
       " 9.054545390151347,\n",
       " 9.053898603955785,\n",
       " 9.053253455676725,\n",
       " 9.052609940052472,\n",
       " 9.051968051838688,\n",
       " 9.051327785808436,\n",
       " 9.050689136751979,\n",
       " 9.050052099476837,\n",
       " 9.04941666880772,\n",
       " 9.048782839586432,\n",
       " 9.048150606671857,\n",
       " 9.047519964939864,\n",
       " 9.046890909283276,\n",
       " 9.046263434611847,\n",
       " 9.045637535852169,\n",
       " 9.045013207947632,\n",
       " 9.044390445858344,\n",
       " 9.043769244561156,\n",
       " 9.043149599049508,\n",
       " 9.042531504333473,\n",
       " 9.041914955439623,\n",
       " 9.041299947411035,\n",
       " 9.040686475307202,\n",
       " 9.040074534204022,\n",
       " 9.039464119193719,\n",
       " 9.038855225384742,\n",
       " 9.03824784790184,\n",
       " 9.037641981885901,\n",
       " 9.037037622493967,\n",
       " 9.036434764899102,\n",
       " 9.035833404290445,\n",
       " 9.035233535873084,\n",
       " 9.034635154868027,\n",
       " 9.03403825651222,\n",
       " 9.033442836058327,\n",
       " 9.032848888774863,\n",
       " 9.032256409946033,\n",
       " 9.031665394871768,\n",
       " 9.031075838867553,\n",
       " 9.030487737264508,\n",
       " 9.029901085409266,\n",
       " 9.029315878663942,\n",
       " 9.02873211240606,\n",
       " 9.028149782028539,\n",
       " 9.027568882939686,\n",
       " 9.026989410562992,\n",
       " 9.026411360337281,\n",
       " 9.02583472771652,\n",
       " 9.025259508169816,\n",
       " 9.024685697181411,\n",
       " 9.024113290250543,\n",
       " 9.023542282891487,\n",
       " 9.022972670633466,\n",
       " 9.02240444902061,\n",
       " 9.021837613611867,\n",
       " 9.021272159981061,\n",
       " 9.020708083716766,\n",
       " 9.020145380422239,\n",
       " 9.019584045715444,\n",
       " 9.019024075228977,\n",
       " 9.018465464609974,\n",
       " 9.017908209520147,\n",
       " 9.017352305635688,\n",
       " 9.016797748647235,\n",
       " 9.016244534259817,\n",
       " 9.015692658192766,\n",
       " 9.01514211617983,\n",
       " 9.014592903968945,\n",
       " 9.014045017322255,\n",
       " 9.013498452016112,\n",
       " 9.012953203840981,\n",
       " 9.012409268601417,\n",
       " 9.011866642116013,\n",
       " 9.01132532021733,\n",
       " 9.01078529875191,\n",
       " 9.010246573580172,\n",
       " 9.009709140576442,\n",
       " 9.009172995628793,\n",
       " 9.00863813463916,\n",
       " 9.008104553523117,\n",
       " 9.00757224820998,\n",
       " 9.007041214642719,\n",
       " 9.006511448777855,\n",
       " 9.005982946585483,\n",
       " 9.00545570404926,\n",
       " 9.00492971716623,\n",
       " 9.004404981946934,\n",
       " 9.00388149441527,\n",
       " 9.003359250608472,\n",
       " 9.0028382465771,\n",
       " 9.002318478384922,\n",
       " 9.001799942109013,\n",
       " 9.001282633839514,\n",
       " 9.000766549679778,\n",
       " 9.000251685746209,\n",
       " 8.999738038168275,\n",
       " 8.999225603088435,\n",
       " 8.998714376662154,\n",
       " 8.998204355057766,\n",
       " 8.99769553445652,\n",
       " 8.997187911052498,\n",
       " 8.99668148105261,\n",
       " 8.99617624067645,\n",
       " 8.995672186156446,\n",
       " 8.995169313737637,\n",
       " 8.99466761967766,\n",
       " 8.994167100246832,\n",
       " 8.99366775172798,\n",
       " 8.993169570416468,\n",
       " 8.99267255262013,\n",
       " 8.99217669465924,\n",
       " 8.991681992866452,\n",
       " 8.99118844358681,\n",
       " 8.990696043177648,\n",
       " 8.990204788008606,\n",
       " 8.989714674461544,\n",
       " 8.989225698930507,\n",
       " 8.988737857821747,\n",
       " 8.9882511475536,\n",
       " 8.98776556455649,\n",
       " 8.987281105272913,\n",
       " 8.986797766157341,\n",
       " 8.98631554367622,\n",
       " 8.985834434307927,\n",
       " 8.985354434542732,\n",
       " 8.98487554088276,\n",
       " 8.984397749841936,\n",
       " 8.983921057945954,\n",
       " 8.983445461732305,\n",
       " 8.9829709577501,\n",
       " 8.982497542560166,\n",
       " 8.982025212734925,\n",
       " 8.981553964858412,\n",
       " 8.9810837955262,\n",
       " 8.980614701345347,\n",
       " 8.980146678934451,\n",
       " 8.979679724923468,\n",
       " 8.979213835953832,\n",
       " 8.978749008678276,\n",
       " 8.978285239760929,\n",
       " 8.97782252587715,\n",
       " 8.977360863713574,\n",
       " 8.976900249968049,\n",
       " 8.976440681349638,\n",
       " 8.975982154578496,\n",
       " 8.97552466638593,\n",
       " 8.975068213514302,\n",
       " 8.974612792717,\n",
       " 8.974158400758458,\n",
       " 8.973705034414,\n",
       " 8.973252690469959,\n",
       " 8.972801365723523,\n",
       " 8.972351056982728,\n",
       " 8.97190176106649,\n",
       " 8.971453474804418,\n",
       " 8.971006195036978,\n",
       " 8.970559918615294,\n",
       " 8.970114642401171,\n",
       " 8.969670363267095,\n",
       " 8.969227078096143,\n",
       " 8.96878478378198,\n",
       " 8.968343477228817,\n",
       " 8.967903155351369,\n",
       " 8.967463815074845,\n",
       " 8.967025453334852,\n",
       " 8.966588067077454,\n",
       " 8.966151653259072,\n",
       " 8.965716208846478,\n",
       " 8.965281730816683,\n",
       " 8.964848216157074,\n",
       " 8.964415661865214,\n",
       " 8.963984064948871,\n",
       " 8.963553422426006,\n",
       " 8.963123731324739,\n",
       " 8.962694988683218,\n",
       " 8.962267191549728,\n",
       " 8.961840336982588,\n",
       " 8.961414422050094,\n",
       " 8.960989443830533,\n",
       " 8.960565399412161,\n",
       " 8.96014228589307,\n",
       " 8.959720100381295,\n",
       " 8.959298839994679,\n",
       " 8.958878501860879,\n",
       " 8.958459083117345,\n",
       " 8.958040580911252,\n",
       " 8.957622992399525,\n",
       " 8.957206314748703,\n",
       " 8.95679054513506,\n",
       " 8.9563756807444,\n",
       " 8.955961718772185,\n",
       " 8.95554865642341,\n",
       " 8.955136490912565,\n",
       " 8.954725219463665,\n",
       " 8.95431483931017,\n",
       " 8.953905347694967,\n",
       " 8.953496741870362,\n",
       " 8.953089019097998,\n",
       " 8.952682176648866,\n",
       " 8.952276211803257,\n",
       " 8.951871121850756,\n",
       " 8.951466904090172,\n",
       " 8.951063555829528,\n",
       " 8.95066107438601,\n",
       " 8.950259457086014,\n",
       " 8.949858701264992,\n",
       " 8.949458804267547,\n",
       " 8.949059763447258,\n",
       " 8.948661576166822,\n",
       " 8.948264239797908,\n",
       " 8.947867751721127,\n",
       " 8.947472109326064,\n",
       " 8.947077310011181,\n",
       " 8.946683351183864,\n",
       " 8.946290230260326,\n",
       " 8.945897944665614,\n",
       " 8.945506491833548,\n",
       " 8.94511586920672,\n",
       " 8.94472607423647,\n",
       " 8.94433710438282,\n",
       " 8.943948957114491,\n",
       " 8.943561629908835,\n",
       " 8.943175120251844,\n",
       " 8.942789425638061,\n",
       " 8.942404543570614,\n",
       " 8.942020471561177,\n",
       " 8.941637207129885,\n",
       " 8.941254747805402,\n",
       " 8.940873091124798,\n",
       " 8.940492234633574,\n",
       " 8.940112175885623,\n",
       " 8.939732912443201,\n",
       " 8.939354441876887,\n",
       " 8.938976761765582,\n",
       " 8.938599869696468,\n",
       " 8.938223763264954,\n",
       " 8.937848440074674,\n",
       " 8.93747389773749,\n",
       " 8.937100133873413,\n",
       " 8.936727146110583,\n",
       " 8.936354932085246,\n",
       " 8.935983489441776,\n",
       " 8.935612815832542,\n",
       " 8.93524290891803,\n",
       " 8.934873766366632,\n",
       " 8.934505385854797,\n",
       " 8.934137765066874,\n",
       " 8.933770901695162,\n",
       " 8.93340479343986,\n",
       " 8.933039438009004,\n",
       " 8.932674833118517,\n",
       " 8.932310976492085,\n",
       " 8.931947865861272,\n",
       " 8.931585498965294,\n",
       " 8.931223873551197,\n",
       " 8.930862987373702,\n",
       " 8.930502838195217,\n",
       " 8.930143423785804,\n",
       " 8.929784741923179,\n",
       " 8.929426790392636,\n",
       " 8.92906956698711,\n",
       " 8.928713069507012,\n",
       " 8.928357295760343,\n",
       " 8.928002243562602,\n",
       " 8.927647910736725,\n",
       " 8.927294295113164,\n",
       " 8.926941394529765,\n",
       " 8.92658920683179,\n",
       " 8.926237729871849,\n",
       " 8.92588696150998,\n",
       " 8.925536899613471,\n",
       " 8.925187542056952,\n",
       " 8.924838886722336,\n",
       " 8.924490931498767,\n",
       " 8.924143674282645,\n",
       " 8.923797112977567,\n",
       " 8.923451245494297,\n",
       " 8.923106069750778,\n",
       " 8.922761583672068,\n",
       " 8.922417785190325,\n",
       " 8.922074672244834]"
      ]
     },
     "execution_count": 300,
     "metadata": {},
     "output_type": "execute_result"
    }
   ],
   "source": [
    "training_loss"
   ]
  },
  {
   "cell_type": "code",
   "execution_count": 301,
   "metadata": {
    "ExecuteTime": {
     "end_time": "2020-12-09T19:56:46.955388Z",
     "start_time": "2020-12-09T19:56:46.949355Z"
    }
   },
   "outputs": [],
   "source": [
    "def entropy_plot(loss, is_training):\n",
    "    if is_training:\n",
    "        plt.title(\"loss per iteration in training\")\n",
    "    else:\n",
    "        plt.title(\"loss per iteration in testing\")\n",
    "        \n",
    "    plt.plot(loss)\n",
    "    plt.xlabel(\"iteration no.\")\n",
    "    plt.ylabel(\"loss\")"
   ]
  },
  {
   "cell_type": "code",
   "execution_count": 302,
   "metadata": {
    "ExecuteTime": {
     "end_time": "2020-12-09T19:56:47.224907Z",
     "start_time": "2020-12-09T19:56:46.958566Z"
    }
   },
   "outputs": [
    {
     "data": {
      "image/png": "[encoded data removed]",
      "text/plain": [
       "<Figure size 1200x800 with 1 Axes>"
      ]
     },
     "metadata": {},
     "output_type": "display_data"
    }
   ],
   "source": [
    "entropy_plot(training_loss, True)"
   ]
  },
  {
   "cell_type": "markdown",
   "metadata": {},
   "source": [
    "## Confusion Matrix Logistic Regression"
   ]
  },
  {
   "cell_type": "code",
   "execution_count": 320,
   "metadata": {
    "ExecuteTime": {
     "end_time": "2020-12-09T20:02:09.271886Z",
     "start_time": "2020-12-09T20:02:09.244231Z"
    }
   },
   "outputs": [],
   "source": [
    "def get_confusion_matrix_logistic():\n",
    "#     w1, w2, w3\n",
    "    predicted = X_test.dot(np.array(w_s).T)\n",
    "    predicted = np.argmax(predicted, axis = 1)\n",
    "    \n",
    "    columns = ['actual 0', 'actual 1', 'actual 2']\n",
    "    indices = ['predicted 0', 'predicted 1', 'predicted 2']\n",
    "    \n",
    "    df = pd.DataFrame(0, index=indices, columns=columns)\n",
    "    df.loc['predicted 0', 'actual 0'] = np.sum((y_test_1 == 0) & (predicted == 0))\n",
    "    df.loc['predicted 0', 'actual 1'] = np.sum((y_test_1 == 1) & (predicted == 0))\n",
    "    df.loc['predicted 0', 'actual 2'] = np.sum((y_test_1 == 2) & (predicted == 0))\n",
    "    df.loc['predicted 1', 'actual 0'] = np.sum((y_test_1 == 0) & (predicted == 1))\n",
    "    df.loc['predicted 1', 'actual 1'] = np.sum((y_test_1 == 1) & (predicted == 1))\n",
    "    df.loc['predicted 1', 'actual 2'] = np.sum((y_test_1 == 2) & (predicted == 1))\n",
    "    df.loc['predicted 2', 'actual 0'] = np.sum((y_test_1 == 0) & (predicted == 2))\n",
    "    df.loc['predicted 2', 'actual 1'] = np.sum((y_test_1 == 1) & (predicted == 2))\n",
    "    df.loc['predicted 2', 'actual 2'] = np.sum((y_test_1 == 2) & (predicted == 2))\n",
    "    return df"
   ]
  },
  {
   "cell_type": "code",
   "execution_count": 322,
   "metadata": {
    "ExecuteTime": {
     "end_time": "2020-12-09T20:02:14.081523Z",
     "start_time": "2020-12-09T20:02:14.048373Z"
    }
   },
   "outputs": [],
   "source": [
    "confusion_matrix = get_confusion_matrix_logistic()"
   ]
  },
  {
   "cell_type": "code",
   "execution_count": 323,
   "metadata": {
    "ExecuteTime": {
     "end_time": "2020-12-09T20:02:14.960365Z",
     "start_time": "2020-12-09T20:02:14.945058Z"
    }
   },
   "outputs": [
    {
     "data": {
      "text/html": [
       "<div>\n",
       "<style scoped>\n",
       "    .dataframe tbody tr th:only-of-type {\n",
       "        vertical-align: middle;\n",
       "    }\n",
       "\n",
       "    .dataframe tbody tr th {\n",
       "        vertical-align: top;\n",
       "    }\n",
       "\n",
       "    .dataframe thead th {\n",
       "        text-align: right;\n",
       "    }\n",
       "</style>\n",
       "<table border=\"1\" class=\"dataframe\">\n",
       "  <thead>\n",
       "    <tr style=\"text-align: right;\">\n",
       "      <th></th>\n",
       "      <th>actual 0</th>\n",
       "      <th>actual 1</th>\n",
       "      <th>actual 2</th>\n",
       "    </tr>\n",
       "  </thead>\n",
       "  <tbody>\n",
       "    <tr>\n",
       "      <th>predicted 0</th>\n",
       "      <td>10</td>\n",
       "      <td>0</td>\n",
       "      <td>0</td>\n",
       "    </tr>\n",
       "    <tr>\n",
       "      <th>predicted 1</th>\n",
       "      <td>0</td>\n",
       "      <td>9</td>\n",
       "      <td>0</td>\n",
       "    </tr>\n",
       "    <tr>\n",
       "      <th>predicted 2</th>\n",
       "      <td>0</td>\n",
       "      <td>2</td>\n",
       "      <td>9</td>\n",
       "    </tr>\n",
       "  </tbody>\n",
       "</table>\n",
       "</div>"
      ],
      "text/plain": [
       "             actual 0  actual 1  actual 2\n",
       "predicted 0        10         0         0\n",
       "predicted 1         0         9         0\n",
       "predicted 2         0         2         9"
      ]
     },
     "execution_count": 323,
     "metadata": {},
     "output_type": "execute_result"
    }
   ],
   "source": [
    "confusion_matrix"
   ]
  },
  {
   "cell_type": "markdown",
   "metadata": {},
   "source": [
    "## Accuracy"
   ]
  },
  {
   "cell_type": "code",
   "execution_count": 319,
   "metadata": {
    "ExecuteTime": {
     "end_time": "2020-12-09T20:01:30.174907Z",
     "start_time": "2020-12-09T20:01:30.132608Z"
    }
   },
   "outputs": [
    {
     "data": {
      "text/plain": [
       "0.9333333333333333"
      ]
     },
     "execution_count": 319,
     "metadata": {},
     "output_type": "execute_result"
    }
   ],
   "source": [
    "accuracy = np.trace(confusion_matrix.to_numpy() / X_test.shape[0])\n",
    "accuracy"
   ]
  },
  {
   "cell_type": "markdown",
   "metadata": {},
   "source": [
    "# B"
   ]
  },
  {
   "cell_type": "markdown",
   "metadata": {},
   "source": [
    "## Loss Function"
   ]
  },
  {
   "cell_type": "code",
   "execution_count": 327,
   "metadata": {
    "ExecuteTime": {
     "end_time": "2020-12-09T20:20:50.279747Z",
     "start_time": "2020-12-09T20:20:50.270946Z"
    }
   },
   "outputs": [],
   "source": [
    "def calc_loss_regularized(w, regularized_w):\n",
    "    loss = (w[0].dot(w[0]) + w[1].dot(w[1]) + w[2].dot(w[2])) * regularized_w\n",
    "    for i, x in enumerate(X_train):\n",
    "        for k in [0, 1, 2]:\n",
    "            loss -= y_train[i][k] * np.log(softmax(k, x, w))\n",
    "    \n",
    "    return loss"
   ]
  },
  {
   "cell_type": "markdown",
   "metadata": {
    "ExecuteTime": {
     "end_time": "2020-12-09T20:12:53.094206Z",
     "start_time": "2020-12-09T20:12:53.091631Z"
    }
   },
   "source": [
    "## Updating Weights"
   ]
  },
  {
   "cell_type": "code",
   "execution_count": 326,
   "metadata": {
    "ExecuteTime": {
     "end_time": "2020-12-09T20:18:56.528585Z",
     "start_time": "2020-12-09T20:18:56.516565Z"
    }
   },
   "outputs": [],
   "source": [
    "def weight_update_l2(learning_rate, current_w, w_s, k, regularized_w):\n",
    "    gradient = current_w * regularized_w\n",
    "    for index, x in enumerate(X_train):\n",
    "        gradient += (softmax(k, x, w_s)) - y_train[index][k] * x\n",
    "    return current_w - learning_rate * gradient"
   ]
  },
  {
   "cell_type": "markdown",
   "metadata": {},
   "source": [
    "## Regularized Logistic Regression"
   ]
  },
  {
   "cell_type": "code",
   "execution_count": null,
   "metadata": {},
   "outputs": [],
   "source": [
    "def logistic_regression(learning_rate, iteration_no):\n",
    "    w1 = np.zeros(X_test.shape[1])\n",
    "    w2 = w1.copy()\n",
    "    w3 = w1.copy()\n",
    "    losses = list()\n",
    "    \n",
    "    for i in range(iteration_no):\n",
    "        all_weights = [w1, w2, w3]\n",
    "        w1 = weight_update(learning_rate, w1, all_weights, 0)\n",
    "        w2 = weight_update(learning_rate, w2, all_weights, 1)\n",
    "        w3 = weight_update(learning_rate, w3, all_weights, 2)\n",
    "        loss = calc_loss([w1, w2, w3])\n",
    "        losses.append(loss)\n",
    "        \n",
    "    return [w1, w2, w3], losses"
   ]
  },
  {
   "cell_type": "code",
   "execution_count": 330,
   "metadata": {
    "ExecuteTime": {
     "end_time": "2020-12-09T20:23:46.077600Z",
     "start_time": "2020-12-09T20:23:46.059812Z"
    }
   },
   "outputs": [],
   "source": [
    "def regularized_logistic_regression(learining_rate, iteration_no, regularized_w):\n",
    "    w0 = np.zeros(X_test.shape[1])\n",
    "    w1 = w0.copy()\n",
    "    w2 = w0.copy()\n",
    "    losses = list()\n",
    "\n",
    "    for i in range(iteration_no):\n",
    "        all_weights = [w0, w1, w2]\n",
    "        w0 = weight_update_l2(learning_rate, w0, all_weights, 0, regularized_w)\n",
    "        w1 = weight_update_l2(learning_rate, w1, all_weights, 1, regularized_w)\n",
    "        w2 = weight_update_l2(learning_rate, w1, all_weights, 2, regularized_w)\n",
    "        loss = calc_loss_regularized([w0, w1, w2], regularized_w)\n",
    "        losses.append(loss)\n",
    "    \n",
    "    return [w0, w1, w2], losses"
   ]
  },
  {
   "cell_type": "markdown",
   "metadata": {},
   "source": [
    "## Regularized Weight = 10"
   ]
  },
  {
   "cell_type": "code",
   "execution_count": 331,
   "metadata": {
    "ExecuteTime": {
     "end_time": "2020-12-09T20:23:51.744760Z",
     "start_time": "2020-12-09T20:23:46.694987Z"
    }
   },
   "outputs": [
    {
     "data": {
      "text/html": [
       "<div>\n",
       "<style scoped>\n",
       "    .dataframe tbody tr th:only-of-type {\n",
       "        vertical-align: middle;\n",
       "    }\n",
       "\n",
       "    .dataframe tbody tr th {\n",
       "        vertical-align: top;\n",
       "    }\n",
       "\n",
       "    .dataframe thead th {\n",
       "        text-align: right;\n",
       "    }\n",
       "</style>\n",
       "<table border=\"1\" class=\"dataframe\">\n",
       "  <thead>\n",
       "    <tr style=\"text-align: right;\">\n",
       "      <th></th>\n",
       "      <th>actual 0</th>\n",
       "      <th>actual 1</th>\n",
       "      <th>actual 2</th>\n",
       "    </tr>\n",
       "  </thead>\n",
       "  <tbody>\n",
       "    <tr>\n",
       "      <th>predicted 0</th>\n",
       "      <td>7</td>\n",
       "      <td>0</td>\n",
       "      <td>0</td>\n",
       "    </tr>\n",
       "    <tr>\n",
       "      <th>predicted 1</th>\n",
       "      <td>0</td>\n",
       "      <td>0</td>\n",
       "      <td>0</td>\n",
       "    </tr>\n",
       "    <tr>\n",
       "      <th>predicted 2</th>\n",
       "      <td>3</td>\n",
       "      <td>11</td>\n",
       "      <td>9</td>\n",
       "    </tr>\n",
       "  </tbody>\n",
       "</table>\n",
       "</div>"
      ],
      "text/plain": [
       "             actual 0  actual 1  actual 2\n",
       "predicted 0         7         0         0\n",
       "predicted 1         0         0         0\n",
       "predicted 2         3        11         9"
      ]
     },
     "execution_count": 331,
     "metadata": {},
     "output_type": "execute_result"
    }
   ],
   "source": [
    "w_s, training_loss = regularized_logistic_regression(0.005, 500, 10)\n",
    "\n",
    "get_confusion_matrix_logistic()"
   ]
  },
  {
   "cell_type": "markdown",
   "metadata": {
    "ExecuteTime": {
     "end_time": "2020-12-09T20:24:35.437021Z",
     "start_time": "2020-12-09T20:24:35.423488Z"
    }
   },
   "source": [
    "## Regularized Weight = 1"
   ]
  },
  {
   "cell_type": "code",
   "execution_count": 334,
   "metadata": {
    "ExecuteTime": {
     "end_time": "2020-12-09T20:24:58.926399Z",
     "start_time": "2020-12-09T20:24:53.709356Z"
    }
   },
   "outputs": [
    {
     "name": "stderr",
     "output_type": "stream",
     "text": [
      "/usr/lib/python3/dist-packages/ipykernel_launcher.py:8: RuntimeWarning: overflow encountered in exp\n",
      "  \n",
      "/usr/lib/python3/dist-packages/ipykernel_launcher.py:5: RuntimeWarning: divide by zero encountered in log\n",
      "  \"\"\"\n",
      "/usr/lib/python3/dist-packages/ipykernel_launcher.py:5: RuntimeWarning: invalid value encountered in multiply\n",
      "  \"\"\"\n",
      "/usr/lib/python3/dist-packages/ipykernel_launcher.py:4: RuntimeWarning: overflow encountered in exp\n",
      "  after removing the cwd from sys.path.\n",
      "/usr/lib/python3/dist-packages/ipykernel_launcher.py:10: RuntimeWarning: invalid value encountered in double_scalars\n",
      "  # Remove the CWD from sys.path while we load stuff.\n"
     ]
    },
    {
     "data": {
      "text/html": [
       "<div>\n",
       "<style scoped>\n",
       "    .dataframe tbody tr th:only-of-type {\n",
       "        vertical-align: middle;\n",
       "    }\n",
       "\n",
       "    .dataframe tbody tr th {\n",
       "        vertical-align: top;\n",
       "    }\n",
       "\n",
       "    .dataframe thead th {\n",
       "        text-align: right;\n",
       "    }\n",
       "</style>\n",
       "<table border=\"1\" class=\"dataframe\">\n",
       "  <thead>\n",
       "    <tr style=\"text-align: right;\">\n",
       "      <th></th>\n",
       "      <th>actual 0</th>\n",
       "      <th>actual 1</th>\n",
       "      <th>actual 2</th>\n",
       "    </tr>\n",
       "  </thead>\n",
       "  <tbody>\n",
       "    <tr>\n",
       "      <th>predicted 0</th>\n",
       "      <td>10</td>\n",
       "      <td>11</td>\n",
       "      <td>9</td>\n",
       "    </tr>\n",
       "    <tr>\n",
       "      <th>predicted 1</th>\n",
       "      <td>0</td>\n",
       "      <td>0</td>\n",
       "      <td>0</td>\n",
       "    </tr>\n",
       "    <tr>\n",
       "      <th>predicted 2</th>\n",
       "      <td>0</td>\n",
       "      <td>0</td>\n",
       "      <td>0</td>\n",
       "    </tr>\n",
       "  </tbody>\n",
       "</table>\n",
       "</div>"
      ],
      "text/plain": [
       "             actual 0  actual 1  actual 2\n",
       "predicted 0        10        11         9\n",
       "predicted 1         0         0         0\n",
       "predicted 2         0         0         0"
      ]
     },
     "execution_count": 334,
     "metadata": {},
     "output_type": "execute_result"
    }
   ],
   "source": [
    "w_s, training_loss = regularized_logistic_regression(0.005, 500, 1)\n",
    "\n",
    "get_confusion_matrix_logistic()"
   ]
  },
  {
   "cell_type": "markdown",
   "metadata": {
    "ExecuteTime": {
     "end_time": "2020-12-09T20:24:39.192529Z",
     "start_time": "2020-12-09T20:24:39.171468Z"
    }
   },
   "source": [
    "## Regularized Weight = 0.1"
   ]
  },
  {
   "cell_type": "code",
   "execution_count": 335,
   "metadata": {
    "ExecuteTime": {
     "end_time": "2020-12-09T20:25:12.554908Z",
     "start_time": "2020-12-09T20:25:07.470407Z"
    }
   },
   "outputs": [
    {
     "name": "stderr",
     "output_type": "stream",
     "text": [
      "/usr/lib/python3/dist-packages/ipykernel_launcher.py:8: RuntimeWarning: overflow encountered in exp\n",
      "  \n",
      "/usr/lib/python3/dist-packages/ipykernel_launcher.py:5: RuntimeWarning: divide by zero encountered in log\n",
      "  \"\"\"\n",
      "/usr/lib/python3/dist-packages/ipykernel_launcher.py:5: RuntimeWarning: invalid value encountered in multiply\n",
      "  \"\"\"\n",
      "/usr/lib/python3/dist-packages/ipykernel_launcher.py:4: RuntimeWarning: overflow encountered in exp\n",
      "  after removing the cwd from sys.path.\n",
      "/usr/lib/python3/dist-packages/ipykernel_launcher.py:10: RuntimeWarning: invalid value encountered in double_scalars\n",
      "  # Remove the CWD from sys.path while we load stuff.\n"
     ]
    },
    {
     "data": {
      "text/html": [
       "<div>\n",
       "<style scoped>\n",
       "    .dataframe tbody tr th:only-of-type {\n",
       "        vertical-align: middle;\n",
       "    }\n",
       "\n",
       "    .dataframe tbody tr th {\n",
       "        vertical-align: top;\n",
       "    }\n",
       "\n",
       "    .dataframe thead th {\n",
       "        text-align: right;\n",
       "    }\n",
       "</style>\n",
       "<table border=\"1\" class=\"dataframe\">\n",
       "  <thead>\n",
       "    <tr style=\"text-align: right;\">\n",
       "      <th></th>\n",
       "      <th>actual 0</th>\n",
       "      <th>actual 1</th>\n",
       "      <th>actual 2</th>\n",
       "    </tr>\n",
       "  </thead>\n",
       "  <tbody>\n",
       "    <tr>\n",
       "      <th>predicted 0</th>\n",
       "      <td>10</td>\n",
       "      <td>11</td>\n",
       "      <td>9</td>\n",
       "    </tr>\n",
       "    <tr>\n",
       "      <th>predicted 1</th>\n",
       "      <td>0</td>\n",
       "      <td>0</td>\n",
       "      <td>0</td>\n",
       "    </tr>\n",
       "    <tr>\n",
       "      <th>predicted 2</th>\n",
       "      <td>0</td>\n",
       "      <td>0</td>\n",
       "      <td>0</td>\n",
       "    </tr>\n",
       "  </tbody>\n",
       "</table>\n",
       "</div>"
      ],
      "text/plain": [
       "             actual 0  actual 1  actual 2\n",
       "predicted 0        10        11         9\n",
       "predicted 1         0         0         0\n",
       "predicted 2         0         0         0"
      ]
     },
     "execution_count": 335,
     "metadata": {},
     "output_type": "execute_result"
    }
   ],
   "source": [
    "w_s, training_loss = regularized_logistic_regression(0.005, 500, 0.01)\n",
    "\n",
    "get_confusion_matrix_logistic()"
   ]
  }
 ],
 "metadata": {
  "kernelspec": {
   "display_name": "Python 3",
   "language": "python",
   "name": "python3"
  },
  "language_info": {
   "codemirror_mode": {
    "name": "ipython",
    "version": 3
   },
   "file_extension": ".py",
   "mimetype": "text/x-python",
   "name": "python",
   "nbconvert_exporter": "python",
   "pygments_lexer": "ipython3",
   "version": "3.6.9"
  }
 },
 "nbformat": 4,
 "nbformat_minor": 2
}
