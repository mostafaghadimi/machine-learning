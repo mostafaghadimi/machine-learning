{
 "cells": [
  {
   "cell_type": "markdown",
   "metadata": {},
   "source": [
    "## Importing packages"
   ]
  },
  {
   "cell_type": "code",
   "execution_count": 178,
   "metadata": {
    "ExecuteTime": {
     "end_time": "2020-11-23T22:13:56.070084Z",
     "start_time": "2020-11-23T22:13:55.658061Z"
    }
   },
   "outputs": [],
   "source": [
    "import numpy as np\n",
    "import pandas as pd\n",
    "import matplotlib.pyplot as plt"
   ]
  },
  {
   "cell_type": "code",
   "execution_count": 244,
   "metadata": {
    "ExecuteTime": {
     "end_time": "2020-11-24T00:08:44.984760Z",
     "start_time": "2020-11-24T00:08:44.680623Z"
    }
   },
   "outputs": [
    {
     "data": {
      "text/html": [
       "<div>\n",
       "<style scoped>\n",
       "    .dataframe tbody tr th:only-of-type {\n",
       "        vertical-align: middle;\n",
       "    }\n",
       "\n",
       "    .dataframe tbody tr th {\n",
       "        vertical-align: top;\n",
       "    }\n",
       "\n",
       "    .dataframe thead th {\n",
       "        text-align: right;\n",
       "    }\n",
       "</style>\n",
       "<table border=\"1\" class=\"dataframe\">\n",
       "  <thead>\n",
       "    <tr style=\"text-align: right;\">\n",
       "      <th></th>\n",
       "      <th>Model</th>\n",
       "      <th>Price</th>\n",
       "      <th>Age_08_04</th>\n",
       "      <th>Mfg_Month</th>\n",
       "      <th>Mfg_Year</th>\n",
       "      <th>KM</th>\n",
       "      <th>Fuel_Type</th>\n",
       "      <th>HP</th>\n",
       "      <th>Met_Color</th>\n",
       "      <th>Color</th>\n",
       "      <th>...</th>\n",
       "      <th>Powered_Windows</th>\n",
       "      <th>Power_Steering</th>\n",
       "      <th>Radio</th>\n",
       "      <th>Mistlamps</th>\n",
       "      <th>Sport_Model</th>\n",
       "      <th>Backseat_Divider</th>\n",
       "      <th>Metallic_Rim</th>\n",
       "      <th>Radio_cassette</th>\n",
       "      <th>Parking_Assistant</th>\n",
       "      <th>Tow_Bar</th>\n",
       "    </tr>\n",
       "    <tr>\n",
       "      <th>Id</th>\n",
       "      <th></th>\n",
       "      <th></th>\n",
       "      <th></th>\n",
       "      <th></th>\n",
       "      <th></th>\n",
       "      <th></th>\n",
       "      <th></th>\n",
       "      <th></th>\n",
       "      <th></th>\n",
       "      <th></th>\n",
       "      <th></th>\n",
       "      <th></th>\n",
       "      <th></th>\n",
       "      <th></th>\n",
       "      <th></th>\n",
       "      <th></th>\n",
       "      <th></th>\n",
       "      <th></th>\n",
       "      <th></th>\n",
       "      <th></th>\n",
       "      <th></th>\n",
       "    </tr>\n",
       "  </thead>\n",
       "  <tbody>\n",
       "    <tr>\n",
       "      <th>1</th>\n",
       "      <td>TOYOTA Corolla 2.0 D4D HATCHB TERRA 2/3-Doors</td>\n",
       "      <td>13500</td>\n",
       "      <td>23</td>\n",
       "      <td>10</td>\n",
       "      <td>2002</td>\n",
       "      <td>46986</td>\n",
       "      <td>Diesel</td>\n",
       "      <td>90</td>\n",
       "      <td>1</td>\n",
       "      <td>Blue</td>\n",
       "      <td>...</td>\n",
       "      <td>1</td>\n",
       "      <td>1</td>\n",
       "      <td>0</td>\n",
       "      <td>0</td>\n",
       "      <td>0</td>\n",
       "      <td>1</td>\n",
       "      <td>0</td>\n",
       "      <td>0</td>\n",
       "      <td>0</td>\n",
       "      <td>0</td>\n",
       "    </tr>\n",
       "    <tr>\n",
       "      <th>2</th>\n",
       "      <td>TOYOTA Corolla 2.0 D4D HATCHB TERRA 2/3-Doors</td>\n",
       "      <td>13750</td>\n",
       "      <td>23</td>\n",
       "      <td>10</td>\n",
       "      <td>2002</td>\n",
       "      <td>72937</td>\n",
       "      <td>Diesel</td>\n",
       "      <td>90</td>\n",
       "      <td>1</td>\n",
       "      <td>Silver</td>\n",
       "      <td>...</td>\n",
       "      <td>0</td>\n",
       "      <td>1</td>\n",
       "      <td>0</td>\n",
       "      <td>0</td>\n",
       "      <td>0</td>\n",
       "      <td>1</td>\n",
       "      <td>0</td>\n",
       "      <td>0</td>\n",
       "      <td>0</td>\n",
       "      <td>0</td>\n",
       "    </tr>\n",
       "    <tr>\n",
       "      <th>3</th>\n",
       "      <td>TOYOTA Corolla 2.0 D4D HATCHB TERRA 2/3-Doors</td>\n",
       "      <td>13950</td>\n",
       "      <td>24</td>\n",
       "      <td>9</td>\n",
       "      <td>2002</td>\n",
       "      <td>41711</td>\n",
       "      <td>Diesel</td>\n",
       "      <td>90</td>\n",
       "      <td>1</td>\n",
       "      <td>Blue</td>\n",
       "      <td>...</td>\n",
       "      <td>0</td>\n",
       "      <td>1</td>\n",
       "      <td>0</td>\n",
       "      <td>0</td>\n",
       "      <td>0</td>\n",
       "      <td>1</td>\n",
       "      <td>0</td>\n",
       "      <td>0</td>\n",
       "      <td>0</td>\n",
       "      <td>0</td>\n",
       "    </tr>\n",
       "    <tr>\n",
       "      <th>4</th>\n",
       "      <td>TOYOTA Corolla 2.0 D4D HATCHB TERRA 2/3-Doors</td>\n",
       "      <td>14950</td>\n",
       "      <td>26</td>\n",
       "      <td>7</td>\n",
       "      <td>2002</td>\n",
       "      <td>48000</td>\n",
       "      <td>Diesel</td>\n",
       "      <td>90</td>\n",
       "      <td>0</td>\n",
       "      <td>Black</td>\n",
       "      <td>...</td>\n",
       "      <td>0</td>\n",
       "      <td>1</td>\n",
       "      <td>0</td>\n",
       "      <td>0</td>\n",
       "      <td>0</td>\n",
       "      <td>1</td>\n",
       "      <td>0</td>\n",
       "      <td>0</td>\n",
       "      <td>0</td>\n",
       "      <td>0</td>\n",
       "    </tr>\n",
       "    <tr>\n",
       "      <th>5</th>\n",
       "      <td>TOYOTA Corolla 2.0 D4D HATCHB SOL 2/3-Doors</td>\n",
       "      <td>13750</td>\n",
       "      <td>30</td>\n",
       "      <td>3</td>\n",
       "      <td>2002</td>\n",
       "      <td>38500</td>\n",
       "      <td>Diesel</td>\n",
       "      <td>90</td>\n",
       "      <td>0</td>\n",
       "      <td>Black</td>\n",
       "      <td>...</td>\n",
       "      <td>1</td>\n",
       "      <td>1</td>\n",
       "      <td>0</td>\n",
       "      <td>1</td>\n",
       "      <td>0</td>\n",
       "      <td>1</td>\n",
       "      <td>0</td>\n",
       "      <td>0</td>\n",
       "      <td>0</td>\n",
       "      <td>0</td>\n",
       "    </tr>\n",
       "  </tbody>\n",
       "</table>\n",
       "<p>5 rows × 38 columns</p>\n",
       "</div>"
      ],
      "text/plain": [
       "                                             Model  Price  Age_08_04  \\\n",
       "Id                                                                     \n",
       "1    TOYOTA Corolla 2.0 D4D HATCHB TERRA 2/3-Doors  13500         23   \n",
       "2    TOYOTA Corolla 2.0 D4D HATCHB TERRA 2/3-Doors  13750         23   \n",
       "3    TOYOTA Corolla 2.0 D4D HATCHB TERRA 2/3-Doors  13950         24   \n",
       "4    TOYOTA Corolla 2.0 D4D HATCHB TERRA 2/3-Doors  14950         26   \n",
       "5      TOYOTA Corolla 2.0 D4D HATCHB SOL 2/3-Doors  13750         30   \n",
       "\n",
       "    Mfg_Month  Mfg_Year     KM Fuel_Type  HP  Met_Color   Color  ...  \\\n",
       "Id                                                               ...   \n",
       "1          10      2002  46986    Diesel  90          1    Blue  ...   \n",
       "2          10      2002  72937    Diesel  90          1  Silver  ...   \n",
       "3           9      2002  41711    Diesel  90          1    Blue  ...   \n",
       "4           7      2002  48000    Diesel  90          0   Black  ...   \n",
       "5           3      2002  38500    Diesel  90          0   Black  ...   \n",
       "\n",
       "    Powered_Windows  Power_Steering  Radio  Mistlamps  Sport_Model  \\\n",
       "Id                                                                   \n",
       "1                 1               1      0          0            0   \n",
       "2                 0               1      0          0            0   \n",
       "3                 0               1      0          0            0   \n",
       "4                 0               1      0          0            0   \n",
       "5                 1               1      0          1            0   \n",
       "\n",
       "    Backseat_Divider  Metallic_Rim  Radio_cassette  Parking_Assistant  Tow_Bar  \n",
       "Id                                                                              \n",
       "1                  1             0               0                  0        0  \n",
       "2                  1             0               0                  0        0  \n",
       "3                  1             0               0                  0        0  \n",
       "4                  1             0               0                  0        0  \n",
       "5                  1             0               0                  0        0  \n",
       "\n",
       "[5 rows x 38 columns]"
      ]
     },
     "execution_count": 244,
     "metadata": {},
     "output_type": "execute_result"
    }
   ],
   "source": [
    "df = pd.read_excel(\"./ToyotaCorolla.xls\", \"data\", index_col=0)\n",
    "df.head()"
   ]
  },
  {
   "cell_type": "markdown",
   "metadata": {},
   "source": [
    "## One-hot Encoding\n"
   ]
  },
  {
   "cell_type": "code",
   "execution_count": 163,
   "metadata": {
    "ExecuteTime": {
     "end_time": "2020-11-23T22:05:16.522071Z",
     "start_time": "2020-11-23T22:05:16.470629Z"
    }
   },
   "outputs": [],
   "source": [
    "one_hot_columns = [\"Fuel_Type\", \"Color\"]\n",
    "for column in one_hot_columns:\n",
    "    dummies = pd.get_dummies(df[column])\n",
    "    df[dummies.columns] = dummies\n",
    "df.drop(columns=one_hot_columns, inplace=True)"
   ]
  },
  {
   "cell_type": "code",
   "execution_count": 164,
   "metadata": {
    "ExecuteTime": {
     "end_time": "2020-11-23T22:05:16.542209Z",
     "start_time": "2020-11-23T22:05:16.528866Z"
    }
   },
   "outputs": [
    {
     "data": {
      "text/plain": [
       "(1436, 48)"
      ]
     },
     "execution_count": 164,
     "metadata": {},
     "output_type": "execute_result"
    }
   ],
   "source": [
    "df.drop(columns=[\"Model\"], inplace=True)\n",
    "df.shape"
   ]
  },
  {
   "cell_type": "markdown",
   "metadata": {},
   "source": [
    "## Normalization"
   ]
  },
  {
   "cell_type": "code",
   "execution_count": 165,
   "metadata": {
    "ExecuteTime": {
     "end_time": "2020-11-23T22:05:16.915754Z",
     "start_time": "2020-11-23T22:05:16.809773Z"
    }
   },
   "outputs": [],
   "source": [
    "# MinMax Normalization for better performance\n",
    "df = (df - df.min()) / (df.max() - df.min())"
   ]
  },
  {
   "cell_type": "code",
   "execution_count": 166,
   "metadata": {
    "ExecuteTime": {
     "end_time": "2020-11-23T22:05:16.945461Z",
     "start_time": "2020-11-23T22:05:16.928175Z"
    }
   },
   "outputs": [
    {
     "data": {
      "text/plain": [
       "Price                   0\n",
       "Age_08_04               0\n",
       "Mfg_Month               0\n",
       "Mfg_Year                0\n",
       "KM                      0\n",
       "HP                      0\n",
       "Met_Color               0\n",
       "Automatic               0\n",
       "CC                      0\n",
       "Doors                   0\n",
       "Cylinders            1436\n",
       "Gears                   0\n",
       "Quarterly_Tax           0\n",
       "Weight                  0\n",
       "Mfr_Guarantee           0\n",
       "BOVAG_Guarantee         0\n",
       "Guarantee_Period        0\n",
       "ABS                     0\n",
       "Airbag_1                0\n",
       "Airbag_2                0\n",
       "Airco                   0\n",
       "Automatic_airco         0\n",
       "Boardcomputer           0\n",
       "CD_Player               0\n",
       "Central_Lock            0\n",
       "Powered_Windows         0\n",
       "Power_Steering          0\n",
       "Radio                   0\n",
       "Mistlamps               0\n",
       "Sport_Model             0\n",
       "Backseat_Divider        0\n",
       "Metallic_Rim            0\n",
       "Radio_cassette          0\n",
       "Parking_Assistant       0\n",
       "Tow_Bar                 0\n",
       "CNG                     0\n",
       "Diesel                  0\n",
       "Petrol                  0\n",
       "Beige                   0\n",
       "Black                   0\n",
       "Blue                    0\n",
       "Green                   0\n",
       "Grey                    0\n",
       "Red                     0\n",
       "Silver                  0\n",
       "Violet                  0\n",
       "White                   0\n",
       "Yellow                  0\n",
       "dtype: int64"
      ]
     },
     "execution_count": 166,
     "metadata": {},
     "output_type": "execute_result"
    }
   ],
   "source": [
    "df.isna().sum()"
   ]
  },
  {
   "cell_type": "code",
   "execution_count": 167,
   "metadata": {
    "ExecuteTime": {
     "end_time": "2020-11-23T22:05:17.057507Z",
     "start_time": "2020-11-23T22:05:17.054377Z"
    }
   },
   "outputs": [],
   "source": [
    "df.fillna(0, inplace=True)"
   ]
  },
  {
   "cell_type": "code",
   "execution_count": 168,
   "metadata": {
    "ExecuteTime": {
     "end_time": "2020-11-23T22:05:17.472514Z",
     "start_time": "2020-11-23T22:05:17.461905Z"
    }
   },
   "outputs": [
    {
     "data": {
      "text/plain": [
       "Price                0\n",
       "Age_08_04            0\n",
       "Mfg_Month            0\n",
       "Mfg_Year             0\n",
       "KM                   0\n",
       "HP                   0\n",
       "Met_Color            0\n",
       "Automatic            0\n",
       "CC                   0\n",
       "Doors                0\n",
       "Cylinders            0\n",
       "Gears                0\n",
       "Quarterly_Tax        0\n",
       "Weight               0\n",
       "Mfr_Guarantee        0\n",
       "BOVAG_Guarantee      0\n",
       "Guarantee_Period     0\n",
       "ABS                  0\n",
       "Airbag_1             0\n",
       "Airbag_2             0\n",
       "Airco                0\n",
       "Automatic_airco      0\n",
       "Boardcomputer        0\n",
       "CD_Player            0\n",
       "Central_Lock         0\n",
       "Powered_Windows      0\n",
       "Power_Steering       0\n",
       "Radio                0\n",
       "Mistlamps            0\n",
       "Sport_Model          0\n",
       "Backseat_Divider     0\n",
       "Metallic_Rim         0\n",
       "Radio_cassette       0\n",
       "Parking_Assistant    0\n",
       "Tow_Bar              0\n",
       "CNG                  0\n",
       "Diesel               0\n",
       "Petrol               0\n",
       "Beige                0\n",
       "Black                0\n",
       "Blue                 0\n",
       "Green                0\n",
       "Grey                 0\n",
       "Red                  0\n",
       "Silver               0\n",
       "Violet               0\n",
       "White                0\n",
       "Yellow               0\n",
       "dtype: int64"
      ]
     },
     "execution_count": 168,
     "metadata": {},
     "output_type": "execute_result"
    }
   ],
   "source": [
    "df.isna().sum()"
   ]
  },
  {
   "cell_type": "markdown",
   "metadata": {},
   "source": [
    "## Train Validation Test Split"
   ]
  },
  {
   "cell_type": "code",
   "execution_count": 169,
   "metadata": {
    "ExecuteTime": {
     "end_time": "2020-11-23T22:05:17.818481Z",
     "start_time": "2020-11-23T22:05:17.807333Z"
    }
   },
   "outputs": [],
   "source": [
    "def train_validation_test_split(df, train_size, validation_size, test_size):\n",
    "    train = df.sample(frac=train_size, random_state=0)\n",
    "    df.drop(train.index, inplace=True)\n",
    "    print(\"train_size:\", train.shape)\n",
    "    validation_size = (validation_size) / (validation_size + test_size)\n",
    "    validation = df.sample(frac=validation_size, random_state=0)\n",
    "    df.drop(validation.index, inplace=True)\n",
    "    print(\"validation_size:\", validation.shape)\n",
    "    test = df\n",
    "    print(\"test_size:\", test.shape)\n",
    "    return train, validation, test"
   ]
  },
  {
   "cell_type": "code",
   "execution_count": 170,
   "metadata": {
    "ExecuteTime": {
     "end_time": "2020-11-23T22:05:18.109060Z",
     "start_time": "2020-11-23T22:05:18.085382Z"
    }
   },
   "outputs": [
    {
     "name": "stdout",
     "output_type": "stream",
     "text": [
      "train_size: (1005, 48)\n",
      "validation_size: (216, 48)\n",
      "test_size: (215, 48)\n"
     ]
    }
   ],
   "source": [
    "train_size, validation_size, test_size = 0.7, 0.15, 0.15\n",
    "train, validation, test = train_validation_test_split(df.copy(), train_size, validation_size, test_size)"
   ]
  },
  {
   "cell_type": "code",
   "execution_count": 171,
   "metadata": {
    "ExecuteTime": {
     "end_time": "2020-11-23T22:05:18.423180Z",
     "start_time": "2020-11-23T22:05:18.406776Z"
    }
   },
   "outputs": [],
   "source": [
    "y_train = train[\"Price\"].to_numpy()\n",
    "X_train = train.drop(\"Price\", axis=1).to_numpy()\n",
    "\n",
    "y_validation = validation[\"Price\"].to_numpy()\n",
    "X_validation = validation.drop(\"Price\", axis=1).to_numpy()\n",
    "\n",
    "y_test = test[\"Price\"].to_numpy()\n",
    "X_test = test.drop(\"Price\", axis=1).to_numpy()"
   ]
  },
  {
   "cell_type": "markdown",
   "metadata": {},
   "source": [
    "## Plot Function"
   ]
  },
  {
   "cell_type": "code",
   "execution_count": 255,
   "metadata": {
    "ExecuteTime": {
     "end_time": "2020-11-24T00:17:02.988382Z",
     "start_time": "2020-11-24T00:17:02.939869Z"
    }
   },
   "outputs": [],
   "source": [
    "def plotting(validation_loss, test_loss, method):\n",
    "    plt.plot(validation_loss, label='validation loss')\n",
    "    plt.plot(test_loss, label='test loss')\n",
    "    plt.title(\"{}: Loss of {} iteration with eta {}\".format(method, iterations_no, eta))\n",
    "    plt.legend()\n",
    "    plt.show()"
   ]
  },
  {
   "cell_type": "markdown",
   "metadata": {},
   "source": [
    "## Constant Values"
   ]
  },
  {
   "cell_type": "code",
   "execution_count": 251,
   "metadata": {
    "ExecuteTime": {
     "end_time": "2020-11-24T00:15:13.833027Z",
     "start_time": "2020-11-24T00:15:13.792517Z"
    }
   },
   "outputs": [],
   "source": [
    "# iterations = np.arange(50, 500, 50)\n",
    "# etas = np.arange(0.0001, 0.001, 0.0001)\n",
    "# batch_sizes = np.arange(20, 200, 10)\n",
    "eta, batch_size, iterations_no = 0.0001, 200, 500"
   ]
  },
  {
   "cell_type": "markdown",
   "metadata": {
    "ExecuteTime": {
     "end_time": "2020-11-24T00:13:29.189685Z",
     "start_time": "2020-11-24T00:13:29.149764Z"
    }
   },
   "source": [
    "\n",
    "\n",
    "## 1. Stochastic Gradient Descent\n",
    "\n",
    "$$\n",
    "w^{i +1} = w^{i} + \\eta(t_n - w^{(i)T} \\phi_n)\\phi_n\n",
    "$$"
   ]
  },
  {
   "cell_type": "code",
   "execution_count": 249,
   "metadata": {
    "ExecuteTime": {
     "end_time": "2020-11-24T00:13:38.218852Z",
     "start_time": "2020-11-24T00:13:38.181128Z"
    }
   },
   "outputs": [],
   "source": [
    "def SGD(X_train, y_train, X_validation, y_validation, X_test, y_test, eta, batch_size, iterations):\n",
    "    w = np.zeros(X_train.shape[1])\n",
    "    train_loss, validation_loss, test_loss = list(), list(), list()\n",
    "    \n",
    "    for _ in range(iterations):\n",
    "        indices = np.random.choice(X_train.shape[0], batch_size, replace=False)\n",
    "        selected_X_train = X_train[indices]\n",
    "        selected_y_train = y_train[indices]\n",
    "        train_SSE = (np.sum(selected_y_train - selected_X_train.dot(w))**2)/2\n",
    "        validation_SSE = (np.sum(y_validation - X_validation.dot(w))**2)/2\n",
    "        test_SSE = (np.sum(y_test - X_test.dot(w))**2)/2 \n",
    "        train_loss.append(train_SSE)\n",
    "        validation_loss.append(validation_SSE)\n",
    "        test_loss.append(test_SSE)\n",
    "        w += eta * (selected_y_train - selected_X_train.dot(w)).dot(selected_X_train)\n",
    "    return train_loss, validation_loss, test_loss, w"
   ]
  },
  {
   "cell_type": "code",
   "execution_count": 256,
   "metadata": {
    "ExecuteTime": {
     "end_time": "2020-11-24T00:17:06.227219Z",
     "start_time": "2020-11-24T00:17:05.678239Z"
    },
    "scrolled": true
   },
   "outputs": [
    {
     "data": {
      "image/png": "[encoded data removed]",
      "text/plain": [
       "<Figure size 432x288 with 1 Axes>"
      ]
     },
     "metadata": {},
     "output_type": "display_data"
    }
   ],
   "source": [
    "train_loss, validation_loss, test_loss, w = SGD(X_train, y_train, X_validation, y_validation, X_test, y_test, eta, batch_size, iterations_no)\n",
    "plotting(train_loss, validation_loss, \"SGD\")"
   ]
  },
  {
   "cell_type": "markdown",
   "metadata": {},
   "source": [
    "## 2. Ridge Regression"
   ]
  },
  {
   "cell_type": "code",
   "execution_count": 260,
   "metadata": {
    "ExecuteTime": {
     "end_time": "2020-11-24T00:18:46.373613Z",
     "start_time": "2020-11-24T00:18:46.331499Z"
    },
    "scrolled": true
   },
   "outputs": [],
   "source": [
    "def SGD_Regularized(X_train, y_train, X_validation, y_validation, X_test, y_test, eta, batch_size, iterations):\n",
    "    w = np.zeros(X_train.shape[1])\n",
    "    train_loss, validation_loss, test_loss = list(), list(), list()\n",
    "    \n",
    "    for _ in range(iterations):\n",
    "        indices = np.random.choice(X_train.shape[0], batch_size, replace=False)\n",
    "        selected_X_train = X_train[indices]\n",
    "        selected_y_train = y_train[indices]\n",
    "        train_SSE =( (np.sum(selected_y_train - selected_X_train.dot(w))**2)  + np.sum(w.T.dot(w)))/2\n",
    "        validation_SSE = ((np.sum(y_validation - X_validation.dot(w))**2)  + np.sum(w.T.dot(w)))/2\n",
    "        test_SSE = ((np.sum(y_test - X_test.dot(w))**2) + np.sum(w.T.dot(w)))/2 \n",
    "        train_loss.append(train_SSE)\n",
    "        validation_loss.append(validation_SSE)\n",
    "        test_loss.append(test_SSE)\n",
    "        w += eta * ((selected_y_train - selected_X_train.dot(w)).dot(selected_X_train) - w)\n",
    "    return train_loss, validation_loss, test_loss, w"
   ]
  },
  {
   "cell_type": "code",
   "execution_count": 262,
   "metadata": {
    "ExecuteTime": {
     "end_time": "2020-11-24T00:18:59.159794Z",
     "start_time": "2020-11-24T00:18:58.741563Z"
    }
   },
   "outputs": [],
   "source": [
    "l1_train_loss, l1_validation_loss, l1_test_loss, w = SGD_Regularized(X_train, y_train, X_validation, y_validation, X_test, y_test, eta, batch_size, iterations_no)"
   ]
  },
  {
   "cell_type": "code",
   "execution_count": 263,
   "metadata": {
    "ExecuteTime": {
     "end_time": "2020-11-24T00:18:59.388544Z",
     "start_time": "2020-11-24T00:18:59.162404Z"
    }
   },
   "outputs": [
    {
     "data": {
      "image/png": "[encoded data removed]",
      "text/plain": [
       "<Figure size 432x288 with 1 Axes>"
      ]
     },
     "metadata": {},
     "output_type": "display_data"
    }
   ],
   "source": [
    "plotting(l1_train_loss, l1_validation_loss, \"SGD Regularized\")"
   ]
  },
  {
   "cell_type": "markdown",
   "metadata": {},
   "source": [
    "## 3. $$||Y - XW||_1$$"
   ]
  },
  {
   "cell_type": "code",
   "execution_count": 264,
   "metadata": {
    "ExecuteTime": {
     "end_time": "2020-11-24T00:19:17.781802Z",
     "start_time": "2020-11-24T00:19:17.719703Z"
    }
   },
   "outputs": [],
   "source": [
    "def SGD_norm1(X_train, y_train, X_validation, y_validation, X_test, y_test, eta, batch_size, iterations):\n",
    "    w = np.zeros(X_train.shape[1])\n",
    "    train_loss, validation_loss, test_loss = list(), list(), list()\n",
    "    \n",
    "    for _ in range(iterations):\n",
    "        indices = np.random.choice(X_train.shape[0], batch_size, replace=False)\n",
    "        selected_X_train = X_train[indices]\n",
    "        selected_y_train = y_train[indices]\n",
    "        train_SSE = np.sum(np.abs(selected_y_train - selected_X_train.dot(w)))/2\n",
    "        validation_SSE = np.sum(np.abs(y_validation - X_validation.dot(w)))/2\n",
    "        test_SSE = np.sum(np.abs(y_test - X_test.dot(w)))/2\n",
    "        train_loss.append(train_SSE)\n",
    "        validation_loss.append(validation_SSE)\n",
    "        test_loss.append(test_SSE)\n",
    "        gradient = selected_X_train\n",
    "        gradient[(selected_y_train - selected_X_train.dot(w)) < 0] = gradient[(selected_y_train - selected_X_train.dot(w)) < 0] * (-1)\n",
    "        gradient = np.sum(gradient, axis=0)\n",
    "        w += eta * gradient\n",
    "    return train_loss, validation_loss, test_loss, w"
   ]
  },
  {
   "cell_type": "code",
   "execution_count": 265,
   "metadata": {
    "ExecuteTime": {
     "end_time": "2020-11-24T00:19:18.839927Z",
     "start_time": "2020-11-24T00:19:18.460407Z"
    }
   },
   "outputs": [],
   "source": [
    "n1_train_loss, n1_validation_loss, n1_test_loss, w = SGD_norm1(X_train, y_train, X_validation, y_validation, X_test, y_test, eta, batch_size, iterations_no)"
   ]
  },
  {
   "cell_type": "code",
   "execution_count": 266,
   "metadata": {
    "ExecuteTime": {
     "end_time": "2020-11-24T00:20:02.469678Z",
     "start_time": "2020-11-24T00:20:02.166088Z"
    }
   },
   "outputs": [
    {
     "data": {
      "image/png": "[encoded data removed]",
      "text/plain": [
       "<Figure size 432x288 with 1 Axes>"
      ]
     },
     "metadata": {},
     "output_type": "display_data"
    }
   ],
   "source": [
    "plotting(n1_validation_loss, n1_test_loss, \"SGD norm1\")"
   ]
  },
  {
   "cell_type": "code",
   "execution_count": null,
   "metadata": {},
   "outputs": [],
   "source": []
  }
 ],
 "metadata": {
  "kernelspec": {
   "display_name": "Python 3",
   "language": "python",
   "name": "python3"
  },
  "language_info": {
   "codemirror_mode": {
    "name": "ipython",
    "version": 3
   },
   "file_extension": ".py",
   "mimetype": "text/x-python",
   "name": "python",
   "nbconvert_exporter": "python",
   "pygments_lexer": "ipython3",
   "version": "3.6.9"
  }
 },
 "nbformat": 4,
 "nbformat_minor": 2
}
