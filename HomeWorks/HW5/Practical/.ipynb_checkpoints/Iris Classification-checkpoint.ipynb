{
 "cells": [
  {
   "cell_type": "markdown",
   "metadata": {},
   "source": [
    "# Import Packages"
   ]
  },
  {
   "cell_type": "code",
   "execution_count": 42,
   "metadata": {
    "ExecuteTime": {
     "end_time": "2020-12-09T15:59:14.733835Z",
     "start_time": "2020-12-09T15:59:14.716254Z"
    }
   },
   "outputs": [],
   "source": [
    "import pandas as pd\n",
    "import matplotlib.pyplot as plt\n",
    "import numpy as np\n",
    "from sklearn.datasets import load_iris\n",
    "import random"
   ]
  },
  {
   "cell_type": "markdown",
   "metadata": {},
   "source": [
    "# Matplotlib Configuration"
   ]
  },
  {
   "cell_type": "code",
   "execution_count": 47,
   "metadata": {
    "ExecuteTime": {
     "end_time": "2020-12-09T16:14:55.193241Z",
     "start_time": "2020-12-09T16:14:55.186550Z"
    }
   },
   "outputs": [],
   "source": [
    "plt.rcParams['figure.figsize'] = [12, 8]\n",
    "plt.rcParams['figure.dpi'] = 100 "
   ]
  },
  {
   "cell_type": "markdown",
   "metadata": {},
   "source": [
    "## Loading dataset"
   ]
  },
  {
   "cell_type": "code",
   "execution_count": 9,
   "metadata": {
    "ExecuteTime": {
     "end_time": "2020-12-09T14:47:53.776440Z",
     "start_time": "2020-12-09T14:47:53.729395Z"
    }
   },
   "outputs": [
    {
     "data": {
      "text/html": [
       "<div>\n",
       "<style scoped>\n",
       "    .dataframe tbody tr th:only-of-type {\n",
       "        vertical-align: middle;\n",
       "    }\n",
       "\n",
       "    .dataframe tbody tr th {\n",
       "        vertical-align: top;\n",
       "    }\n",
       "\n",
       "    .dataframe thead th {\n",
       "        text-align: right;\n",
       "    }\n",
       "</style>\n",
       "<table border=\"1\" class=\"dataframe\">\n",
       "  <thead>\n",
       "    <tr style=\"text-align: right;\">\n",
       "      <th></th>\n",
       "      <th>sepal length (cm)</th>\n",
       "      <th>sepal width (cm)</th>\n",
       "      <th>petal length (cm)</th>\n",
       "      <th>petal width (cm)</th>\n",
       "      <th>target</th>\n",
       "    </tr>\n",
       "  </thead>\n",
       "  <tbody>\n",
       "    <tr>\n",
       "      <th>0</th>\n",
       "      <td>5.1</td>\n",
       "      <td>3.5</td>\n",
       "      <td>1.4</td>\n",
       "      <td>0.2</td>\n",
       "      <td>0</td>\n",
       "    </tr>\n",
       "    <tr>\n",
       "      <th>1</th>\n",
       "      <td>4.9</td>\n",
       "      <td>3.0</td>\n",
       "      <td>1.4</td>\n",
       "      <td>0.2</td>\n",
       "      <td>0</td>\n",
       "    </tr>\n",
       "    <tr>\n",
       "      <th>2</th>\n",
       "      <td>4.7</td>\n",
       "      <td>3.2</td>\n",
       "      <td>1.3</td>\n",
       "      <td>0.2</td>\n",
       "      <td>0</td>\n",
       "    </tr>\n",
       "    <tr>\n",
       "      <th>3</th>\n",
       "      <td>4.6</td>\n",
       "      <td>3.1</td>\n",
       "      <td>1.5</td>\n",
       "      <td>0.2</td>\n",
       "      <td>0</td>\n",
       "    </tr>\n",
       "    <tr>\n",
       "      <th>4</th>\n",
       "      <td>5.0</td>\n",
       "      <td>3.6</td>\n",
       "      <td>1.4</td>\n",
       "      <td>0.2</td>\n",
       "      <td>0</td>\n",
       "    </tr>\n",
       "    <tr>\n",
       "      <th>...</th>\n",
       "      <td>...</td>\n",
       "      <td>...</td>\n",
       "      <td>...</td>\n",
       "      <td>...</td>\n",
       "      <td>...</td>\n",
       "    </tr>\n",
       "    <tr>\n",
       "      <th>145</th>\n",
       "      <td>6.7</td>\n",
       "      <td>3.0</td>\n",
       "      <td>5.2</td>\n",
       "      <td>2.3</td>\n",
       "      <td>2</td>\n",
       "    </tr>\n",
       "    <tr>\n",
       "      <th>146</th>\n",
       "      <td>6.3</td>\n",
       "      <td>2.5</td>\n",
       "      <td>5.0</td>\n",
       "      <td>1.9</td>\n",
       "      <td>2</td>\n",
       "    </tr>\n",
       "    <tr>\n",
       "      <th>147</th>\n",
       "      <td>6.5</td>\n",
       "      <td>3.0</td>\n",
       "      <td>5.2</td>\n",
       "      <td>2.0</td>\n",
       "      <td>2</td>\n",
       "    </tr>\n",
       "    <tr>\n",
       "      <th>148</th>\n",
       "      <td>6.2</td>\n",
       "      <td>3.4</td>\n",
       "      <td>5.4</td>\n",
       "      <td>2.3</td>\n",
       "      <td>2</td>\n",
       "    </tr>\n",
       "    <tr>\n",
       "      <th>149</th>\n",
       "      <td>5.9</td>\n",
       "      <td>3.0</td>\n",
       "      <td>5.1</td>\n",
       "      <td>1.8</td>\n",
       "      <td>2</td>\n",
       "    </tr>\n",
       "  </tbody>\n",
       "</table>\n",
       "<p>150 rows × 5 columns</p>\n",
       "</div>"
      ],
      "text/plain": [
       "     sepal length (cm)  sepal width (cm)  petal length (cm)  petal width (cm)  \\\n",
       "0                  5.1               3.5                1.4               0.2   \n",
       "1                  4.9               3.0                1.4               0.2   \n",
       "2                  4.7               3.2                1.3               0.2   \n",
       "3                  4.6               3.1                1.5               0.2   \n",
       "4                  5.0               3.6                1.4               0.2   \n",
       "..                 ...               ...                ...               ...   \n",
       "145                6.7               3.0                5.2               2.3   \n",
       "146                6.3               2.5                5.0               1.9   \n",
       "147                6.5               3.0                5.2               2.0   \n",
       "148                6.2               3.4                5.4               2.3   \n",
       "149                5.9               3.0                5.1               1.8   \n",
       "\n",
       "     target  \n",
       "0         0  \n",
       "1         0  \n",
       "2         0  \n",
       "3         0  \n",
       "4         0  \n",
       "..      ...  \n",
       "145       2  \n",
       "146       2  \n",
       "147       2  \n",
       "148       2  \n",
       "149       2  \n",
       "\n",
       "[150 rows x 5 columns]"
      ]
     },
     "execution_count": 9,
     "metadata": {},
     "output_type": "execute_result"
    }
   ],
   "source": [
    "iris = load_iris(as_frame=True)\n",
    "df = pd.DataFrame(iris['data'])\n",
    "df['target'] = iris['target']\n",
    "df"
   ]
  },
  {
   "cell_type": "markdown",
   "metadata": {},
   "source": [
    "## Train Test split"
   ]
  },
  {
   "cell_type": "code",
   "execution_count": 7,
   "metadata": {
    "ExecuteTime": {
     "end_time": "2020-12-09T14:47:49.041543Z",
     "start_time": "2020-12-09T14:47:49.027625Z"
    }
   },
   "outputs": [],
   "source": [
    "def train_test_split(df, train_size, test_size):\n",
    "    train = df.sample(frac=train_size, random_state=0)\n",
    "    print(\"train_size:\", train.shape)\n",
    "    df.drop(train.index, inplace=True)\n",
    "    test = df\n",
    "    print(\"test_size:\", test.shape)\n",
    "    return train, test"
   ]
  },
  {
   "cell_type": "code",
   "execution_count": 10,
   "metadata": {
    "ExecuteTime": {
     "end_time": "2020-12-09T14:48:01.544287Z",
     "start_time": "2020-12-09T14:48:01.521264Z"
    }
   },
   "outputs": [
    {
     "name": "stdout",
     "output_type": "stream",
     "text": [
      "train_size: (120, 5)\n",
      "test_size: (30, 5)\n"
     ]
    }
   ],
   "source": [
    "train_size, test_size = 0.8, 0.2\n",
    "train, test = train_test_split(df.copy(), train_size, test_size)"
   ]
  },
  {
   "cell_type": "code",
   "execution_count": 17,
   "metadata": {
    "ExecuteTime": {
     "end_time": "2020-12-09T14:52:54.368367Z",
     "start_time": "2020-12-09T14:52:54.346125Z"
    }
   },
   "outputs": [
    {
     "data": {
      "text/plain": [
       "((120,), (120, 4), (30,), (30, 4))"
      ]
     },
     "execution_count": 17,
     "metadata": {},
     "output_type": "execute_result"
    }
   ],
   "source": [
    "y_train = train['target'].to_numpy()\n",
    "X_train = train.drop('target', axis=1).to_numpy()\n",
    "\n",
    "y_test = test['target'].to_numpy()\n",
    "X_test = test.drop('target', axis=1).to_numpy()\n",
    "\n",
    "y_train.shape, X_train.shape, y_test.shape, X_test.shape"
   ]
  },
  {
   "cell_type": "markdown",
   "metadata": {},
   "source": [
    "# Perceptron\n",
    "\n",
    "$$E_p(w) = -\\Sigma_{n \\in M} w^T\\phi_nt_n$$"
   ]
  },
  {
   "cell_type": "markdown",
   "metadata": {},
   "source": [
    "## Removing `target==2` samples"
   ]
  },
  {
   "cell_type": "code",
   "execution_count": 28,
   "metadata": {
    "ExecuteTime": {
     "end_time": "2020-12-09T15:11:22.970061Z",
     "start_time": "2020-12-09T15:11:22.949113Z"
    }
   },
   "outputs": [],
   "source": [
    "p_train = train.drop(train[train['target'] == 2].index)\n",
    "p_test = test.drop(test[test['target'] == 2].index)\n",
    "\n",
    "p_y_train = p_train['target'].to_numpy()\n",
    "p_X_train = p_train.drop('target', axis=1).to_numpy()\n",
    "\n",
    "p_y_test = p_test['target'].to_numpy()\n",
    "p_X_test = p_test.drop('target', axis=1).to_numpy()"
   ]
  },
  {
   "cell_type": "code",
   "execution_count": 37,
   "metadata": {
    "ExecuteTime": {
     "end_time": "2020-12-09T15:56:53.340111Z",
     "start_time": "2020-12-09T15:56:53.329839Z"
    }
   },
   "outputs": [
    {
     "data": {
      "text/plain": [
       "(79, 79)"
      ]
     },
     "execution_count": 37,
     "metadata": {},
     "output_type": "execute_result"
    }
   ],
   "source": [
    "len(p_X_train), len(p_y_train)"
   ]
  },
  {
   "cell_type": "markdown",
   "metadata": {},
   "source": [
    "## Number of misclassified"
   ]
  },
  {
   "cell_type": "code",
   "execution_count": 43,
   "metadata": {
    "ExecuteTime": {
     "end_time": "2020-12-09T15:59:18.513116Z",
     "start_time": "2020-12-09T15:59:18.497181Z"
    }
   },
   "outputs": [],
   "source": [
    "def misclassified_list(w):\n",
    "    misclassified_arr = list()\n",
    "    for index, x in enumerate(p_X_train):\n",
    "        if w.dot(x) * p_y_train[index] <= 0:\n",
    "            misclassified_arr.append((x, p_y_train[index]))\n",
    "            \n",
    "    return misclassified_arr"
   ]
  },
  {
   "cell_type": "markdown",
   "metadata": {
    "ExecuteTime": {
     "end_time": "2020-12-09T16:02:19.185208Z",
     "start_time": "2020-12-09T16:02:19.175183Z"
    }
   },
   "source": [
    "## Train Perceptron Method"
   ]
  },
  {
   "cell_type": "code",
   "execution_count": 61,
   "metadata": {
    "ExecuteTime": {
     "end_time": "2020-12-09T16:30:49.559572Z",
     "start_time": "2020-12-09T16:30:49.355311Z"
    }
   },
   "outputs": [],
   "source": [
    "def train_perceptron(learning_rate, iteration_no):\n",
    "    all_misclassified = list()\n",
    "    w = np.zeros(p_X_test.shape[1])\n",
    "    misclassified = misclassified_list(w)\n",
    "    current_misclassified = len(misclassified)\n",
    "    all_misclassified.append(current_misclassified)\n",
    "    counter = 0\n",
    "    \n",
    "    while len(misclassified) > 0:\n",
    "        i = random.randint(0, len(misclassified) - 1)\n",
    "        x, target = misclassified[i]\n",
    "        w += learning_rate * target * x\n",
    "        counter += 1\n",
    "\n",
    "        if counter == iteration_no:\n",
    "            break\n",
    "            \n",
    "        misclassified = misclassified_list(w)\n",
    "        current_misclassified = len(misclassified)\n",
    "        all_misclassified.append(current_misclassified)\n",
    "    \n",
    "    return w, all_misclassified\n",
    "\n",
    "learning_rate, iteration_no = 0.001, 1200\n",
    "w_perceptron, all_misclassified = train_perceptron(learning_rate, iteration_no)"
   ]
  },
  {
   "cell_type": "code",
   "execution_count": 62,
   "metadata": {
    "ExecuteTime": {
     "end_time": "2020-12-09T16:30:51.166159Z",
     "start_time": "2020-12-09T16:30:50.800627Z"
    }
   },
   "outputs": [
    {
     "data": {
      "text/plain": [
       "[<matplotlib.lines.Line2D at 0x7fc4dd97a438>]"
      ]
     },
     "execution_count": 62,
     "metadata": {},
     "output_type": "execute_result"
    },
    {
     "data": {
      "image/png": "[encoded data removed]",
      "text/plain": [
       "<Figure size 1200x800 with 1 Axes>"
      ]
     },
     "metadata": {},
     "output_type": "display_data"
    }
   ],
   "source": [
    "plt.plot(all_misclassified)"
   ]
  },
  {
   "cell_type": "markdown",
   "metadata": {},
   "source": [
    "## Test Perceptron Method"
   ]
  },
  {
   "cell_type": "code",
   "execution_count": 55,
   "metadata": {
    "ExecuteTime": {
     "end_time": "2020-12-09T16:26:35.020935Z",
     "start_time": "2020-12-09T16:26:35.000846Z"
    }
   },
   "outputs": [],
   "source": [
    "def test_perceptron(w):\n",
    "    misclassified_arr, loss = list(), 0\n",
    "    for index, x in enumerate(p_X_test):\n",
    "        if w.dot(x) * p_y_test[index] <= 0:\n",
    "            misclassified_arr.append((x, p_y_test[index]))\n",
    "            loss += w.dot(x) * p_y_test[index]\n",
    "    return loss, misclassified_arr\n",
    "\n",
    "loss, test_misclassified = test_perceptron(w_perceptron)"
   ]
  }
 ],
 "metadata": {
  "kernelspec": {
   "display_name": "Python 3",
   "language": "python",
   "name": "python3"
  },
  "language_info": {
   "codemirror_mode": {
    "name": "ipython",
    "version": 3
   },
   "file_extension": ".py",
   "mimetype": "text/x-python",
   "name": "python",
   "nbconvert_exporter": "python",
   "pygments_lexer": "ipython3",
   "version": "3.6.9"
  }
 },
 "nbformat": 4,
 "nbformat_minor": 2
}
