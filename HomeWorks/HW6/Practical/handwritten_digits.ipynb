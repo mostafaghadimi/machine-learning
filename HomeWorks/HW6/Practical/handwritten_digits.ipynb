{
 "cells": [
  {
   "cell_type": "markdown",
   "metadata": {},
   "source": [
    "# Installing CVXOPT"
   ]
  },
  {
   "cell_type": "code",
   "execution_count": 13,
   "metadata": {
    "ExecuteTime": {
     "end_time": "2020-12-22T21:13:37.141937Z",
     "start_time": "2020-12-22T21:13:01.141123Z"
    }
   },
   "outputs": [
    {
     "name": "stdout",
     "output_type": "stream",
     "text": [
      "WARNING: pip is being invoked by an old script wrapper. This will fail in a future version of pip.\n",
      "Please see https://github.com/pypa/pip/issues/5599 for advice on fixing the underlying issue.\n",
      "To avoid this problem you can invoke Python with '-m pip' instead of running pip directly.\n",
      "Collecting cvxopt\n",
      "  Downloading cvxopt-1.2.5-cp36-cp36m-manylinux1_x86_64.whl (11.6 MB)\n",
      "\u001b[K     |████████████████████████████████| 11.6 MB 495 kB/s eta 0:00:01\n",
      "\u001b[?25hInstalling collected packages: cvxopt\n",
      "Successfully installed cvxopt-1.2.5\n"
     ]
    }
   ],
   "source": [
    "!pip3 install cvxopt"
   ]
  },
  {
   "cell_type": "markdown",
   "metadata": {},
   "source": [
    "# Import Packages"
   ]
  },
  {
   "cell_type": "code",
   "execution_count": 135,
   "metadata": {
    "ExecuteTime": {
     "end_time": "2020-12-22T21:44:17.847671Z",
     "start_time": "2020-12-22T21:44:17.820080Z"
    }
   },
   "outputs": [],
   "source": [
    "from sklearn import datasets\n",
    "import pandas as pd"
   ]
  },
  {
   "cell_type": "markdown",
   "metadata": {},
   "source": [
    "# Loading dataset"
   ]
  },
  {
   "cell_type": "code",
   "execution_count": 156,
   "metadata": {
    "ExecuteTime": {
     "end_time": "2020-12-22T21:45:41.954364Z",
     "start_time": "2020-12-22T21:45:41.780078Z"
    }
   },
   "outputs": [],
   "source": [
    "digits = datasets.load_digits(as_frame=True)"
   ]
  },
  {
   "cell_type": "code",
   "execution_count": 157,
   "metadata": {
    "ExecuteTime": {
     "end_time": "2020-12-22T21:45:41.957973Z",
     "start_time": "2020-12-22T21:45:41.955881Z"
    }
   },
   "outputs": [],
   "source": [
    "df = pd.DataFrame(digits[\"data\"])"
   ]
  },
  {
   "cell_type": "code",
   "execution_count": 158,
   "metadata": {
    "ExecuteTime": {
     "end_time": "2020-12-22T21:45:42.157889Z",
     "start_time": "2020-12-22T21:45:42.140312Z"
    }
   },
   "outputs": [],
   "source": [
    "df[\"target\"] = digits[\"target\"]"
   ]
  },
  {
   "cell_type": "markdown",
   "metadata": {},
   "source": [
    "# 1."
   ]
  },
  {
   "cell_type": "markdown",
   "metadata": {},
   "source": [
    "##  Splitting data"
   ]
  },
  {
   "cell_type": "code",
   "execution_count": 159,
   "metadata": {
    "ExecuteTime": {
     "end_time": "2020-12-22T21:45:42.604647Z",
     "start_time": "2020-12-22T21:45:42.582964Z"
    }
   },
   "outputs": [],
   "source": [
    "def train_test_split(df, train_size, test_size):\n",
    "    train = df.sample(frac=train_size, random_state=22)\n",
    "    print(\"train_size:\", train.shape)\n",
    "    df.drop(train.index, inplace=True)\n",
    "    test = df\n",
    "    print(\"test_size:\", test.shape)\n",
    "    return train, test"
   ]
  },
  {
   "cell_type": "code",
   "execution_count": 160,
   "metadata": {
    "ExecuteTime": {
     "end_time": "2020-12-22T21:45:42.785074Z",
     "start_time": "2020-12-22T21:45:42.761794Z"
    }
   },
   "outputs": [
    {
     "name": "stdout",
     "output_type": "stream",
     "text": [
      "train_size: (1617, 65)\n",
      "test_size: (180, 65)\n"
     ]
    }
   ],
   "source": [
    "train, test = train_test_split(df, 0.9, 0.1)"
   ]
  },
  {
   "cell_type": "code",
   "execution_count": 161,
   "metadata": {
    "ExecuteTime": {
     "end_time": "2020-12-22T21:45:44.193629Z",
     "start_time": "2020-12-22T21:45:44.154115Z"
    }
   },
   "outputs": [
    {
     "data": {
      "text/plain": [
       "target\n",
       "0    16\n",
       "1    18\n",
       "2    23\n",
       "3    16\n",
       "4    16\n",
       "5    19\n",
       "6    22\n",
       "7    16\n",
       "8    16\n",
       "9    18\n",
       "dtype: int64"
      ]
     },
     "execution_count": 161,
     "metadata": {},
     "output_type": "execute_result"
    }
   ],
   "source": [
    "test.groupby(['target']).size()"
   ]
  },
  {
   "cell_type": "markdown",
   "metadata": {},
   "source": [
    "## MaxMin Normalization"
   ]
  },
  {
   "cell_type": "code",
   "execution_count": 162,
   "metadata": {
    "ExecuteTime": {
     "end_time": "2020-12-22T21:51:39.897082Z",
     "start_time": "2020-12-22T21:51:39.824164Z"
    }
   },
   "outputs": [],
   "source": [
    "normalized_train = (train  - train.min()) / (train.max() - train.min())\n",
    "normalized_train.fillna(0, inplace=True)"
   ]
  },
  {
   "cell_type": "code",
   "execution_count": 163,
   "metadata": {
    "ExecuteTime": {
     "end_time": "2020-12-22T21:52:14.691548Z",
     "start_time": "2020-12-22T21:52:14.558880Z"
    }
   },
   "outputs": [],
   "source": [
    "normalized_test = (test - train.min()) / (train.max() - train.min())\n",
    "normalized_test.fillna(0, inplace=True)"
   ]
  },
  {
   "cell_type": "code",
   "execution_count": 168,
   "metadata": {
    "ExecuteTime": {
     "end_time": "2020-12-22T21:53:46.306308Z",
     "start_time": "2020-12-22T21:53:46.288004Z"
    }
   },
   "outputs": [
    {
     "data": {
      "text/plain": [
       "pixel_0_0    True\n",
       "pixel_0_1    True\n",
       "pixel_0_2    True\n",
       "pixel_0_3    True\n",
       "pixel_0_4    True\n",
       "             ... \n",
       "pixel_7_4    True\n",
       "pixel_7_5    True\n",
       "pixel_7_6    True\n",
       "pixel_7_7    True\n",
       "target       True\n",
       "Length: 65, dtype: bool"
      ]
     },
     "execution_count": 168,
     "metadata": {},
     "output_type": "execute_result"
    }
   ],
   "source": [
    "normalized_train.isna().sum() == 0"
   ]
  },
  {
   "cell_type": "code",
   "execution_count": 169,
   "metadata": {
    "ExecuteTime": {
     "end_time": "2020-12-22T21:53:47.842494Z",
     "start_time": "2020-12-22T21:53:47.804132Z"
    }
   },
   "outputs": [
    {
     "data": {
      "text/plain": [
       "pixel_0_0    True\n",
       "pixel_0_1    True\n",
       "pixel_0_2    True\n",
       "pixel_0_3    True\n",
       "pixel_0_4    True\n",
       "             ... \n",
       "pixel_7_4    True\n",
       "pixel_7_5    True\n",
       "pixel_7_6    True\n",
       "pixel_7_7    True\n",
       "target       True\n",
       "Length: 65, dtype: bool"
      ]
     },
     "execution_count": 169,
     "metadata": {},
     "output_type": "execute_result"
    }
   ],
   "source": [
    "normalized_test.isna().sum() == 0"
   ]
  },
  {
   "cell_type": "markdown",
   "metadata": {},
   "source": [
    "# 2."
   ]
  },
  {
   "cell_type": "code",
   "execution_count": 170,
   "metadata": {
    "ExecuteTime": {
     "end_time": "2020-12-22T22:03:01.070040Z",
     "start_time": "2020-12-22T22:03:01.032903Z"
    }
   },
   "outputs": [],
   "source": [
    "y_train = normalized_train[\"target\"].to_numpy()\n",
    "X_train = normalized_train.drop(\"target\", axis=1).to_numpy()"
   ]
  },
  {
   "cell_type": "code",
   "execution_count": null,
   "metadata": {},
   "outputs": [],
   "source": [
    "y_test = normalized_test[\"target\"].to_numpy()\n",
    "X_test = normalized_test.drop(\"target\", axis=1).to_nupy"
   ]
  }
 ],
 "metadata": {
  "kernelspec": {
   "display_name": "Python 3",
   "language": "python",
   "name": "python3"
  },
  "language_info": {
   "codemirror_mode": {
    "name": "ipython",
    "version": 3
   },
   "file_extension": ".py",
   "mimetype": "text/x-python",
   "name": "python",
   "nbconvert_exporter": "python",
   "pygments_lexer": "ipython3",
   "version": "3.6.9"
  }
 },
 "nbformat": 4,
 "nbformat_minor": 2
}
