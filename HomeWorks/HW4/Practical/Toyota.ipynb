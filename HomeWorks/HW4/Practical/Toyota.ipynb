{
 "cells": [
  {
   "cell_type": "markdown",
   "metadata": {},
   "source": [
    "## Importing packages"
   ]
  },
  {
   "cell_type": "code",
   "execution_count": 178,
   "metadata": {
    "ExecuteTime": {
     "end_time": "2020-11-23T22:13:56.070084Z",
     "start_time": "2020-11-23T22:13:55.658061Z"
    }
   },
   "outputs": [],
   "source": [
    "import numpy as np\n",
    "import pandas as pd\n",
    "import matplotlib.pyplot as plt"
   ]
  },
  {
   "cell_type": "code",
   "execution_count": 162,
   "metadata": {
    "ExecuteTime": {
     "end_time": "2020-11-23T22:05:16.468562Z",
     "start_time": "2020-11-23T22:05:16.087912Z"
    }
   },
   "outputs": [],
   "source": [
    "df = pd.read_excel(\"./ToyotaCorolla.xls\", \"data\", index_col=0)\n",
    "# df.head()"
   ]
  },
  {
   "cell_type": "markdown",
   "metadata": {},
   "source": [
    "## One-hot Encoding\n"
   ]
  },
  {
   "cell_type": "code",
   "execution_count": 163,
   "metadata": {
    "ExecuteTime": {
     "end_time": "2020-11-23T22:05:16.522071Z",
     "start_time": "2020-11-23T22:05:16.470629Z"
    }
   },
   "outputs": [],
   "source": [
    "one_hot_columns = [\"Fuel_Type\", \"Color\"]\n",
    "for column in one_hot_columns:\n",
    "    dummies = pd.get_dummies(df[column])\n",
    "    df[dummies.columns] = dummies\n",
    "df.drop(columns=one_hot_columns, inplace=True)"
   ]
  },
  {
   "cell_type": "code",
   "execution_count": 164,
   "metadata": {
    "ExecuteTime": {
     "end_time": "2020-11-23T22:05:16.542209Z",
     "start_time": "2020-11-23T22:05:16.528866Z"
    }
   },
   "outputs": [
    {
     "data": {
      "text/plain": [
       "(1436, 48)"
      ]
     },
     "execution_count": 164,
     "metadata": {},
     "output_type": "execute_result"
    }
   ],
   "source": [
    "df.drop(columns=[\"Model\"], inplace=True)\n",
    "df.shape"
   ]
  },
  {
   "cell_type": "markdown",
   "metadata": {},
   "source": [
    "## Normalization"
   ]
  },
  {
   "cell_type": "code",
   "execution_count": 165,
   "metadata": {
    "ExecuteTime": {
     "end_time": "2020-11-23T22:05:16.915754Z",
     "start_time": "2020-11-23T22:05:16.809773Z"
    }
   },
   "outputs": [],
   "source": [
    "# MinMax Normalization for better performance\n",
    "df = (df - df.min()) / (df.max() - df.min())"
   ]
  },
  {
   "cell_type": "code",
   "execution_count": 166,
   "metadata": {
    "ExecuteTime": {
     "end_time": "2020-11-23T22:05:16.945461Z",
     "start_time": "2020-11-23T22:05:16.928175Z"
    }
   },
   "outputs": [
    {
     "data": {
      "text/plain": [
       "Price                   0\n",
       "Age_08_04               0\n",
       "Mfg_Month               0\n",
       "Mfg_Year                0\n",
       "KM                      0\n",
       "HP                      0\n",
       "Met_Color               0\n",
       "Automatic               0\n",
       "CC                      0\n",
       "Doors                   0\n",
       "Cylinders            1436\n",
       "Gears                   0\n",
       "Quarterly_Tax           0\n",
       "Weight                  0\n",
       "Mfr_Guarantee           0\n",
       "BOVAG_Guarantee         0\n",
       "Guarantee_Period        0\n",
       "ABS                     0\n",
       "Airbag_1                0\n",
       "Airbag_2                0\n",
       "Airco                   0\n",
       "Automatic_airco         0\n",
       "Boardcomputer           0\n",
       "CD_Player               0\n",
       "Central_Lock            0\n",
       "Powered_Windows         0\n",
       "Power_Steering          0\n",
       "Radio                   0\n",
       "Mistlamps               0\n",
       "Sport_Model             0\n",
       "Backseat_Divider        0\n",
       "Metallic_Rim            0\n",
       "Radio_cassette          0\n",
       "Parking_Assistant       0\n",
       "Tow_Bar                 0\n",
       "CNG                     0\n",
       "Diesel                  0\n",
       "Petrol                  0\n",
       "Beige                   0\n",
       "Black                   0\n",
       "Blue                    0\n",
       "Green                   0\n",
       "Grey                    0\n",
       "Red                     0\n",
       "Silver                  0\n",
       "Violet                  0\n",
       "White                   0\n",
       "Yellow                  0\n",
       "dtype: int64"
      ]
     },
     "execution_count": 166,
     "metadata": {},
     "output_type": "execute_result"
    }
   ],
   "source": [
    "df.isna().sum()"
   ]
  },
  {
   "cell_type": "code",
   "execution_count": 167,
   "metadata": {
    "ExecuteTime": {
     "end_time": "2020-11-23T22:05:17.057507Z",
     "start_time": "2020-11-23T22:05:17.054377Z"
    }
   },
   "outputs": [],
   "source": [
    "df.fillna(0, inplace=True)"
   ]
  },
  {
   "cell_type": "code",
   "execution_count": 168,
   "metadata": {
    "ExecuteTime": {
     "end_time": "2020-11-23T22:05:17.472514Z",
     "start_time": "2020-11-23T22:05:17.461905Z"
    }
   },
   "outputs": [
    {
     "data": {
      "text/plain": [
       "Price                0\n",
       "Age_08_04            0\n",
       "Mfg_Month            0\n",
       "Mfg_Year             0\n",
       "KM                   0\n",
       "HP                   0\n",
       "Met_Color            0\n",
       "Automatic            0\n",
       "CC                   0\n",
       "Doors                0\n",
       "Cylinders            0\n",
       "Gears                0\n",
       "Quarterly_Tax        0\n",
       "Weight               0\n",
       "Mfr_Guarantee        0\n",
       "BOVAG_Guarantee      0\n",
       "Guarantee_Period     0\n",
       "ABS                  0\n",
       "Airbag_1             0\n",
       "Airbag_2             0\n",
       "Airco                0\n",
       "Automatic_airco      0\n",
       "Boardcomputer        0\n",
       "CD_Player            0\n",
       "Central_Lock         0\n",
       "Powered_Windows      0\n",
       "Power_Steering       0\n",
       "Radio                0\n",
       "Mistlamps            0\n",
       "Sport_Model          0\n",
       "Backseat_Divider     0\n",
       "Metallic_Rim         0\n",
       "Radio_cassette       0\n",
       "Parking_Assistant    0\n",
       "Tow_Bar              0\n",
       "CNG                  0\n",
       "Diesel               0\n",
       "Petrol               0\n",
       "Beige                0\n",
       "Black                0\n",
       "Blue                 0\n",
       "Green                0\n",
       "Grey                 0\n",
       "Red                  0\n",
       "Silver               0\n",
       "Violet               0\n",
       "White                0\n",
       "Yellow               0\n",
       "dtype: int64"
      ]
     },
     "execution_count": 168,
     "metadata": {},
     "output_type": "execute_result"
    }
   ],
   "source": [
    "df.isna().sum()"
   ]
  },
  {
   "cell_type": "code",
   "execution_count": 169,
   "metadata": {
    "ExecuteTime": {
     "end_time": "2020-11-23T22:05:17.818481Z",
     "start_time": "2020-11-23T22:05:17.807333Z"
    }
   },
   "outputs": [],
   "source": [
    "def train_validation_test_split(df, train_size, validation_size, test_size):\n",
    "    train = df.sample(frac=train_size, random_state=0)\n",
    "    df.drop(train.index, inplace=True)\n",
    "    print(\"train_size:\", train.shape)\n",
    "    validation_size = (validation_size) / (validation_size + test_size)\n",
    "    validation = df.sample(frac=validation_size, random_state=0)\n",
    "    df.drop(validation.index, inplace=True)\n",
    "    print(\"validation_size:\", validation.shape)\n",
    "    test = df\n",
    "    print(\"test_size:\", test.shape)\n",
    "    return train, validation, test"
   ]
  },
  {
   "cell_type": "code",
   "execution_count": 170,
   "metadata": {
    "ExecuteTime": {
     "end_time": "2020-11-23T22:05:18.109060Z",
     "start_time": "2020-11-23T22:05:18.085382Z"
    }
   },
   "outputs": [
    {
     "name": "stdout",
     "output_type": "stream",
     "text": [
      "train_size: (1005, 48)\n",
      "validation_size: (216, 48)\n",
      "test_size: (215, 48)\n"
     ]
    }
   ],
   "source": [
    "train_size, validation_size, test_size = 0.7, 0.15, 0.15\n",
    "train, validation, test = train_validation_test_split(df.copy(), train_size, validation_size, test_size)"
   ]
  },
  {
   "cell_type": "code",
   "execution_count": 171,
   "metadata": {
    "ExecuteTime": {
     "end_time": "2020-11-23T22:05:18.423180Z",
     "start_time": "2020-11-23T22:05:18.406776Z"
    }
   },
   "outputs": [],
   "source": [
    "y_train = train[\"Price\"].to_numpy()\n",
    "X_train = train.drop(\"Price\", axis=1).to_numpy()\n",
    "\n",
    "y_validation = validation[\"Price\"].to_numpy()\n",
    "X_validation = validation.drop(\"Price\", axis=1).to_numpy()\n",
    "\n",
    "y_test = test[\"Price\"].to_numpy()\n",
    "X_test = test.drop(\"Price\", axis=1).to_numpy()"
   ]
  },
  {
   "cell_type": "markdown",
   "metadata": {},
   "source": [
    "## 1. Stochastic Gradient Descent"
   ]
  },
  {
   "cell_type": "markdown",
   "metadata": {
    "ExecuteTime": {
     "end_time": "2020-11-23T21:06:44.399642Z",
     "start_time": "2020-11-23T21:06:44.394498Z"
    }
   },
   "source": [
    "$$\n",
    "w^{i +1} = w^{i} + \\eta(t_n - w^{(i)T} \\phi_n)\\phi_n\n",
    "$$"
   ]
  },
  {
   "cell_type": "code",
   "execution_count": 191,
   "metadata": {
    "ExecuteTime": {
     "end_time": "2020-11-23T22:26:55.538911Z",
     "start_time": "2020-11-23T22:26:55.515421Z"
    }
   },
   "outputs": [],
   "source": [
    "def SGD(X_train, y_train, X_validation, y_validation, X_test, y_test, eta, batch_size, iterations):\n",
    "    w = np.zeros(X_train.shape[1])\n",
    "    train_loss, validation_loss, test_loss = list(), list(), list()\n",
    "    \n",
    "    for _ in range(iterations):\n",
    "        indices = np.random.choice(X_train.shape[0], batch_size, replace=False)\n",
    "        selected_X_train = X_train[indices]\n",
    "        selected_y_train = y_train[indices]\n",
    "        train_SSE = (np.sum(selected_y_train - selected_X_train.dot(w))**2)/2\n",
    "        validation_SSE = (np.sum(y_validation - X_validation.dot(w))**2)/2\n",
    "        test_SSE = (np.sum(y_test - X_test.dot(w))**2)/2 \n",
    "        train_loss.append(train_SSE)\n",
    "        validation_loss.append(validation_SSE)\n",
    "        test_loss.append(test_SSE)\n",
    "        w += eta * (selected_y_train - selected_X_train.dot(w)).dot(selected_X_train)\n",
    "    return train_loss, validation_loss, test_loss\n",
    "\n",
    "# SGD(X_train, y_train, X_validation, y_validation, X_test, y_test, 0.001, 250, 500)"
   ]
  },
  {
   "cell_type": "code",
   "execution_count": 194,
   "metadata": {
    "ExecuteTime": {
     "end_time": "2020-11-23T22:34:39.988835Z",
     "start_time": "2020-11-23T22:34:39.588137Z"
    },
    "scrolled": true
   },
   "outputs": [
    {
     "data": {
      "image/png": "[encoded data removed]",
      "text/plain": [
       "<Figure size 432x288 with 1 Axes>"
      ]
     },
     "metadata": {},
     "output_type": "display_data"
    }
   ],
   "source": [
    "def plotting(train_loss, validation_loss, iteration, eta):\n",
    "    plt.plot(train_loss)\n",
    "    plt.plot(validation_loss)\n",
    "    plt.title(\"Loss of {} iteration with eta {}\".format(iteration, eta))\n",
    "    plt.show()\n",
    "\n",
    "iterations = np.arange(50, 500, 50)\n",
    "etas = np.arange(0.0001, 0.001, 0.0001)\n",
    "train_loss, validation_loss, test_loss = SGD(X_train, y_train, X_validation, y_validation, X_test, y_test, 0.001, 200, 500)\n",
    "plotting(train_loss, validation_loss, 500, 0.001)\n"
   ]
  },
  {
   "cell_type": "code",
   "execution_count": 195,
   "metadata": {
    "ExecuteTime": {
     "end_time": "2020-11-23T22:55:21.454597Z",
     "start_time": "2020-11-23T22:55:21.378230Z"
    }
   },
   "outputs": [
    {
     "ename": "ValueError",
     "evalue": "operands could not be broadcast together with shapes (250,) (47,) ",
     "output_type": "error",
     "traceback": [
      "\u001b[0;31m---------------------------------------------------------------------------\u001b[0m",
      "\u001b[0;31mValueError\u001b[0m                                Traceback (most recent call last)",
      "\u001b[0;32m<ipython-input-195-96f1b3800f69>\u001b[0m in \u001b[0;36m<module>\u001b[0;34m()\u001b[0m\n\u001b[1;32m     16\u001b[0m     \u001b[0;32mreturn\u001b[0m \u001b[0mtrain_loss\u001b[0m\u001b[0;34m,\u001b[0m \u001b[0mvalidation_loss\u001b[0m\u001b[0;34m,\u001b[0m \u001b[0mtest_loss\u001b[0m\u001b[0;34m\u001b[0m\u001b[0;34m\u001b[0m\u001b[0m\n\u001b[1;32m     17\u001b[0m \u001b[0;34m\u001b[0m\u001b[0m\n\u001b[0;32m---> 18\u001b[0;31m \u001b[0mSGD_Regularized\u001b[0m\u001b[0;34m(\u001b[0m\u001b[0mX_train\u001b[0m\u001b[0;34m,\u001b[0m \u001b[0my_train\u001b[0m\u001b[0;34m,\u001b[0m \u001b[0mX_validation\u001b[0m\u001b[0;34m,\u001b[0m \u001b[0my_validation\u001b[0m\u001b[0;34m,\u001b[0m \u001b[0mX_test\u001b[0m\u001b[0;34m,\u001b[0m \u001b[0my_test\u001b[0m\u001b[0;34m,\u001b[0m \u001b[0;36m0.001\u001b[0m\u001b[0;34m,\u001b[0m \u001b[0;36m250\u001b[0m\u001b[0;34m,\u001b[0m \u001b[0;36m500\u001b[0m\u001b[0;34m)\u001b[0m\u001b[0;34m\u001b[0m\u001b[0;34m\u001b[0m\u001b[0m\n\u001b[0m",
      "\u001b[0;32m<ipython-input-195-96f1b3800f69>\u001b[0m in \u001b[0;36mSGD_Regularized\u001b[0;34m(X_train, y_train, X_validation, y_validation, X_test, y_test, eta, batch_size, iterations)\u001b[0m\n\u001b[1;32m     13\u001b[0m         \u001b[0mvalidation_loss\u001b[0m\u001b[0;34m.\u001b[0m\u001b[0mappend\u001b[0m\u001b[0;34m(\u001b[0m\u001b[0mvalidation_SSE\u001b[0m\u001b[0;34m)\u001b[0m\u001b[0;34m\u001b[0m\u001b[0;34m\u001b[0m\u001b[0m\n\u001b[1;32m     14\u001b[0m         \u001b[0mtest_loss\u001b[0m\u001b[0;34m.\u001b[0m\u001b[0mappend\u001b[0m\u001b[0;34m(\u001b[0m\u001b[0mtest_SSE\u001b[0m\u001b[0;34m)\u001b[0m\u001b[0;34m\u001b[0m\u001b[0;34m\u001b[0m\u001b[0m\n\u001b[0;32m---> 15\u001b[0;31m         \u001b[0mw\u001b[0m \u001b[0;34m+=\u001b[0m \u001b[0meta\u001b[0m \u001b[0;34m*\u001b[0m \u001b[0;34m(\u001b[0m\u001b[0mselected_y_train\u001b[0m \u001b[0;34m-\u001b[0m \u001b[0mselected_X_train\u001b[0m\u001b[0;34m.\u001b[0m\u001b[0mdot\u001b[0m\u001b[0;34m(\u001b[0m\u001b[0mw\u001b[0m\u001b[0;34m)\u001b[0m \u001b[0;34m+\u001b[0m \u001b[0mw\u001b[0m\u001b[0;34m)\u001b[0m\u001b[0;34m.\u001b[0m\u001b[0mdot\u001b[0m\u001b[0;34m(\u001b[0m\u001b[0mselected_X_train\u001b[0m\u001b[0;34m)\u001b[0m\u001b[0;34m\u001b[0m\u001b[0;34m\u001b[0m\u001b[0m\n\u001b[0m\u001b[1;32m     16\u001b[0m     \u001b[0;32mreturn\u001b[0m \u001b[0mtrain_loss\u001b[0m\u001b[0;34m,\u001b[0m \u001b[0mvalidation_loss\u001b[0m\u001b[0;34m,\u001b[0m \u001b[0mtest_loss\u001b[0m\u001b[0;34m\u001b[0m\u001b[0;34m\u001b[0m\u001b[0m\n\u001b[1;32m     17\u001b[0m \u001b[0;34m\u001b[0m\u001b[0m\n",
      "\u001b[0;31mValueError\u001b[0m: operands could not be broadcast together with shapes (250,) (47,) "
     ]
    }
   ],
   "source": [
    "def SGD_Regularized(X_train, y_train, X_validation, y_validation, X_test, y_test, eta, batch_size, iterations):\n",
    "    w = np.zeros(X_train.shape[1])\n",
    "    train_loss, validation_loss, test_loss = list(), list(), list()\n",
    "    \n",
    "    for _ in range(iterations):\n",
    "        indices = np.random.choice(X_train.shape[0], batch_size, replace=False)\n",
    "        selected_X_train = X_train[indices]\n",
    "        selected_y_train = y_train[indices]\n",
    "        train_SSE = (np.sum(selected_y_train - selected_X_train.dot(w))**2)/2\n",
    "        validation_SSE = (np.sum(y_validation - X_validation.dot(w))**2)/2 + w.T.dot(w)\n",
    "        test_SSE = (np.sum(y_test - X_test.dot(w))**2)/2  + w.T.dot(w)\n",
    "        train_loss.append(train_SSE)\n",
    "        validation_loss.append(validation_SSE)\n",
    "        test_loss.append(test_SSE)\n",
    "        w += eta * (selected_y_train - selected_X_train.dot(w)).dot(selected_X_train) + w\n",
    "    return train_loss, validation_loss, test_loss\n",
    "\n",
    "SGD_Regularized(X_train, y_train, X_validation, y_validation, X_test, y_test, 0.001, 250, 500)"
   ]
  }
 ],
 "metadata": {
  "kernelspec": {
   "display_name": "Python 3",
   "language": "python",
   "name": "python3"
  },
  "language_info": {
   "codemirror_mode": {
    "name": "ipython",
    "version": 3
   },
   "file_extension": ".py",
   "mimetype": "text/x-python",
   "name": "python",
   "nbconvert_exporter": "python",
   "pygments_lexer": "ipython3",
   "version": "3.6.9"
  }
 },
 "nbformat": 4,
 "nbformat_minor": 2
}
