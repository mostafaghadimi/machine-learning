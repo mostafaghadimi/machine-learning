{
 "cells": [
  {
   "cell_type": "markdown",
   "metadata": {},
   "source": [
    "## Importing packages"
   ]
  },
  {
   "cell_type": "code",
   "execution_count": 178,
   "metadata": {
    "ExecuteTime": {
     "end_time": "2020-11-23T22:13:56.070084Z",
     "start_time": "2020-11-23T22:13:55.658061Z"
    }
   },
   "outputs": [],
   "source": [
    "import numpy as np\n",
    "import pandas as pd\n",
    "import matplotlib.pyplot as plt"
   ]
  },
  {
   "cell_type": "markdown",
   "metadata": {
    "ExecuteTime": {
     "end_time": "2020-11-24T00:24:27.682385Z",
     "start_time": "2020-11-24T00:24:27.659201Z"
    }
   },
   "source": [
    "## Matplotlib Configuration"
   ]
  },
  {
   "cell_type": "code",
   "execution_count": 274,
   "metadata": {
    "ExecuteTime": {
     "end_time": "2020-11-24T00:24:18.135996Z",
     "start_time": "2020-11-24T00:24:18.124820Z"
    }
   },
   "outputs": [],
   "source": [
    "plt.rcParams['figure.figsize'] = [12, 8]\n",
    "plt.rcParams['figure.dpi'] = 100 "
   ]
  },
  {
   "cell_type": "markdown",
   "metadata": {},
   "source": [
    "## Reading Data"
   ]
  },
  {
   "cell_type": "code",
   "execution_count": 244,
   "metadata": {
    "ExecuteTime": {
     "end_time": "2020-11-24T00:08:44.984760Z",
     "start_time": "2020-11-24T00:08:44.680623Z"
    }
   },
   "outputs": [
    {
     "data": {
      "text/html": [
       "<div>\n",
       "<style scoped>\n",
       "    .dataframe tbody tr th:only-of-type {\n",
       "        vertical-align: middle;\n",
       "    }\n",
       "\n",
       "    .dataframe tbody tr th {\n",
       "        vertical-align: top;\n",
       "    }\n",
       "\n",
       "    .dataframe thead th {\n",
       "        text-align: right;\n",
       "    }\n",
       "</style>\n",
       "<table border=\"1\" class=\"dataframe\">\n",
       "  <thead>\n",
       "    <tr style=\"text-align: right;\">\n",
       "      <th></th>\n",
       "      <th>Model</th>\n",
       "      <th>Price</th>\n",
       "      <th>Age_08_04</th>\n",
       "      <th>Mfg_Month</th>\n",
       "      <th>Mfg_Year</th>\n",
       "      <th>KM</th>\n",
       "      <th>Fuel_Type</th>\n",
       "      <th>HP</th>\n",
       "      <th>Met_Color</th>\n",
       "      <th>Color</th>\n",
       "      <th>...</th>\n",
       "      <th>Powered_Windows</th>\n",
       "      <th>Power_Steering</th>\n",
       "      <th>Radio</th>\n",
       "      <th>Mistlamps</th>\n",
       "      <th>Sport_Model</th>\n",
       "      <th>Backseat_Divider</th>\n",
       "      <th>Metallic_Rim</th>\n",
       "      <th>Radio_cassette</th>\n",
       "      <th>Parking_Assistant</th>\n",
       "      <th>Tow_Bar</th>\n",
       "    </tr>\n",
       "    <tr>\n",
       "      <th>Id</th>\n",
       "      <th></th>\n",
       "      <th></th>\n",
       "      <th></th>\n",
       "      <th></th>\n",
       "      <th></th>\n",
       "      <th></th>\n",
       "      <th></th>\n",
       "      <th></th>\n",
       "      <th></th>\n",
       "      <th></th>\n",
       "      <th></th>\n",
       "      <th></th>\n",
       "      <th></th>\n",
       "      <th></th>\n",
       "      <th></th>\n",
       "      <th></th>\n",
       "      <th></th>\n",
       "      <th></th>\n",
       "      <th></th>\n",
       "      <th></th>\n",
       "      <th></th>\n",
       "    </tr>\n",
       "  </thead>\n",
       "  <tbody>\n",
       "    <tr>\n",
       "      <th>1</th>\n",
       "      <td>TOYOTA Corolla 2.0 D4D HATCHB TERRA 2/3-Doors</td>\n",
       "      <td>13500</td>\n",
       "      <td>23</td>\n",
       "      <td>10</td>\n",
       "      <td>2002</td>\n",
       "      <td>46986</td>\n",
       "      <td>Diesel</td>\n",
       "      <td>90</td>\n",
       "      <td>1</td>\n",
       "      <td>Blue</td>\n",
       "      <td>...</td>\n",
       "      <td>1</td>\n",
       "      <td>1</td>\n",
       "      <td>0</td>\n",
       "      <td>0</td>\n",
       "      <td>0</td>\n",
       "      <td>1</td>\n",
       "      <td>0</td>\n",
       "      <td>0</td>\n",
       "      <td>0</td>\n",
       "      <td>0</td>\n",
       "    </tr>\n",
       "    <tr>\n",
       "      <th>2</th>\n",
       "      <td>TOYOTA Corolla 2.0 D4D HATCHB TERRA 2/3-Doors</td>\n",
       "      <td>13750</td>\n",
       "      <td>23</td>\n",
       "      <td>10</td>\n",
       "      <td>2002</td>\n",
       "      <td>72937</td>\n",
       "      <td>Diesel</td>\n",
       "      <td>90</td>\n",
       "      <td>1</td>\n",
       "      <td>Silver</td>\n",
       "      <td>...</td>\n",
       "      <td>0</td>\n",
       "      <td>1</td>\n",
       "      <td>0</td>\n",
       "      <td>0</td>\n",
       "      <td>0</td>\n",
       "      <td>1</td>\n",
       "      <td>0</td>\n",
       "      <td>0</td>\n",
       "      <td>0</td>\n",
       "      <td>0</td>\n",
       "    </tr>\n",
       "    <tr>\n",
       "      <th>3</th>\n",
       "      <td>TOYOTA Corolla 2.0 D4D HATCHB TERRA 2/3-Doors</td>\n",
       "      <td>13950</td>\n",
       "      <td>24</td>\n",
       "      <td>9</td>\n",
       "      <td>2002</td>\n",
       "      <td>41711</td>\n",
       "      <td>Diesel</td>\n",
       "      <td>90</td>\n",
       "      <td>1</td>\n",
       "      <td>Blue</td>\n",
       "      <td>...</td>\n",
       "      <td>0</td>\n",
       "      <td>1</td>\n",
       "      <td>0</td>\n",
       "      <td>0</td>\n",
       "      <td>0</td>\n",
       "      <td>1</td>\n",
       "      <td>0</td>\n",
       "      <td>0</td>\n",
       "      <td>0</td>\n",
       "      <td>0</td>\n",
       "    </tr>\n",
       "    <tr>\n",
       "      <th>4</th>\n",
       "      <td>TOYOTA Corolla 2.0 D4D HATCHB TERRA 2/3-Doors</td>\n",
       "      <td>14950</td>\n",
       "      <td>26</td>\n",
       "      <td>7</td>\n",
       "      <td>2002</td>\n",
       "      <td>48000</td>\n",
       "      <td>Diesel</td>\n",
       "      <td>90</td>\n",
       "      <td>0</td>\n",
       "      <td>Black</td>\n",
       "      <td>...</td>\n",
       "      <td>0</td>\n",
       "      <td>1</td>\n",
       "      <td>0</td>\n",
       "      <td>0</td>\n",
       "      <td>0</td>\n",
       "      <td>1</td>\n",
       "      <td>0</td>\n",
       "      <td>0</td>\n",
       "      <td>0</td>\n",
       "      <td>0</td>\n",
       "    </tr>\n",
       "    <tr>\n",
       "      <th>5</th>\n",
       "      <td>TOYOTA Corolla 2.0 D4D HATCHB SOL 2/3-Doors</td>\n",
       "      <td>13750</td>\n",
       "      <td>30</td>\n",
       "      <td>3</td>\n",
       "      <td>2002</td>\n",
       "      <td>38500</td>\n",
       "      <td>Diesel</td>\n",
       "      <td>90</td>\n",
       "      <td>0</td>\n",
       "      <td>Black</td>\n",
       "      <td>...</td>\n",
       "      <td>1</td>\n",
       "      <td>1</td>\n",
       "      <td>0</td>\n",
       "      <td>1</td>\n",
       "      <td>0</td>\n",
       "      <td>1</td>\n",
       "      <td>0</td>\n",
       "      <td>0</td>\n",
       "      <td>0</td>\n",
       "      <td>0</td>\n",
       "    </tr>\n",
       "  </tbody>\n",
       "</table>\n",
       "<p>5 rows × 38 columns</p>\n",
       "</div>"
      ],
      "text/plain": [
       "                                             Model  Price  Age_08_04  \\\n",
       "Id                                                                     \n",
       "1    TOYOTA Corolla 2.0 D4D HATCHB TERRA 2/3-Doors  13500         23   \n",
       "2    TOYOTA Corolla 2.0 D4D HATCHB TERRA 2/3-Doors  13750         23   \n",
       "3    TOYOTA Corolla 2.0 D4D HATCHB TERRA 2/3-Doors  13950         24   \n",
       "4    TOYOTA Corolla 2.0 D4D HATCHB TERRA 2/3-Doors  14950         26   \n",
       "5      TOYOTA Corolla 2.0 D4D HATCHB SOL 2/3-Doors  13750         30   \n",
       "\n",
       "    Mfg_Month  Mfg_Year     KM Fuel_Type  HP  Met_Color   Color  ...  \\\n",
       "Id                                                               ...   \n",
       "1          10      2002  46986    Diesel  90          1    Blue  ...   \n",
       "2          10      2002  72937    Diesel  90          1  Silver  ...   \n",
       "3           9      2002  41711    Diesel  90          1    Blue  ...   \n",
       "4           7      2002  48000    Diesel  90          0   Black  ...   \n",
       "5           3      2002  38500    Diesel  90          0   Black  ...   \n",
       "\n",
       "    Powered_Windows  Power_Steering  Radio  Mistlamps  Sport_Model  \\\n",
       "Id                                                                   \n",
       "1                 1               1      0          0            0   \n",
       "2                 0               1      0          0            0   \n",
       "3                 0               1      0          0            0   \n",
       "4                 0               1      0          0            0   \n",
       "5                 1               1      0          1            0   \n",
       "\n",
       "    Backseat_Divider  Metallic_Rim  Radio_cassette  Parking_Assistant  Tow_Bar  \n",
       "Id                                                                              \n",
       "1                  1             0               0                  0        0  \n",
       "2                  1             0               0                  0        0  \n",
       "3                  1             0               0                  0        0  \n",
       "4                  1             0               0                  0        0  \n",
       "5                  1             0               0                  0        0  \n",
       "\n",
       "[5 rows x 38 columns]"
      ]
     },
     "execution_count": 244,
     "metadata": {},
     "output_type": "execute_result"
    }
   ],
   "source": [
    "df = pd.read_excel(\"./ToyotaCorolla.xls\", \"data\", index_col=0)\n",
    "df.head()"
   ]
  },
  {
   "cell_type": "markdown",
   "metadata": {},
   "source": [
    "## One-hot Encoding\n"
   ]
  },
  {
   "cell_type": "code",
   "execution_count": 163,
   "metadata": {
    "ExecuteTime": {
     "end_time": "2020-11-23T22:05:16.522071Z",
     "start_time": "2020-11-23T22:05:16.470629Z"
    }
   },
   "outputs": [],
   "source": [
    "one_hot_columns = [\"Fuel_Type\", \"Color\"]\n",
    "for column in one_hot_columns:\n",
    "    dummies = pd.get_dummies(df[column])\n",
    "    df[dummies.columns] = dummies\n",
    "df.drop(columns=one_hot_columns, inplace=True)"
   ]
  },
  {
   "cell_type": "code",
   "execution_count": 164,
   "metadata": {
    "ExecuteTime": {
     "end_time": "2020-11-23T22:05:16.542209Z",
     "start_time": "2020-11-23T22:05:16.528866Z"
    }
   },
   "outputs": [
    {
     "data": {
      "text/plain": [
       "(1436, 48)"
      ]
     },
     "execution_count": 164,
     "metadata": {},
     "output_type": "execute_result"
    }
   ],
   "source": [
    "df.drop(columns=[\"Model\"], inplace=True)\n",
    "df.shape"
   ]
  },
  {
   "cell_type": "markdown",
   "metadata": {},
   "source": [
    "## Normalization"
   ]
  },
  {
   "cell_type": "code",
   "execution_count": 165,
   "metadata": {
    "ExecuteTime": {
     "end_time": "2020-11-23T22:05:16.915754Z",
     "start_time": "2020-11-23T22:05:16.809773Z"
    }
   },
   "outputs": [],
   "source": [
    "# MinMax Normalization for better performance\n",
    "df = (df - df.min()) / (df.max() - df.min())"
   ]
  },
  {
   "cell_type": "code",
   "execution_count": 166,
   "metadata": {
    "ExecuteTime": {
     "end_time": "2020-11-23T22:05:16.945461Z",
     "start_time": "2020-11-23T22:05:16.928175Z"
    }
   },
   "outputs": [
    {
     "data": {
      "text/plain": [
       "Price                   0\n",
       "Age_08_04               0\n",
       "Mfg_Month               0\n",
       "Mfg_Year                0\n",
       "KM                      0\n",
       "HP                      0\n",
       "Met_Color               0\n",
       "Automatic               0\n",
       "CC                      0\n",
       "Doors                   0\n",
       "Cylinders            1436\n",
       "Gears                   0\n",
       "Quarterly_Tax           0\n",
       "Weight                  0\n",
       "Mfr_Guarantee           0\n",
       "BOVAG_Guarantee         0\n",
       "Guarantee_Period        0\n",
       "ABS                     0\n",
       "Airbag_1                0\n",
       "Airbag_2                0\n",
       "Airco                   0\n",
       "Automatic_airco         0\n",
       "Boardcomputer           0\n",
       "CD_Player               0\n",
       "Central_Lock            0\n",
       "Powered_Windows         0\n",
       "Power_Steering          0\n",
       "Radio                   0\n",
       "Mistlamps               0\n",
       "Sport_Model             0\n",
       "Backseat_Divider        0\n",
       "Metallic_Rim            0\n",
       "Radio_cassette          0\n",
       "Parking_Assistant       0\n",
       "Tow_Bar                 0\n",
       "CNG                     0\n",
       "Diesel                  0\n",
       "Petrol                  0\n",
       "Beige                   0\n",
       "Black                   0\n",
       "Blue                    0\n",
       "Green                   0\n",
       "Grey                    0\n",
       "Red                     0\n",
       "Silver                  0\n",
       "Violet                  0\n",
       "White                   0\n",
       "Yellow                  0\n",
       "dtype: int64"
      ]
     },
     "execution_count": 166,
     "metadata": {},
     "output_type": "execute_result"
    }
   ],
   "source": [
    "df.isna().sum()"
   ]
  },
  {
   "cell_type": "code",
   "execution_count": 167,
   "metadata": {
    "ExecuteTime": {
     "end_time": "2020-11-23T22:05:17.057507Z",
     "start_time": "2020-11-23T22:05:17.054377Z"
    }
   },
   "outputs": [],
   "source": [
    "df.fillna(0, inplace=True)"
   ]
  },
  {
   "cell_type": "code",
   "execution_count": 168,
   "metadata": {
    "ExecuteTime": {
     "end_time": "2020-11-23T22:05:17.472514Z",
     "start_time": "2020-11-23T22:05:17.461905Z"
    }
   },
   "outputs": [
    {
     "data": {
      "text/plain": [
       "Price                0\n",
       "Age_08_04            0\n",
       "Mfg_Month            0\n",
       "Mfg_Year             0\n",
       "KM                   0\n",
       "HP                   0\n",
       "Met_Color            0\n",
       "Automatic            0\n",
       "CC                   0\n",
       "Doors                0\n",
       "Cylinders            0\n",
       "Gears                0\n",
       "Quarterly_Tax        0\n",
       "Weight               0\n",
       "Mfr_Guarantee        0\n",
       "BOVAG_Guarantee      0\n",
       "Guarantee_Period     0\n",
       "ABS                  0\n",
       "Airbag_1             0\n",
       "Airbag_2             0\n",
       "Airco                0\n",
       "Automatic_airco      0\n",
       "Boardcomputer        0\n",
       "CD_Player            0\n",
       "Central_Lock         0\n",
       "Powered_Windows      0\n",
       "Power_Steering       0\n",
       "Radio                0\n",
       "Mistlamps            0\n",
       "Sport_Model          0\n",
       "Backseat_Divider     0\n",
       "Metallic_Rim         0\n",
       "Radio_cassette       0\n",
       "Parking_Assistant    0\n",
       "Tow_Bar              0\n",
       "CNG                  0\n",
       "Diesel               0\n",
       "Petrol               0\n",
       "Beige                0\n",
       "Black                0\n",
       "Blue                 0\n",
       "Green                0\n",
       "Grey                 0\n",
       "Red                  0\n",
       "Silver               0\n",
       "Violet               0\n",
       "White                0\n",
       "Yellow               0\n",
       "dtype: int64"
      ]
     },
     "execution_count": 168,
     "metadata": {},
     "output_type": "execute_result"
    }
   ],
   "source": [
    "df.isna().sum()"
   ]
  },
  {
   "cell_type": "markdown",
   "metadata": {},
   "source": [
    "## Train Validation Test Split"
   ]
  },
  {
   "cell_type": "code",
   "execution_count": 169,
   "metadata": {
    "ExecuteTime": {
     "end_time": "2020-11-23T22:05:17.818481Z",
     "start_time": "2020-11-23T22:05:17.807333Z"
    }
   },
   "outputs": [],
   "source": [
    "def train_validation_test_split(df, train_size, validation_size, test_size):\n",
    "    train = df.sample(frac=train_size, random_state=0)\n",
    "    df.drop(train.index, inplace=True)\n",
    "    print(\"train_size:\", train.shape)\n",
    "    validation_size = (validation_size) / (validation_size + test_size)\n",
    "    validation = df.sample(frac=validation_size, random_state=0)\n",
    "    df.drop(validation.index, inplace=True)\n",
    "    print(\"validation_size:\", validation.shape)\n",
    "    test = df\n",
    "    print(\"test_size:\", test.shape)\n",
    "    return train, validation, test"
   ]
  },
  {
   "cell_type": "code",
   "execution_count": 170,
   "metadata": {
    "ExecuteTime": {
     "end_time": "2020-11-23T22:05:18.109060Z",
     "start_time": "2020-11-23T22:05:18.085382Z"
    }
   },
   "outputs": [
    {
     "name": "stdout",
     "output_type": "stream",
     "text": [
      "train_size: (1005, 48)\n",
      "validation_size: (216, 48)\n",
      "test_size: (215, 48)\n"
     ]
    }
   ],
   "source": [
    "train_size, validation_size, test_size = 0.7, 0.15, 0.15\n",
    "train, validation, test = train_validation_test_split(df.copy(), train_size, validation_size, test_size)"
   ]
  },
  {
   "cell_type": "code",
   "execution_count": 171,
   "metadata": {
    "ExecuteTime": {
     "end_time": "2020-11-23T22:05:18.423180Z",
     "start_time": "2020-11-23T22:05:18.406776Z"
    }
   },
   "outputs": [],
   "source": [
    "y_train = train[\"Price\"].to_numpy()\n",
    "X_train = train.drop(\"Price\", axis=1).to_numpy()\n",
    "\n",
    "y_validation = validation[\"Price\"].to_numpy()\n",
    "X_validation = validation.drop(\"Price\", axis=1).to_numpy()\n",
    "\n",
    "y_test = test[\"Price\"].to_numpy()\n",
    "X_test = test.drop(\"Price\", axis=1).to_numpy()"
   ]
  },
  {
   "cell_type": "markdown",
   "metadata": {},
   "source": [
    "## Plot Function"
   ]
  },
  {
   "cell_type": "code",
   "execution_count": 267,
   "metadata": {
    "ExecuteTime": {
     "end_time": "2020-11-24T00:20:46.842555Z",
     "start_time": "2020-11-24T00:20:46.830327Z"
    }
   },
   "outputs": [],
   "source": [
    "def plotting(validation_loss, test_loss, method):\n",
    "    plt.plot(validation_loss, label='validation loss')\n",
    "    plt.plot(test_loss, label='test loss')\n",
    "    plt.title(\"{}: Loss of {} iteration with eta {}\".format(method, iterations_no, eta))\n",
    "    plt.legend()\n",
    "    plt.show()"
   ]
  },
  {
   "cell_type": "markdown",
   "metadata": {},
   "source": [
    "## Constant Values"
   ]
  },
  {
   "cell_type": "code",
   "execution_count": 299,
   "metadata": {
    "ExecuteTime": {
     "end_time": "2020-11-24T00:26:16.161321Z",
     "start_time": "2020-11-24T00:26:16.146061Z"
    }
   },
   "outputs": [],
   "source": [
    "# iterations = np.arange(50, 500, 50)\n",
    "# etas = np.arange(0.0001, 0.001, 0.0001)\n",
    "# batch_sizes = np.arange(20, 200, 10)\n",
    "eta, batch_size, iterations_no = 0.0001, 20, 1000"
   ]
  },
  {
   "cell_type": "markdown",
   "metadata": {
    "ExecuteTime": {
     "end_time": "2020-11-24T00:13:29.189685Z",
     "start_time": "2020-11-24T00:13:29.149764Z"
    }
   },
   "source": [
    "\n",
    "\n",
    "## 1. Stochastic Gradient Descent\n",
    "\n",
    "$$\n",
    "w^{i +1} = w^{i} + \\eta(t_n - w^{(i)T} \\phi_n)\\phi_n\n",
    "$$"
   ]
  },
  {
   "cell_type": "code",
   "execution_count": 300,
   "metadata": {
    "ExecuteTime": {
     "end_time": "2020-11-24T00:26:16.490698Z",
     "start_time": "2020-11-24T00:26:16.467081Z"
    }
   },
   "outputs": [],
   "source": [
    "def SGD(X_train, y_train, X_validation, y_validation, X_test, y_test, eta, batch_size, iterations):\n",
    "    w = np.zeros(X_train.shape[1])\n",
    "    train_loss, validation_loss, test_loss = list(), list(), list()\n",
    "    \n",
    "    for _ in range(iterations):\n",
    "        indices = np.random.choice(X_train.shape[0], batch_size, replace=False)\n",
    "        selected_X_train = X_train[indices]\n",
    "        selected_y_train = y_train[indices]\n",
    "        train_SSE = (np.sum(selected_y_train - selected_X_train.dot(w))**2)/2\n",
    "        validation_SSE = (np.sum(y_validation - X_validation.dot(w))**2)/2\n",
    "        test_SSE = (np.sum(y_test - X_test.dot(w))**2)/2 \n",
    "        train_loss.append(train_SSE)\n",
    "        validation_loss.append(validation_SSE)\n",
    "        test_loss.append(test_SSE)\n",
    "        w += eta * (selected_y_train - selected_X_train.dot(w)).dot(selected_X_train)\n",
    "    return train_loss, validation_loss, test_loss, w"
   ]
  },
  {
   "cell_type": "code",
   "execution_count": 301,
   "metadata": {
    "ExecuteTime": {
     "end_time": "2020-11-24T00:26:17.501260Z",
     "start_time": "2020-11-24T00:26:16.637887Z"
    },
    "scrolled": false
   },
   "outputs": [
    {
     "data": {
      "image/png": "[encoded data removed]",
      "text/plain": [
       "<Figure size 1200x800 with 1 Axes>"
      ]
     },
     "metadata": {},
     "output_type": "display_data"
    }
   ],
   "source": [
    "train_loss, validation_loss, test_loss, w = SGD(X_train, y_train, X_validation, y_validation, X_test, y_test, eta, batch_size, iterations_no)\n",
    "plotting(validation_loss, test_loss, \"SGD\")"
   ]
  },
  {
   "cell_type": "code",
   "execution_count": 314,
   "metadata": {
    "ExecuteTime": {
     "end_time": "2020-11-24T00:28:39.273596Z",
     "start_time": "2020-11-24T00:28:39.189552Z"
    }
   },
   "outputs": [
    {
     "data": {
      "text/plain": [
       "array([-34.21530531, -33.85382062, -33.44938883, -33.19076824,\n",
       "       -32.98674934, -32.6591216 , -32.18603457, -31.85442341,\n",
       "       -31.5835752 , -31.32531951, -30.93384892, -30.47684047,\n",
       "       -30.09491895, -29.72115588, -29.39804984, -29.10986025,\n",
       "       -28.85798122, -28.48849403, -28.22122242, -27.90948062,\n",
       "       -27.55375599, -27.22112769, -26.95165404, -26.62653315,\n",
       "       -26.20490644, -25.98197074, -25.61767223, -25.18879623,\n",
       "       -24.87356958, -24.66766236, -24.18875253, -23.94710048,\n",
       "       -23.47460473, -23.0296838 , -22.7783724 , -22.3161843 ,\n",
       "       -22.02143641, -21.71628471, -21.52017868, -21.04964722,\n",
       "       -20.83930857, -20.37609471, -20.05139919, -19.69594233,\n",
       "       -19.42220525, -19.0765771 , -18.64373899, -18.47441932,\n",
       "       -18.17376058, -17.71108516, -17.50324965, -17.27514005,\n",
       "       -16.91660677, -16.69659341, -16.47748919, -16.28479898,\n",
       "       -16.03599563, -15.85700818, -15.38602005, -15.07452246,\n",
       "       -14.86509983, -14.6444487 , -14.48189764, -14.34667678,\n",
       "       -14.32608499, -14.04360008, -13.77815602, -13.59585329,\n",
       "       -13.26042941, -13.01541141, -12.92013796, -12.76333708,\n",
       "       -12.6436787 , -12.49863551, -12.28731589, -12.05223315,\n",
       "       -11.8916775 , -11.71709712, -11.6785071 , -11.63253844,\n",
       "       -11.35296818, -11.22857386, -11.02305951, -10.67942471,\n",
       "       -10.51898607, -10.33431453, -10.14739567,  -9.92458697,\n",
       "        -9.89099854,  -9.75823512,  -9.64266244,  -9.47802384,\n",
       "        -9.3123198 ,  -8.90816994,  -8.73758792,  -8.62433631,\n",
       "        -8.50053229,  -8.30568309,  -8.27455185,  -8.02633129,\n",
       "        -8.04539077,  -7.81580894,  -7.83991977,  -7.74480904,\n",
       "        -7.65899705,  -7.70855341,  -7.59351408,  -7.52319298,\n",
       "        -7.53927819,  -7.32375843,  -7.11619836,  -6.98861121,\n",
       "        -6.84393404,  -6.51362338,  -6.42706161,  -6.31303979,\n",
       "        -6.27615131,  -6.39956892,  -6.33888686,  -6.23294839,\n",
       "        -6.34349367,  -6.27359211,  -6.33108627,  -6.29513375,\n",
       "        -6.22595473,  -5.80427155,  -5.69557874,  -5.5547486 ,\n",
       "        -5.5157456 ,  -5.4269287 ,  -5.44957245,  -5.3082784 ,\n",
       "        -5.23586347,  -5.34107658,  -5.20118087,  -5.19351764,\n",
       "        -5.11742203,  -5.06177615,  -4.99261665,  -4.82777179,\n",
       "        -4.95516865,  -4.87501372,  -4.72541697,  -4.59372894,\n",
       "        -4.53308893,  -4.29837915,  -4.44187196,  -4.44044721,\n",
       "        -4.41466704,  -4.14630939,  -4.2770237 ,  -4.26457582,\n",
       "        -4.02067434,  -3.90114385,  -3.89131111,  -3.84168936,\n",
       "        -3.73736363,  -3.81808482,  -3.51913172,  -3.3359562 ,\n",
       "        -3.31508345,  -3.28253998,  -3.31744723,  -3.26012493,\n",
       "        -3.15648986,  -3.05958405,  -2.96289103,  -2.92790208,\n",
       "        -2.97639957,  -2.98384572,  -2.84227229,  -2.87418937,\n",
       "        -2.96726308,  -2.92378636,  -2.89472365,  -2.96273706,\n",
       "        -3.07444457,  -2.97514805,  -2.84998674,  -2.8562423 ,\n",
       "        -2.91322735,  -2.88758689,  -2.98942512,  -2.9286391 ,\n",
       "        -2.71609176,  -2.6360197 ,  -2.57515089,  -2.33369739,\n",
       "        -2.22750376,  -2.06759446,  -2.20587244,  -2.27279985,\n",
       "        -2.32671736,  -2.22396353,  -2.2792603 ,  -2.34268239,\n",
       "        -2.42405131,  -2.43331382,  -2.62702542,  -2.4331433 ,\n",
       "        -2.45838886,  -2.54298102,  -2.31323093,  -2.24158749,\n",
       "        -2.22534054,  -2.27451867,  -1.97096362,  -1.90553946,\n",
       "        -2.03758353,  -1.94929295,  -1.71863755,  -1.6725041 ,\n",
       "        -1.4696545 ,  -1.73118672,  -1.74207497,  -1.74940787,\n",
       "        -1.90816401,  -1.72435362,  -1.88297697,  -1.90770787,\n",
       "        -1.96922467,  -1.90909498,  -1.96857274,  -2.01566869,\n",
       "        -1.92171137,  -1.95374029,  -1.83306106,  -1.9439999 ,\n",
       "        -1.86750111,  -1.95688325,  -2.05743577,  -2.02628072,\n",
       "        -1.9942968 ,  -1.91615202,  -1.91169441,  -1.72237806,\n",
       "        -1.82576757,  -1.62788624,  -1.67478382,  -1.66474729,\n",
       "        -1.81594794,  -1.84232516,  -1.7021691 ,  -1.83184676,\n",
       "        -2.00409189,  -2.00042167,  -1.86000875,  -1.69092822,\n",
       "        -1.8230216 ,  -1.88921022,  -1.85379164,  -1.99119869,\n",
       "        -2.02395357,  -2.02588014,  -1.99622275,  -2.00920047,\n",
       "        -1.99998875,  -1.97783835,  -2.00010951,  -1.95983615,\n",
       "        -1.9914718 ,  -2.1158904 ,  -2.23400464,  -2.35674219,\n",
       "        -2.22868333,  -2.2709113 ,  -2.17224592,  -2.25164859,\n",
       "        -2.32965047,  -2.47375426,  -2.48832458,  -2.6208473 ,\n",
       "        -2.66038671,  -2.72140072,  -2.72377268,  -2.63663012,\n",
       "        -2.61793176,  -2.5168866 ,  -2.66141757,  -2.6612682 ,\n",
       "        -2.65760222,  -2.46738227,  -2.45672228,  -2.38483528,\n",
       "        -2.26728787,  -2.25836279,  -2.08618077,  -2.02039998,\n",
       "        -2.03188529,  -2.09489032,  -2.02683026,  -2.19532227,\n",
       "        -2.12256768,  -2.18068302,  -2.2231183 ,  -2.35009031,\n",
       "        -2.04202227,  -2.12173235,  -2.27209291,  -1.87105234,\n",
       "        -1.79994658,  -1.70039542,  -1.5817513 ,  -1.5246235 ,\n",
       "        -1.59410561,  -1.66618761,  -1.60441142,  -1.62467905,\n",
       "        -1.49458534,  -1.47709953,  -1.13269076,  -1.16400956,\n",
       "        -1.21081451,  -1.26679038,  -1.18382783,  -1.33941634,\n",
       "        -1.4863414 ,  -1.47042833,  -1.48457444,  -1.59184047,\n",
       "        -1.63212382,  -1.60169174,  -1.59644208,  -1.66762821,\n",
       "        -1.79313345,  -1.7120052 ,  -1.58824839,  -1.5118148 ,\n",
       "        -1.490432  ,  -1.5260278 ,  -1.63448123,  -1.75843468,\n",
       "        -1.87684605,  -1.82705039,  -1.61405454,  -1.55779639,\n",
       "        -1.67047429,  -1.84617058,  -1.86611325,  -1.85104763,\n",
       "        -1.65425695,  -1.6495915 ,  -1.54793207,  -1.67156872,\n",
       "        -1.687114  ,  -1.72302444,  -1.81192964,  -1.78693256,\n",
       "        -1.67614262,  -1.75092036,  -1.72319062,  -1.82844545,\n",
       "        -1.92056209,  -2.00014389,  -1.8112706 ,  -1.64831669,\n",
       "        -1.75738238,  -1.61659479,  -1.69469456,  -1.78718071,\n",
       "        -1.79611817,  -1.75796124,  -1.88450598,  -1.77625846,\n",
       "        -1.85037006,  -1.93642404,  -2.0218654 ,  -1.99127326,\n",
       "        -2.03177198,  -2.19196462,  -2.3482015 ,  -2.35433578,\n",
       "        -2.31012076,  -2.38766301,  -2.61215585,  -2.7140469 ,\n",
       "        -2.67856951,  -2.43373387,  -2.57293916,  -2.37451805,\n",
       "        -2.31359688,  -2.16364844,  -2.15957179,  -2.24535498,\n",
       "        -2.08097772,  -2.08785926,  -1.92737224,  -2.11273198,\n",
       "        -2.07403447,  -2.14052858,  -2.27172642,  -2.39006765,\n",
       "        -2.24911073,  -2.35005419,  -2.33625507,  -2.29510581,\n",
       "        -2.19651053,  -2.09831814,  -2.08825351,  -2.05356047,\n",
       "        -1.78876852,  -1.63594191,  -1.7525544 ,  -1.80690693,\n",
       "        -1.68081541,  -1.50179427,  -1.51050945,  -1.36288451,\n",
       "        -1.50101994,  -1.27935325,  -1.35253456,  -1.13908247,\n",
       "        -1.07769099,  -1.11994547,  -1.04527117,  -1.22415384,\n",
       "        -1.32610906,  -1.45716483,  -1.46643982,  -1.39981431,\n",
       "        -1.46401698,  -1.39895453,  -1.22783719,  -1.2976401 ,\n",
       "        -1.24563636,  -1.39381942,  -1.23577437,  -1.21494242,\n",
       "        -1.31033664,  -0.92906721,  -0.93475618,  -0.900719  ,\n",
       "        -0.91484646,  -0.83933199,  -0.84289599,  -0.88907848,\n",
       "        -0.93130136,  -0.9512357 ,  -1.03962983,  -0.93343917,\n",
       "        -0.80510897,  -0.90331867,  -1.16780214,  -1.24432921,\n",
       "        -1.1599259 ,  -1.10554905,  -1.04905561,  -1.0333982 ,\n",
       "        -0.93011833,  -1.10334038,  -0.96859041,  -0.85354269,\n",
       "        -1.19421665,  -1.19211934,  -1.31182058,  -1.45203921,\n",
       "        -1.60727553,  -1.4579207 ,  -1.19405133,  -1.09653657,\n",
       "        -1.19946676,  -1.24319223,  -1.38505109,  -1.61085832,\n",
       "        -1.4711503 ,  -1.59159917,  -1.49300387,  -1.6806095 ,\n",
       "        -1.76794742,  -1.76626952,  -1.79149693,  -1.93245886,\n",
       "        -2.03958997,  -2.02150592,  -2.16123313,  -2.29372735,\n",
       "        -2.34597677,  -2.51767464,  -2.53159747,  -2.46447943,\n",
       "        -2.4424216 ,  -2.31003652,  -2.26291096,  -2.47176152,\n",
       "        -2.61089122,  -2.5901624 ,  -2.6621398 ,  -2.66065957,\n",
       "        -2.30400407,  -2.09626391,  -2.09345166,  -2.13552552,\n",
       "        -2.00765791,  -2.00631379,  -2.1138927 ,  -2.04569571,\n",
       "        -2.12579547,  -2.06138563,  -2.11986403,  -2.29654466,\n",
       "        -2.47387111,  -2.4081821 ,  -2.53296727,  -2.583488  ,\n",
       "        -2.57638657,  -2.64979945,  -2.77429621,  -2.8834365 ,\n",
       "        -2.94883706,  -3.02863859,  -3.01028889,  -2.91337366,\n",
       "        -2.9203581 ,  -2.99792592,  -2.70384899,  -2.73612173,\n",
       "        -2.53672879,  -2.42443352,  -2.23358722,  -2.03815356,\n",
       "        -1.90488113,  -1.94446547,  -2.0318339 ,  -2.04324603,\n",
       "        -2.08101368,  -1.99953728,  -2.21428757,  -2.09434673,\n",
       "        -2.08286294,  -2.10375791,  -1.93162301,  -1.89136699,\n",
       "        -1.95612162,  -1.90973413,  -2.02113502,  -1.85065552,\n",
       "        -2.13425733,  -2.27075125,  -2.11937506,  -2.19434797,\n",
       "        -2.32800277,  -2.53012523,  -2.55340781,  -2.57836069,\n",
       "        -2.61310427,  -2.51681096,  -2.45989756,  -2.55109847,\n",
       "        -2.6227836 ,  -2.63245731,  -2.63100598,  -2.54811588,\n",
       "        -2.528404  ,  -2.48277509,  -2.21173309,  -2.40116444,\n",
       "        -2.61205794,  -2.66795586,  -2.48980852,  -2.62208647,\n",
       "        -2.77340603,  -2.64213389,  -2.56657898,  -2.73819726,\n",
       "        -2.88563404,  -2.61608327,  -2.53659507,  -2.5813676 ,\n",
       "        -2.66145577,  -2.43096148,  -2.24382251,  -2.27937573,\n",
       "        -2.08949027,  -1.91427478,  -1.89804152,  -1.99268686,\n",
       "        -1.88616634,  -2.01577526,  -1.83855953,  -1.84051239,\n",
       "        -1.39798673,  -1.42256956,  -1.42103289,  -1.60392943,\n",
       "        -1.8398412 ,  -2.03930072,  -1.80108635,  -1.80385514,\n",
       "        -1.69982964,  -1.75221621,  -1.68686868,  -1.75174673,\n",
       "        -1.72605155,  -1.72616353,  -1.84937168,  -1.57614755,\n",
       "        -1.70138436,  -1.83500373,  -1.93544751,  -1.97060481,\n",
       "        -1.81946365,  -1.89356083,  -1.83699143,  -1.85325903,\n",
       "        -1.91862269,  -2.00123332,  -1.93189609,  -2.21680012,\n",
       "        -2.30532897,  -2.23778036,  -2.27492376,  -2.52036335,\n",
       "        -2.43974177,  -2.62540058,  -2.80901627,  -2.77551714,\n",
       "        -2.82549761,  -2.88891984,  -3.04869997,  -3.00183117,\n",
       "        -3.04967443,  -3.0249112 ,  -2.97461848,  -2.95860279,\n",
       "        -2.79327268,  -2.88916972,  -2.86649418,  -2.99060853,\n",
       "        -2.87677633,  -3.01032258,  -3.17479668,  -3.14649412,\n",
       "        -3.07879234,  -3.07210981,  -3.17603252,  -2.974802  ,\n",
       "        -2.89937862,  -3.02933658,  -2.94781825,  -3.03835131,\n",
       "        -3.10312267,  -3.18696452,  -2.90168889,  -3.01244978,\n",
       "        -3.16607289,  -3.05772804,  -2.81173645,  -2.88724381,\n",
       "        -2.81656081,  -2.86976117,  -3.05468558,  -3.14891128,\n",
       "        -2.99503792,  -3.10805133,  -3.17461836,  -3.05903592,\n",
       "        -3.22614918,  -2.92396215,  -3.0357212 ,  -3.17038859,\n",
       "        -3.08076335,  -3.17709836,  -3.34238888,  -3.15018564,\n",
       "        -3.34032494,  -3.47258032,  -3.54259006,  -3.65319467,\n",
       "        -3.61792044,  -3.63440201,  -3.54730232,  -3.36380361,\n",
       "        -3.45637966,  -3.45812713,  -3.43040718,  -3.54674741,\n",
       "        -3.60834859,  -3.78290666,  -3.5834405 ,  -3.69180012,\n",
       "        -3.69947842,  -3.40208317,  -3.37209456,  -3.20600744,\n",
       "        -3.17597076,  -2.82808585,  -2.77646329,  -2.64251821,\n",
       "        -2.66724461,  -2.66516565,  -2.64398285,  -2.73125049,\n",
       "        -2.76081521,  -2.78594432,  -2.83410261,  -2.66785869,\n",
       "        -2.75104879,  -2.94111797,  -2.79597488,  -2.77168622,\n",
       "        -2.6960864 ,  -2.66573486,  -2.7134517 ,  -2.58519179,\n",
       "        -2.74542777,  -2.64070823,  -2.50061984,  -2.53916288,\n",
       "        -2.50034351,  -2.657952  ,  -2.39788756,  -2.39405811,\n",
       "        -2.28200645,  -2.37897844,  -2.26129113,  -2.21825152,\n",
       "        -2.25140283,  -2.3332329 ,  -2.22649315,  -2.42225574,\n",
       "        -2.32830423,  -2.2823418 ,  -2.30317947,  -2.22645768,\n",
       "        -2.33858669,  -2.38168319,  -2.52415537,  -2.4854832 ,\n",
       "        -2.51710001,  -2.51506233,  -2.55833268,  -2.6225433 ,\n",
       "        -2.45318601,  -2.39758807,  -2.19507244,  -2.34829963,\n",
       "        -2.21878414,  -2.20710301,  -2.31303607,  -2.33589975,\n",
       "        -2.35006786,  -2.15273342,  -2.29815023,  -2.37283763,\n",
       "        -2.16107327,  -2.20542859,  -2.39031432,  -2.08081136,\n",
       "        -2.2200021 ,  -2.35953691,  -2.11256109,  -1.74822871,\n",
       "        -1.59365655,  -1.65197793,  -1.55075862,  -1.64401409,\n",
       "        -1.67734513,  -1.65055723,  -1.71897156,  -1.58517786,\n",
       "        -1.65697222,  -1.75130862,  -1.7370586 ,  -1.76100709,\n",
       "        -1.84720502,  -1.67086825,  -1.56756665,  -1.52577316,\n",
       "        -1.34817441,  -1.5549223 ,  -1.47462735,  -1.35806573,\n",
       "        -1.50928377,  -1.35011501,  -1.3408261 ,  -1.25143366,\n",
       "        -1.28174848,  -1.16629383,  -1.18462841,  -1.00538137,\n",
       "        -1.20006896,  -1.23252109,  -1.39737317,  -1.47756735,\n",
       "        -1.41474917,  -1.4791818 ,  -1.38190695,  -1.54785746,\n",
       "        -1.62943323,  -1.61970388,  -1.67762932,  -1.85685528,\n",
       "        -1.91034874,  -1.86747803,  -1.51922954,  -1.63375712,\n",
       "        -1.77231958,  -1.9434382 ,  -2.12043389,  -1.83837988,\n",
       "        -1.97408447,  -2.04546407,  -2.03846125,  -2.17474199,\n",
       "        -2.26287643,  -2.51093737,  -2.42789074,  -2.43697018,\n",
       "        -2.3460563 ,  -2.43833938,  -2.56216569,  -2.75565536,\n",
       "        -2.72269833,  -2.57633133,  -2.54356624,  -2.34512698,\n",
       "        -2.18526526,  -2.36174212,  -2.42516994,  -2.49460133,\n",
       "        -2.46048725,  -2.44932055,  -2.42959564,  -2.48171948,\n",
       "        -2.53912152,  -2.62683741,  -2.86579087,  -2.80086551,\n",
       "        -2.62923468,  -2.62927146,  -2.67367269,  -2.92041258,\n",
       "        -3.03996264,  -3.14251548,  -3.02644685,  -3.160151  ,\n",
       "        -3.44306074,  -3.47227603,  -3.43032159,  -3.45298004,\n",
       "        -3.13616233,  -3.04185231,  -3.17976507,  -3.10920922,\n",
       "        -2.97157141,  -2.85421229,  -2.85059604,  -2.87490079,\n",
       "        -2.63458144,  -2.56925262,  -2.4338764 ,  -2.56900719,\n",
       "        -2.80392984,  -2.77711248,  -2.73622906,  -2.70854463,\n",
       "        -2.57653656,  -2.52633775,  -2.52601977,  -2.64372537,\n",
       "        -2.67707863,  -2.61947174,  -2.62838485,  -2.4759426 ,\n",
       "        -2.48881635,  -2.33321876,  -2.49555795,  -2.64571264,\n",
       "        -2.52867931,  -2.35166276,  -2.29700178,  -2.39708859,\n",
       "        -2.44090461,  -2.27292712,  -1.95176295,  -2.01677301,\n",
       "        -1.79363846,  -1.85455298,  -1.93287792,  -1.73124673,\n",
       "        -1.89443269,  -1.95766399,  -2.01598043,  -2.17783807,\n",
       "        -2.03089173,  -2.02399931,  -2.00418852,  -2.10220605,\n",
       "        -2.13469281,  -2.15030089,  -1.99217722,  -1.83996989,\n",
       "        -1.69886873,  -1.62931944,  -1.70204206,  -1.5525326 ,\n",
       "        -1.76222942,  -1.7773815 ,  -1.87677527,  -1.44574527,\n",
       "        -1.51059924,  -1.45516977,  -1.65538626,  -1.67071036,\n",
       "        -1.77971817,  -1.81282602,  -1.74901495,  -1.6591228 ,\n",
       "        -1.89680013,  -2.03774823,  -2.08049029,  -2.37111189,\n",
       "        -2.33831505,  -2.37068924,  -2.49186756,  -2.48611615,\n",
       "        -2.61848512,  -2.4505582 ,  -2.55408501,  -2.40437881,\n",
       "        -2.52146582,  -2.61478844,  -2.67293938,  -2.5423959 ,\n",
       "        -2.63718502,  -2.83635258,  -2.88336609,  -2.80229916,\n",
       "        -2.86352532,  -2.75431912,  -2.77067904,  -2.94085584,\n",
       "        -2.80314536,  -2.70769022,  -2.89560946,  -3.01283469,\n",
       "        -3.05101721,  -3.11988839,  -3.1206186 ,  -3.12362864,\n",
       "        -3.22145075,  -3.37293523,  -3.33396692,  -3.5276267 ,\n",
       "        -3.42422374,  -3.42977697,  -3.30251144,  -3.12085243,\n",
       "        -2.88409436,  -2.82102178,  -2.85041051,  -2.75064761,\n",
       "        -2.80591868,  -2.76989538,  -2.57285951,  -2.66654078,\n",
       "        -2.77971559,  -2.87370372,  -2.8560623 ,  -2.91118656,\n",
       "        -2.96003614,  -2.94557407,  -2.80214491,  -2.92313463,\n",
       "        -2.88146583,  -2.78016279,  -2.64847826,  -2.75630985,\n",
       "        -2.753517  ,  -2.76067423,  -2.84343428,  -2.97879609,\n",
       "        -3.14406559,  -2.84515932,  -2.82110161,  -2.74905715,\n",
       "        -2.78036677,  -2.79885026,  -2.68467458,  -2.69047847,\n",
       "        -2.58863473,  -2.85045179,  -2.84026036,  -2.8301782 ,\n",
       "        -2.7709393 ,  -2.65225677,  -2.81552433,  -2.92341041,\n",
       "        -2.65863689,  -2.80034692,  -2.8276002 ,  -2.65909167,\n",
       "        -2.5792679 ,  -2.56826781,  -2.48575942,  -2.33029402,\n",
       "        -2.54666394,  -2.50672153,  -2.6237756 ,  -2.65274219])"
      ]
     },
     "execution_count": 314,
     "metadata": {},
     "output_type": "execute_result"
    }
   ],
   "source": [
    "np.subtract(validation_loss, test_loss)"
   ]
  },
  {
   "cell_type": "markdown",
   "metadata": {},
   "source": [
    "## 2. Ridge Regression"
   ]
  },
  {
   "cell_type": "code",
   "execution_count": 302,
   "metadata": {
    "ExecuteTime": {
     "end_time": "2020-11-24T00:26:17.566838Z",
     "start_time": "2020-11-24T00:26:17.537134Z"
    },
    "scrolled": true
   },
   "outputs": [],
   "source": [
    "def SGD_Regularized(lambda_, X_train, y_train, X_validation, y_validation, X_test, y_test, eta, batch_size, iterations):\n",
    "    w = np.zeros(X_train.shape[1])\n",
    "    train_loss, validation_loss, test_loss = list(), list(), list()\n",
    "    \n",
    "    for _ in range(iterations):\n",
    "        indices = np.random.choice(X_train.shape[0], batch_size, replace=False)\n",
    "        selected_X_train = X_train[indices]\n",
    "        selected_y_train = y_train[indices]\n",
    "        train_SSE =( (np.sum(selected_y_train - selected_X_train.dot(w))**2)  + (lambda_) * np.sum(w.T.dot(w)))/2\n",
    "        validation_SSE = ((np.sum(y_validation - X_validation.dot(w))**2)  + (lambda_) * np.sum(w.T.dot(w)))/2\n",
    "        test_SSE = ((np.sum(y_test - X_test.dot(w))**2) + (lambda_) * np.sum(w.T.dot(w)))/2 \n",
    "        train_loss.append(train_SSE)\n",
    "        validation_loss.append(validation_SSE)\n",
    "        test_loss.append(test_SSE)\n",
    "        w += eta * ((selected_y_train - selected_X_train.dot(w)).dot(selected_X_train) - w)\n",
    "    return train_loss, validation_loss, test_loss, w"
   ]
  },
  {
   "cell_type": "code",
   "execution_count": 303,
   "metadata": {
    "ExecuteTime": {
     "end_time": "2020-11-24T00:26:18.442102Z",
     "start_time": "2020-11-24T00:26:17.683209Z"
    }
   },
   "outputs": [],
   "source": [
    "l1_train_loss, l1_validation_loss, l1_test_loss, w = SGD_Regularized(1, X_train, y_train, X_validation, y_validation, X_test, y_test, eta, batch_size, iterations_no)"
   ]
  },
  {
   "cell_type": "code",
   "execution_count": 304,
   "metadata": {
    "ExecuteTime": {
     "end_time": "2020-11-24T00:26:18.763241Z",
     "start_time": "2020-11-24T00:26:18.446967Z"
    }
   },
   "outputs": [
    {
     "data": {
      "image/png": "[encoded data removed]",
      "text/plain": [
       "<Figure size 1200x800 with 1 Axes>"
      ]
     },
     "metadata": {},
     "output_type": "display_data"
    }
   ],
   "source": [
    "plotting(l1_validation_loss, l1_test_loss, \"SGD Regularized\")"
   ]
  },
  {
   "cell_type": "code",
   "execution_count": 313,
   "metadata": {
    "ExecuteTime": {
     "end_time": "2020-11-24T00:28:17.772591Z",
     "start_time": "2020-11-24T00:28:17.710698Z"
    }
   },
   "outputs": [
    {
     "data": {
      "text/plain": [
       "array([-34.21530531, -33.9385437 , -33.79409411, -33.48178555,\n",
       "       -33.26447744, -32.94224635, -32.5734246 , -32.16989863,\n",
       "       -31.8566364 , -31.52684018, -30.96630337, -30.65919855,\n",
       "       -30.32109719, -29.90734755, -29.53376212, -28.99965212,\n",
       "       -28.66951728, -28.39157034, -28.04088395, -27.67766724,\n",
       "       -27.19310843, -26.87534628, -26.50299797, -26.02795213,\n",
       "       -25.66763453, -25.27388794, -24.9448232 , -24.59375658,\n",
       "       -24.25613303, -23.93560776, -23.64855193, -23.16408165,\n",
       "       -22.71353668, -22.52220726, -22.20114221, -21.87135351,\n",
       "       -21.52462529, -21.18425351, -20.93568596, -20.65355959,\n",
       "       -20.48850814, -20.23708671, -19.71814227, -19.49636264,\n",
       "       -19.17075586, -18.89074126, -18.75226141, -18.39803239,\n",
       "       -18.05746917, -17.93068276, -17.67125761, -17.42619736,\n",
       "       -17.11365628, -16.91901338, -16.48868971, -16.07642949,\n",
       "       -15.89170753, -15.52616165, -15.18469042, -15.14114889,\n",
       "       -15.00739262, -14.84846763, -14.74287111, -14.63122369,\n",
       "       -14.3907709 , -14.08967892, -13.73266704, -13.61361026,\n",
       "       -13.46334559, -13.26477029, -13.026979  , -12.78905897,\n",
       "       -12.24883836, -12.13558309, -11.8740959 , -11.7899728 ,\n",
       "       -11.79240678, -11.52729499, -11.52251121, -11.25525907,\n",
       "       -11.09162313, -10.88102832, -10.82808715, -10.76162553,\n",
       "       -10.43880668, -10.26814512, -10.28730962, -10.16572012,\n",
       "        -9.97829559,  -9.87876443,  -9.71699307,  -9.51262766,\n",
       "        -9.34795282,  -9.16970823,  -9.0947393 ,  -8.98335599,\n",
       "        -8.94586821,  -8.754379  ,  -8.71362866,  -8.62552055,\n",
       "        -8.43795474,  -8.42756587,  -8.44690645,  -8.17804147,\n",
       "        -8.10851131,  -7.88700717,  -7.90663632,  -7.77003299,\n",
       "        -7.8019086 ,  -7.59457072,  -7.45720658,  -7.40452175,\n",
       "        -7.10838652,  -7.03132508,  -6.886244  ,  -6.6327387 ,\n",
       "        -6.38386787,  -6.37356418,  -6.29079903,  -6.16276096,\n",
       "        -5.92494435,  -5.68657985,  -5.64992652,  -5.49214611,\n",
       "        -5.57482877,  -5.30102941,  -5.27133925,  -5.20338735,\n",
       "        -5.18155115,  -5.15647649,  -5.15528365,  -4.97898968,\n",
       "        -4.84643315,  -4.66235234,  -4.67170915,  -4.70716951,\n",
       "        -4.65470244,  -4.56513095,  -4.42565186,  -4.39018343,\n",
       "        -4.38371843,  -4.36482156,  -4.24767839,  -4.16426973,\n",
       "        -4.10869473,  -4.00141644,  -4.07606741,  -4.08013468,\n",
       "        -4.01071943,  -4.03619885,  -3.90831679,  -3.59241096,\n",
       "        -3.58689977,  -3.60766589,  -3.49253985,  -3.62997547,\n",
       "        -3.5558357 ,  -3.38228804,  -3.39362389,  -3.28519923,\n",
       "        -3.16859229,  -3.0501259 ,  -2.76394961,  -2.86749559,\n",
       "        -2.70307626,  -2.63035039,  -2.56255192,  -2.39483312,\n",
       "        -2.43310552,  -2.46571997,  -2.46502947,  -2.17624612,\n",
       "        -2.23547175,  -2.15418107,  -2.06697979,  -1.98469354,\n",
       "        -1.86257323,  -1.69247544,  -1.73005124,  -1.70515496,\n",
       "        -1.68178174,  -1.64880935,  -1.62068499,  -1.56778594,\n",
       "        -1.45656253,  -1.5019179 ,  -1.43229923,  -1.58441743,\n",
       "        -1.55310811,  -1.51613215,  -1.4575064 ,  -1.38001104,\n",
       "        -1.42202526,  -1.4875266 ,  -1.55905337,  -1.65005004,\n",
       "        -1.59419757,  -1.67636658,  -1.73643281,  -1.84169021,\n",
       "        -1.9277234 ,  -1.92266671,  -2.07417203,  -1.83101965,\n",
       "        -1.98969417,  -2.05815983,  -1.98655038,  -1.88922992,\n",
       "        -1.5779171 ,  -1.57271446,  -1.56335753,  -1.44913427,\n",
       "        -1.33714203,  -1.62054151,  -1.58348481,  -1.50101284,\n",
       "        -1.5891048 ,  -1.51300801,  -1.61169078,  -1.64135069,\n",
       "        -1.50468488,  -1.33040349,  -1.38202265,  -1.44606452,\n",
       "        -1.34459987,  -1.34438939,  -1.28599902,  -1.59009125,\n",
       "        -1.4368339 ,  -1.5015184 ,  -1.49850016,  -1.77837138,\n",
       "        -1.64513517,  -1.81887936,  -1.6947433 ,  -1.68030794,\n",
       "        -1.76232733,  -1.88508112,  -1.9040603 ,  -1.99456916,\n",
       "        -2.03852232,  -1.87899107,  -1.93120185,  -1.83927906,\n",
       "        -1.80111624,  -1.55203656,  -1.5649691 ,  -1.51543947,\n",
       "        -1.63219035,  -1.70173636,  -1.6033632 ,  -1.53620148,\n",
       "        -1.44583924,  -1.45603695,  -1.39837988,  -1.50499108,\n",
       "        -1.6147692 ,  -1.63572905,  -1.64633289,  -1.68495587,\n",
       "        -1.84839595,  -1.76086637,  -1.79408654,  -1.80679407,\n",
       "        -1.72649983,  -1.91815164,  -1.89763426,  -1.91663929,\n",
       "        -1.85935833,  -2.09246178,  -2.12160112,  -2.06768818,\n",
       "        -1.92270843,  -1.70435194,  -1.62244089,  -1.69701588,\n",
       "        -1.66477721,  -1.75811845,  -1.46788541,  -1.63071426,\n",
       "        -1.57763279,  -1.56110483,  -1.49250367,  -1.77755534,\n",
       "        -1.81402433,  -1.85578649,  -1.82358264,  -1.78957183,\n",
       "        -1.86095184,  -2.14993636,  -2.12523328,  -2.13686733,\n",
       "        -2.43540312,  -2.59875152,  -2.49272265,  -2.67131375,\n",
       "        -2.51503207,  -2.58336795,  -2.70054333,  -2.67813377,\n",
       "        -2.78230184,  -2.73073265,  -2.69847874,  -2.48653153,\n",
       "        -2.64664399,  -2.69845704,  -2.74980808,  -2.74246102,\n",
       "        -2.52548412,  -2.45364626,  -2.27856737,  -2.21357431,\n",
       "        -2.23299806,  -2.41598791,  -2.32543869,  -2.44886488,\n",
       "        -2.65332984,  -2.55487662,  -2.70721042,  -2.82251961,\n",
       "        -2.91663447,  -2.75357646,  -2.89734912,  -2.72563285,\n",
       "        -2.69306709,  -2.66763641,  -2.64564984,  -2.6307722 ,\n",
       "        -2.55909348,  -2.4655288 ,  -2.54286821,  -2.57483278,\n",
       "        -2.93614953,  -2.77090482,  -2.89534676,  -2.86941637,\n",
       "        -2.81581098,  -2.57617569,  -2.67853973,  -2.72934769,\n",
       "        -2.72781864,  -2.79165195,  -2.58668395,  -2.65998912,\n",
       "        -2.87077587,  -2.72581961,  -2.76858546,  -2.76770897,\n",
       "        -2.82144714,  -2.96980327,  -3.04496047,  -2.90717705,\n",
       "        -2.97293999,  -3.00047488,  -2.9989335 ,  -2.66466776,\n",
       "        -2.6658648 ,  -2.69270143,  -2.83877619,  -2.81102135,\n",
       "        -2.91165075,  -2.74570955,  -2.73425266,  -2.83788701,\n",
       "        -2.8043014 ,  -2.47421391,  -2.29200262,  -2.44156675,\n",
       "        -2.47413684,  -2.40171502,  -2.49032976,  -2.55230759,\n",
       "        -2.54702185,  -2.65240562,  -2.69346881,  -2.64452473,\n",
       "        -2.73329836,  -2.5591241 ,  -2.65315961,  -2.77842252,\n",
       "        -2.73374577,  -2.76972268,  -2.55963074,  -2.67753905,\n",
       "        -2.75923337,  -2.86727542,  -2.84300228,  -2.97949074,\n",
       "        -2.87305754,  -2.71027008,  -2.73035076,  -2.8725774 ,\n",
       "        -2.80247211,  -2.97099488,  -2.8141062 ,  -2.67979451,\n",
       "        -2.5382235 ,  -2.47986196,  -2.45188378,  -2.25520619,\n",
       "        -2.18406531,  -2.16359489,  -2.18017573,  -2.22064273,\n",
       "        -2.23837706,  -2.29863035,  -2.17292978,  -2.14256968,\n",
       "        -2.2828017 ,  -2.35636981,  -2.56056551,  -2.55912952,\n",
       "        -2.53170974,  -2.54579295,  -2.6015385 ,  -2.64664412,\n",
       "        -2.67837868,  -2.63348448,  -2.62786759,  -2.71445287,\n",
       "        -2.73393503,  -2.8110593 ,  -2.98790226,  -2.9497298 ,\n",
       "        -2.66105593,  -2.59609042,  -2.55531094,  -2.78233673,\n",
       "        -2.9233951 ,  -3.11385802,  -3.24357239,  -3.28557883,\n",
       "        -3.30739636,  -3.55449028,  -3.45323995,  -3.33089475,\n",
       "        -3.34484803,  -3.09104037,  -3.22336495,  -3.15681699,\n",
       "        -3.16342219,  -2.95058522,  -2.94976307,  -3.1396415 ,\n",
       "        -3.23207312,  -3.28727226,  -3.37862507,  -3.1962186 ,\n",
       "        -3.0513943 ,  -3.09998903,  -3.26475262,  -3.30101779,\n",
       "        -3.29712284,  -3.41060385,  -3.58831071,  -3.69910509,\n",
       "        -3.75021497,  -3.74344345,  -3.84590011,  -3.81932523,\n",
       "        -3.79698521,  -3.7681085 ,  -3.94074701,  -4.04958201,\n",
       "        -4.04305678,  -4.12718229,  -3.91261729,  -3.90382884,\n",
       "        -3.94913961,  -3.86618902,  -3.84888205,  -3.75014569,\n",
       "        -3.78280378,  -3.75676425,  -3.46376967,  -3.4112264 ,\n",
       "        -3.2440184 ,  -3.29590946,  -3.16422705,  -3.06453499,\n",
       "        -3.01222383,  -2.99618811,  -3.08881651,  -3.183747  ,\n",
       "        -3.23639197,  -3.28461913,  -3.40223649,  -3.4166219 ,\n",
       "        -3.32226987,  -3.2265682 ,  -3.35959084,  -3.37082378,\n",
       "        -3.34080042,  -3.1779919 ,  -3.15205236,  -3.11628165,\n",
       "        -2.99240301,  -3.02522884,  -2.65178236,  -2.71859515,\n",
       "        -2.75129227,  -2.37393312,  -2.39990811,  -2.24154204,\n",
       "        -1.97911747,  -2.15811838,  -2.26369793,  -2.09847792,\n",
       "        -1.95845191,  -1.99307326,  -1.90759639,  -1.95606739,\n",
       "        -1.85963006,  -1.75205316,  -1.64289622,  -1.72240164,\n",
       "        -1.76942573,  -1.64507178,  -1.59746944,  -1.49517299,\n",
       "        -1.22058201,  -1.30241724,  -1.33152255,  -1.33364048,\n",
       "        -1.27128044,  -1.13499611,  -1.21308282,  -1.37074324,\n",
       "        -1.50407422,  -1.66608427,  -1.56350092,  -1.37675727,\n",
       "        -1.34450899,  -1.45637103,  -1.30821629,  -1.3942109 ,\n",
       "        -1.40013399,  -1.47914435,  -1.65159436,  -1.56164788,\n",
       "        -1.6108782 ,  -1.68784232,  -1.55071367,  -1.61313026,\n",
       "        -1.68853699,  -1.67495704,  -1.8128744 ,  -1.74067231,\n",
       "        -1.65578703,  -1.69990668,  -1.84560138,  -1.9863618 ,\n",
       "        -1.83368281,  -2.02717079,  -2.16336026,  -2.14734606,\n",
       "        -2.13321861,  -1.99084319,  -2.20294124,  -2.27961205,\n",
       "        -2.37046147,  -2.33480351,  -2.41138128,  -2.48429812,\n",
       "        -2.31879737,  -2.41330297,  -2.41603299,  -2.30463018,\n",
       "        -2.53733169,  -2.63259957,  -3.02734972,  -2.87331631,\n",
       "        -2.9465907 ,  -2.99437009,  -2.8195043 ,  -2.79411813,\n",
       "        -2.96123857,  -2.95510762,  -2.76959377,  -2.86917653,\n",
       "        -2.87003514,  -3.0194818 ,  -3.00889981,  -3.02934177,\n",
       "        -2.96865301,  -2.93890309,  -2.96982863,  -3.00056417,\n",
       "        -3.03436993,  -3.00291883,  -2.99211831,  -2.99291102,\n",
       "        -2.88046459,  -2.92528515,  -2.91170174,  -3.00027763,\n",
       "        -3.01084229,  -3.05704389,  -3.26332704,  -3.26154484,\n",
       "        -3.33616731,  -2.96026131,  -2.85524516,  -2.86372105,\n",
       "        -2.49281189,  -2.68263553,  -2.73333027,  -2.64226674,\n",
       "        -2.89141052,  -2.87294822,  -2.84840778,  -2.88770431,\n",
       "        -2.96003142,  -2.95491812,  -2.93099907,  -2.94382123,\n",
       "        -2.96438477,  -2.92630225,  -3.01575952,  -2.9851909 ,\n",
       "        -2.99909527,  -3.06538487,  -3.17154907,  -3.11782505,\n",
       "        -2.99260884,  -2.88711462,  -2.92732289,  -2.89506689,\n",
       "        -2.79515002,  -2.66830361,  -2.67173605,  -2.552433  ,\n",
       "        -2.5021403 ,  -2.42987614,  -2.46742871,  -2.36823147,\n",
       "        -2.34090414,  -2.51892929,  -2.61905031,  -2.68799928,\n",
       "        -2.624213  ,  -2.40480662,  -2.3971162 ,  -2.51825679,\n",
       "        -2.51096356,  -2.55607145,  -2.56386416,  -2.51002492,\n",
       "        -2.59426478,  -2.81940016,  -2.78102158,  -2.81542724,\n",
       "        -3.02613465,  -2.93572155,  -3.06867378,  -2.8783785 ,\n",
       "        -2.94680289,  -2.88003561,  -2.84479519,  -2.72402701,\n",
       "        -2.71379514,  -2.70506599,  -2.81027997,  -2.99313898,\n",
       "        -2.80348497,  -2.75262085,  -2.8696678 ,  -2.85095939,\n",
       "        -3.010313  ,  -2.80005475,  -2.65785587,  -2.52596428,\n",
       "        -2.48876336,  -2.60260489,  -2.58958233,  -2.75486333,\n",
       "        -2.92576106,  -2.97632608,  -3.05941094,  -2.85725377,\n",
       "        -2.95627504,  -2.62456031,  -2.63830469,  -2.62151417,\n",
       "        -2.5560313 ,  -2.56216664,  -2.66567681,  -2.63721295,\n",
       "        -2.64333252,  -2.70806119,  -2.80844251,  -2.8465458 ,\n",
       "        -2.62507918,  -2.47863446,  -2.64608275,  -2.73972878,\n",
       "        -2.61980778,  -2.60461583,  -2.55337595,  -2.66532371,\n",
       "        -2.62021932,  -2.70966142,  -2.67533659,  -2.68692311,\n",
       "        -2.80304252,  -2.67893124,  -2.71027363,  -2.66610653,\n",
       "        -2.68313283,  -2.72355588,  -2.77375578,  -2.63875827,\n",
       "        -2.73144033,  -2.65956341,  -2.52739465,  -2.42676362,\n",
       "        -2.39465793,  -2.5461963 ,  -2.54289935,  -2.74468763,\n",
       "        -2.88244133,  -3.01322192,  -3.0947708 ,  -2.90972396,\n",
       "        -2.98289666,  -2.99365281,  -3.1511002 ,  -3.18650674,\n",
       "        -3.24555238,  -3.16522587,  -3.18512575,  -3.21563017,\n",
       "        -2.85994603,  -2.83232263,  -2.90447296,  -2.98785433,\n",
       "        -2.98651473,  -2.94779119,  -2.83737721,  -3.12163415,\n",
       "        -3.12783964,  -3.13236044,  -3.14321012,  -3.25469801,\n",
       "        -3.15308736,  -3.09914047,  -3.14588516,  -2.87884031,\n",
       "        -2.95122272,  -3.14943208,  -3.33358537,  -3.43262662,\n",
       "        -3.36240256,  -3.31593612,  -3.13957929,  -3.12051675,\n",
       "        -3.24867071,  -3.39604537,  -3.67418607,  -3.43324145,\n",
       "        -3.34233978,  -3.21189054,  -3.27764409,  -3.37400987,\n",
       "        -3.36239162,  -3.33696828,  -3.36179556,  -3.30400036,\n",
       "        -3.1436361 ,  -3.10440466,  -3.15852079,  -3.05275379,\n",
       "        -2.95219735,  -2.88768194,  -3.04119128,  -2.89480678,\n",
       "        -2.84847523,  -2.82083358,  -2.78004918,  -2.83265079,\n",
       "        -2.9979514 ,  -3.23712442,  -3.3020375 ,  -3.36724415,\n",
       "        -3.42158334,  -3.35344887,  -3.28394106,  -3.43067964,\n",
       "        -3.52010234,  -3.6265115 ,  -3.57981721,  -3.58244911,\n",
       "        -3.46009295,  -3.26546067,  -3.24442249,  -3.11099703,\n",
       "        -3.15838158,  -3.15004311,  -3.15268385,  -3.05296087,\n",
       "        -3.12089488,  -3.18285853,  -3.23166527,  -3.25916046,\n",
       "        -3.35524547,  -3.09041464,  -2.99211861,  -3.24444587,\n",
       "        -3.36635763,  -3.31422117,  -3.4631117 ,  -3.5555039 ,\n",
       "        -3.51775614,  -3.3458234 ,  -3.25795056,  -3.12221301,\n",
       "        -3.12919517,  -3.11468198,  -3.01946446,  -3.11891172,\n",
       "        -3.00784628,  -3.02260009,  -3.05164196,  -3.07889173,\n",
       "        -2.94844069,  -3.03643841,  -3.21048208,  -3.38354013,\n",
       "        -3.62519781,  -3.73625848,  -3.66209863,  -3.68845101,\n",
       "        -3.60967727,  -3.37801541,  -3.40437547,  -3.45921389,\n",
       "        -3.51319231,  -3.50871015,  -3.58059238,  -3.63505716,\n",
       "        -3.4668081 ,  -3.46896961,  -3.45687915,  -3.49148144,\n",
       "        -3.52461795,  -3.35124518,  -3.44936653,  -3.57521521,\n",
       "        -3.47078305,  -3.38539952,  -3.3184857 ,  -3.26424092,\n",
       "        -3.04581252,  -2.9674484 ,  -3.05090789,  -3.00494549,\n",
       "        -3.00055951,  -3.01474286,  -2.97251735,  -2.56203361,\n",
       "        -2.32460619,  -2.28035409,  -2.34182274,  -2.39738928,\n",
       "        -2.46552865,  -2.40697901,  -2.42133843,  -2.4108479 ,\n",
       "        -2.32992666,  -2.09240388,  -1.99914467,  -1.98721492,\n",
       "        -2.24899263,  -2.44980584,  -2.61828234,  -2.34564111,\n",
       "        -2.3322096 ,  -2.15825915,  -1.99312699,  -1.96506167,\n",
       "        -2.18878582,  -2.32223509,  -2.32444272,  -2.36201063,\n",
       "        -2.38613439,  -2.46832069,  -2.46080604,  -2.38838884,\n",
       "        -2.37218031,  -2.35669457,  -2.59703724,  -2.64444459,\n",
       "        -2.53220866,  -2.57660768,  -2.6549207 ,  -2.67354632,\n",
       "        -2.72175478,  -2.73339611,  -2.95034092,  -2.95584934,\n",
       "        -3.09264914,  -3.03351229,  -3.04808389,  -3.09529606,\n",
       "        -3.08943646,  -2.98076734,  -2.74045384,  -2.86869383,\n",
       "        -2.89551593,  -2.95375078,  -3.03801127,  -2.89254022,\n",
       "        -2.8605006 ,  -2.85142398,  -2.80809398,  -2.96265943,\n",
       "        -3.11677431,  -3.13500302,  -3.29329853,  -3.34095135,\n",
       "        -3.34475376,  -3.36226031,  -3.41512843,  -3.53889342,\n",
       "        -3.71514632,  -3.72902291,  -3.66595068,  -3.57460077,\n",
       "        -3.48643944,  -3.40392757,  -3.45605941,  -3.37434118,\n",
       "        -3.30804341,  -3.16190431,  -3.14121844,  -3.14557395,\n",
       "        -3.29174639,  -3.24843043,  -3.4762039 ,  -3.55295278,\n",
       "        -3.68152457,  -3.37878021,  -3.10208712,  -3.08244911,\n",
       "        -3.20006219,  -3.4840934 ,  -3.47563505,  -3.42438681,\n",
       "        -3.43100177,  -3.41017917,  -3.42076939,  -3.54200726,\n",
       "        -3.54022996,  -3.59222881,  -3.59376158,  -3.5939168 ,\n",
       "        -3.62016611,  -3.46191762,  -3.5405662 ,  -3.68277954,\n",
       "        -3.80437812,  -3.86831427,  -3.86039819,  -3.9720152 ,\n",
       "        -3.6802997 ,  -3.71528908,  -3.81429942,  -4.00108135,\n",
       "        -4.07926907,  -4.00186821,  -3.81329925,  -3.96730913,\n",
       "        -4.05385077,  -3.97917798,  -3.78727554,  -3.71191002,\n",
       "        -3.78059842,  -3.8661044 ,  -3.84580656,  -3.88137179,\n",
       "        -3.86700527,  -3.59421872,  -3.4283175 ,  -3.55573713,\n",
       "        -3.63400896,  -3.69319634,  -3.57404359,  -3.49627519,\n",
       "        -3.2771468 ,  -3.25310446,  -3.1971335 ,  -3.30816809,\n",
       "        -3.34181209,  -3.33533571,  -3.20654437,  -3.26439178,\n",
       "        -3.18645361,  -3.16452042,  -3.26078001,  -3.2395202 ])"
      ]
     },
     "execution_count": 313,
     "metadata": {},
     "output_type": "execute_result"
    }
   ],
   "source": [
    "np.subtract(l1_validation_loss, l1_test_loss)"
   ]
  },
  {
   "cell_type": "markdown",
   "metadata": {},
   "source": [
    "## 3. $$||Y - XW||_1$$"
   ]
  },
  {
   "cell_type": "code",
   "execution_count": 305,
   "metadata": {
    "ExecuteTime": {
     "end_time": "2020-11-24T00:26:19.077700Z",
     "start_time": "2020-11-24T00:26:19.029741Z"
    }
   },
   "outputs": [],
   "source": [
    "def SGD_norm1(X_train, y_train, X_validation, y_validation, X_test, y_test, eta, batch_size, iterations):\n",
    "    w = np.zeros(X_train.shape[1])\n",
    "    train_loss, validation_loss, test_loss = list(), list(), list()\n",
    "    \n",
    "    for _ in range(iterations):\n",
    "        indices = np.random.choice(X_train.shape[0], batch_size, replace=False)\n",
    "        selected_X_train = X_train[indices]\n",
    "        selected_y_train = y_train[indices]\n",
    "        train_SSE = np.sum(np.abs(selected_y_train - selected_X_train.dot(w)))/2\n",
    "        validation_SSE = np.sum(np.abs(y_validation - X_validation.dot(w)))/2\n",
    "        test_SSE = np.sum(np.abs(y_test - X_test.dot(w)))/2\n",
    "        train_loss.append(train_SSE)\n",
    "        validation_loss.append(validation_SSE)\n",
    "        test_loss.append(test_SSE)\n",
    "        gradient = selected_X_train\n",
    "        gradient[(selected_y_train - selected_X_train.dot(w)) < 0] = gradient[(selected_y_train - selected_X_train.dot(w)) < 0] * (-1)\n",
    "        gradient = np.sum(gradient, axis=0)\n",
    "        w += eta * gradient\n",
    "    return train_loss, validation_loss, test_loss, w"
   ]
  },
  {
   "cell_type": "code",
   "execution_count": 306,
   "metadata": {
    "ExecuteTime": {
     "end_time": "2020-11-24T00:26:19.980277Z",
     "start_time": "2020-11-24T00:26:19.444492Z"
    }
   },
   "outputs": [],
   "source": [
    "n1_train_loss, n1_validation_loss, n1_test_loss, w = SGD_norm1(X_train, y_train, X_validation, y_validation, X_test, y_test, eta, batch_size, iterations_no)"
   ]
  },
  {
   "cell_type": "code",
   "execution_count": 307,
   "metadata": {
    "ExecuteTime": {
     "end_time": "2020-11-24T00:26:20.462042Z",
     "start_time": "2020-11-24T00:26:19.997289Z"
    }
   },
   "outputs": [
    {
     "data": {
      "image/png": "[encoded data removed]",
      "text/plain": [
       "<Figure size 1200x800 with 1 Axes>"
      ]
     },
     "metadata": {},
     "output_type": "display_data"
    }
   ],
   "source": [
    "plotting(n1_validation_loss, n1_test_loss, \"SGD norm1\")"
   ]
  },
  {
   "cell_type": "code",
   "execution_count": 312,
   "metadata": {
    "ExecuteTime": {
     "end_time": "2020-11-24T00:27:45.124773Z",
     "start_time": "2020-11-24T00:27:45.092653Z"
    },
    "scrolled": true
   },
   "outputs": [
    {
     "data": {
      "text/plain": [
       "array([-3.43534636e-01, -3.50119334e-01, -3.48265904e-01, -3.45857615e-01,\n",
       "       -3.44672503e-01, -2.74779538e-01, -1.64297067e-01, -4.62961818e-02,\n",
       "       -1.28544138e-02, -4.96765584e-02, -7.13407618e-02, -1.26049520e-01,\n",
       "       -1.79544721e-01, -2.72594825e-01, -2.77950003e-01, -2.98762805e-01,\n",
       "       -3.02956537e-01, -3.00625683e-01, -2.60532641e-01, -2.91970746e-01,\n",
       "       -3.06849864e-01, -3.14825630e-01, -3.17372558e-01, -3.00564413e-01,\n",
       "       -3.01198265e-01, -3.16817289e-01, -3.16811808e-01, -3.01252035e-01,\n",
       "       -2.98913956e-01, -2.90814920e-01, -2.66430406e-01, -2.86279396e-01,\n",
       "       -2.90720615e-01, -2.92648487e-01, -2.90987523e-01, -2.86506750e-01,\n",
       "       -2.86557928e-01, -2.84179292e-01, -2.87832791e-01, -2.98670926e-01,\n",
       "       -2.96346477e-01, -2.93176159e-01, -2.85961708e-01, -2.87834437e-01,\n",
       "       -2.75742449e-01, -2.75543914e-01, -2.66267328e-01, -2.60270851e-01,\n",
       "       -2.58085206e-01, -2.56674510e-01, -2.51375138e-01, -2.34275249e-01,\n",
       "       -2.41853003e-01, -2.46825322e-01, -2.26921109e-01, -2.32129112e-01,\n",
       "       -2.30904726e-01, -2.34885235e-01, -2.41229811e-01, -2.34631613e-01,\n",
       "       -2.37129926e-01, -2.38550216e-01, -2.30791405e-01, -2.41609450e-01,\n",
       "       -2.20114073e-01, -2.16176090e-01, -2.21839672e-01, -2.29067622e-01,\n",
       "       -2.28450635e-01, -2.21129810e-01, -2.05498604e-01, -2.09277395e-01,\n",
       "       -2.22564243e-01, -2.29616370e-01, -2.26156525e-01, -2.14453072e-01,\n",
       "       -2.19397167e-01, -2.10564211e-01, -2.10645712e-01, -2.08202730e-01,\n",
       "       -1.96600268e-01, -1.97036754e-01, -2.10497886e-01, -2.02436020e-01,\n",
       "       -2.00986202e-01, -1.73381242e-01, -2.04843073e-01, -1.76290923e-01,\n",
       "       -1.84779269e-01, -1.79399885e-01, -1.83996848e-01, -1.95874195e-01,\n",
       "       -2.03536383e-01, -1.82851081e-01, -1.84026197e-01, -1.95771419e-01,\n",
       "       -1.95120870e-01, -1.90125080e-01, -1.89566107e-01, -1.92694731e-01,\n",
       "       -1.91002750e-01, -2.18524466e-01, -2.10442568e-01, -2.08665930e-01,\n",
       "       -2.07950468e-01, -2.23967252e-01, -2.37421456e-01, -2.22268206e-01,\n",
       "       -2.16749744e-01, -2.11054505e-01, -1.97287591e-01, -2.07782068e-01,\n",
       "       -2.00953802e-01, -2.06327298e-01, -1.96585856e-01, -1.94040937e-01,\n",
       "       -1.92212438e-01, -1.85598390e-01, -1.88168751e-01, -1.89961905e-01,\n",
       "       -1.90379474e-01, -1.94841553e-01, -2.17279228e-01, -1.80947497e-01,\n",
       "       -1.96536961e-01, -1.64092100e-01, -1.74703299e-01, -1.73447720e-01,\n",
       "       -1.66727463e-01, -1.53965123e-01, -1.55554791e-01, -1.64364064e-01,\n",
       "       -1.69948041e-01, -1.71505953e-01, -1.74656766e-01, -1.84216600e-01,\n",
       "       -1.86891337e-01, -1.89332182e-01, -1.82905729e-01, -1.79950103e-01,\n",
       "       -1.71326981e-01, -1.89829022e-01, -1.76372972e-01, -1.63517657e-01,\n",
       "       -1.54605302e-01, -1.55108730e-01, -1.64448619e-01, -1.67845556e-01,\n",
       "       -1.62332560e-01, -1.96042577e-01, -1.54254810e-01, -1.70937270e-01,\n",
       "       -1.88241329e-01, -2.04513579e-01, -2.02022604e-01, -1.89118953e-01,\n",
       "       -1.96370499e-01, -1.98613049e-01, -1.88998950e-01, -1.73930169e-01,\n",
       "       -1.70698821e-01, -1.48631998e-01, -1.47323279e-01, -1.70735981e-01,\n",
       "       -1.73436974e-01, -1.52473875e-01, -1.44739106e-01, -1.60166482e-01,\n",
       "       -1.83513245e-01, -1.46536273e-01, -1.58054445e-01, -1.47021156e-01,\n",
       "       -1.47301651e-01, -1.40512757e-01, -1.46139446e-01, -1.59941835e-01,\n",
       "       -1.59730593e-01, -1.55185559e-01, -1.39283250e-01, -1.32123981e-01,\n",
       "       -1.47402649e-01, -1.30921260e-01, -1.31124459e-01, -1.22644335e-01,\n",
       "       -1.24144811e-01, -1.09545424e-01, -1.19128440e-01, -1.15160266e-01,\n",
       "       -1.10521592e-01, -1.15723460e-01, -1.11794162e-01, -1.10441039e-01,\n",
       "       -1.12597683e-01, -1.15599422e-01, -1.10350619e-01, -1.04786732e-01,\n",
       "       -1.08325504e-01, -1.05738946e-01, -1.05593288e-01, -1.05053301e-01,\n",
       "       -1.12066865e-01, -1.10010301e-01, -1.20136319e-01, -1.01734434e-01,\n",
       "       -9.94292865e-02, -9.85989066e-02, -1.36481052e-01, -1.35510425e-01,\n",
       "       -1.18477523e-01, -1.25366395e-01, -1.23731323e-01, -1.23881562e-01,\n",
       "       -1.20829586e-01, -1.21733743e-01, -1.17199854e-01, -1.16632514e-01,\n",
       "       -1.27535666e-01, -1.39777559e-01, -1.18050047e-01, -1.07525219e-01,\n",
       "       -9.84374397e-02, -1.07294562e-01, -1.21424230e-01, -1.16163369e-01,\n",
       "       -1.05292257e-01, -1.05246670e-01, -1.10339837e-01, -1.09273936e-01,\n",
       "       -1.38411613e-01, -1.15795175e-01, -1.10645036e-01, -1.06517242e-01,\n",
       "       -1.09182587e-01, -9.89273513e-02, -1.02509261e-01, -1.01959649e-01,\n",
       "       -9.98917137e-02, -1.03952290e-01, -1.00138162e-01, -9.63229486e-02,\n",
       "       -8.84980252e-02, -9.39761293e-02, -9.95192263e-02, -1.08718413e-01,\n",
       "       -9.33116090e-02, -9.85896559e-02, -1.13293128e-01, -1.36253554e-01,\n",
       "       -1.42184645e-01, -1.41770324e-01, -1.92610254e-01, -1.77064491e-01,\n",
       "       -1.56659124e-01, -1.02885398e-01, -1.07379714e-01, -1.05745554e-01,\n",
       "       -1.14417059e-01, -1.15168078e-01, -1.22130310e-01, -1.24425746e-01,\n",
       "       -1.64827158e-01, -1.59084972e-01, -1.15446858e-01, -1.05771451e-01,\n",
       "       -1.37918484e-01, -1.15227351e-01, -1.19351361e-01, -1.20543458e-01,\n",
       "       -1.26768212e-01, -1.41316926e-01, -1.61806532e-01, -1.84995067e-01,\n",
       "       -1.94397349e-01, -2.10084204e-01, -1.64727692e-01, -1.56318598e-01,\n",
       "       -1.51311013e-01, -1.12871400e-01, -1.21009319e-01, -1.18210667e-01,\n",
       "       -1.14336891e-01, -1.17418743e-01, -1.38053755e-01, -1.47160335e-01,\n",
       "       -1.42669783e-01, -1.45135990e-01, -1.29682138e-01, -1.23418196e-01,\n",
       "       -1.17567949e-01, -1.23580513e-01, -1.22256234e-01, -1.06033569e-01,\n",
       "       -1.00058308e-01, -9.99312445e-02, -1.02294983e-01, -9.93236414e-02,\n",
       "       -9.97350498e-02, -9.22478490e-02, -9.27195945e-02, -9.11606116e-02,\n",
       "       -7.98036103e-02, -8.61447283e-02, -8.35198750e-02, -8.63814023e-02,\n",
       "       -8.42826550e-02, -8.96990512e-02, -9.26430895e-02, -9.38765398e-02,\n",
       "       -9.52733122e-02, -9.51954679e-02, -9.71426845e-02, -1.09556437e-01,\n",
       "       -1.06613212e-01, -1.19324362e-01, -1.26606172e-01, -1.34439716e-01,\n",
       "       -1.06843994e-01, -8.59404437e-02, -8.46222087e-02, -8.07227860e-02,\n",
       "       -8.94903388e-02, -1.07049515e-01, -9.73841613e-02, -8.10465860e-02,\n",
       "       -7.96576165e-02, -6.72449258e-02, -6.90248450e-02, -6.38611230e-02,\n",
       "       -7.05043159e-02, -8.08603750e-02, -9.48710471e-02, -8.05724329e-02,\n",
       "       -9.33234028e-02, -9.54825355e-02, -7.41281646e-02, -5.83399221e-02,\n",
       "       -5.84181082e-02, -5.62680674e-02, -3.45252741e-02, -5.75892769e-02,\n",
       "       -7.82971652e-02, -6.42038951e-02, -3.68967178e-02, -5.30372854e-02,\n",
       "       -6.55496136e-02, -6.15292953e-02, -7.73237676e-02, -8.76978793e-02,\n",
       "       -8.44325186e-02, -7.17085666e-02, -7.32776747e-02, -7.13876615e-02,\n",
       "       -6.46100522e-02, -4.93239381e-02, -5.78681786e-02, -6.93693727e-02,\n",
       "       -9.27257127e-02, -7.98272548e-02, -7.58523068e-02, -8.43806487e-02,\n",
       "       -7.92459504e-02, -5.22835607e-02, -4.80299977e-02, -4.00578552e-02,\n",
       "       -4.32169945e-02, -4.60877701e-02, -4.13688091e-02, -1.30728149e-03,\n",
       "        2.66462382e-03, -1.63452255e-02, -3.35241026e-02, -3.63636914e-02,\n",
       "       -2.14265851e-02, -3.42007814e-02, -3.39542886e-02, -3.16432759e-02,\n",
       "       -2.14409343e-02, -2.82074913e-02, -5.59715505e-03,  8.93281128e-04,\n",
       "       -8.70152881e-03, -3.21268465e-02, -2.32457258e-02, -2.11117825e-02,\n",
       "       -3.79688707e-02, -1.30532849e-02, -1.00245070e-02, -2.97982179e-02,\n",
       "       -2.76311017e-02, -2.86690691e-02, -5.35320937e-02, -2.71962321e-02,\n",
       "       -2.36346300e-02, -8.04408795e-03, -7.77190446e-03, -6.97642127e-03,\n",
       "       -1.29690665e-02, -4.11178278e-02, -1.47329316e-02, -2.87666632e-02,\n",
       "       -2.59422254e-02, -3.40218572e-02, -3.73050424e-02, -5.29693371e-02,\n",
       "       -2.01615643e-02, -1.70641618e-02, -7.38854520e-03, -2.07936375e-02,\n",
       "       -2.91237231e-02, -1.90596226e-02, -2.85720833e-02, -1.96547950e-02,\n",
       "       -1.84222840e-02, -2.04596051e-02, -1.03368841e-02,  6.00382229e-03,\n",
       "       -3.97917769e-03, -2.21836291e-02, -2.65559305e-02, -2.73721212e-02,\n",
       "       -1.57384487e-02, -2.31406527e-02, -2.03161077e-02, -1.20737129e-02,\n",
       "       -8.23372552e-03, -1.86767389e-02, -1.09696247e-02, -2.99840149e-02,\n",
       "       -1.68039714e-02, -4.19013333e-03, -4.68186389e-03,  8.53917670e-03,\n",
       "        3.33902842e-03,  5.89482652e-03,  7.49404917e-03,  8.29714022e-04,\n",
       "       -5.77495983e-04,  7.90567946e-03, -4.66855495e-04, -1.91408630e-02,\n",
       "       -3.94022314e-03, -3.97957796e-03,  1.11408596e-02,  1.97156710e-03,\n",
       "       -5.39719897e-03, -3.24258312e-04,  6.28856629e-03, -8.41910495e-03,\n",
       "       -1.77610580e-03,  7.58002453e-03, -5.15845946e-03, -2.64745804e-03,\n",
       "        8.18096575e-04, -5.22943001e-04,  4.62979717e-04,  2.08044633e-02,\n",
       "        9.48253138e-03,  2.14925641e-02,  1.44349096e-02,  1.79776855e-02,\n",
       "        1.67933414e-02,  4.10867052e-03,  9.21644198e-03,  6.21212130e-03,\n",
       "        5.32912149e-03,  1.65695599e-02,  1.68124286e-02,  1.95010289e-02,\n",
       "        1.66106396e-02, -1.35296721e-02, -3.17200154e-02,  6.65115825e-03,\n",
       "        1.36312572e-02,  2.65754763e-02,  2.54324903e-02,  1.96896611e-02,\n",
       "        2.19575760e-02,  1.48278314e-02,  1.45356873e-02,  8.90907148e-03,\n",
       "        9.85671273e-03,  1.53194899e-02,  1.13905000e-02,  1.76481213e-02,\n",
       "        1.15265762e-02,  1.86958118e-02,  9.80304546e-03,  2.37819679e-02,\n",
       "        2.77438767e-02,  2.66136381e-02,  1.92765770e-02,  2.87409162e-02,\n",
       "        3.85792109e-02,  2.42867494e-02,  2.89523649e-02,  2.79997197e-02,\n",
       "        2.88386106e-02,  2.44728206e-02,  2.45178345e-02,  3.62342513e-02,\n",
       "        3.59035128e-02,  3.70789084e-02,  3.95086776e-02,  3.61302198e-02,\n",
       "        3.44380829e-02,  1.70037539e-02, -1.17328534e-02,  2.82623723e-02,\n",
       "        1.38930905e-02,  2.14899958e-02, -2.59711936e-02, -1.78713355e-02,\n",
       "        1.70846811e-02, -4.98967191e-03,  4.64932734e-02,  2.22328409e-03,\n",
       "        2.58734795e-02,  5.04614289e-02,  5.27490951e-02,  5.49109374e-02,\n",
       "        4.58783769e-02,  5.16626830e-02,  4.34591304e-02,  2.22757087e-02,\n",
       "        4.09625162e-02,  3.13904639e-02,  4.74965746e-02,  3.33953983e-02,\n",
       "        4.47088817e-02,  3.47800027e-02,  3.42627452e-02,  4.83664764e-02,\n",
       "        6.02815228e-02,  6.19162182e-02,  6.48578007e-02,  6.12832178e-02,\n",
       "        3.11409442e-02,  6.69015566e-02,  7.30097502e-02,  6.14353185e-02,\n",
       "        4.32417758e-02,  5.89906939e-02,  5.73131171e-02,  5.01304501e-02,\n",
       "        4.29034968e-02,  7.98591035e-02,  7.78946576e-02,  4.53936371e-02,\n",
       "        3.57228896e-02, -2.04604215e-02,  9.99738249e-03,  2.69320008e-02,\n",
       "        4.25029306e-02,  6.92985642e-02,  9.27007104e-02,  5.48003032e-02,\n",
       "        8.64152746e-02,  1.07402095e-01,  9.62804812e-02,  6.84324640e-02,\n",
       "        8.69474281e-02,  7.10253777e-02,  9.85577226e-02,  1.05832660e-01,\n",
       "        9.65384070e-02,  8.20161477e-02,  7.33697228e-02,  7.77952718e-02,\n",
       "        5.32277019e-02,  1.59124446e-02,  5.08652396e-02,  8.09946878e-02,\n",
       "        8.00667400e-02,  6.40349245e-02,  6.75658677e-02,  4.90033201e-02,\n",
       "        5.18615647e-02,  4.86761529e-02,  6.46155395e-02,  6.43120476e-02,\n",
       "        5.11339520e-02,  6.20790194e-02,  5.08005568e-03,  5.28553069e-02,\n",
       "        5.02771102e-02,  6.09898391e-02,  8.43676805e-02,  9.44957244e-02,\n",
       "        9.97149672e-02,  8.32767937e-02,  6.60796825e-02,  6.86331790e-02,\n",
       "        9.11801142e-02,  8.61891809e-02,  6.64077057e-02,  9.23885803e-02,\n",
       "        9.40864380e-02,  8.80191491e-02,  9.66981458e-02,  9.16424923e-02,\n",
       "        3.92032539e-02,  9.41681295e-02,  6.87151558e-02,  7.32599008e-02,\n",
       "        8.72084543e-02,  8.60080810e-02,  6.90469601e-02,  8.67361125e-02,\n",
       "        9.05274518e-02,  8.46479100e-02,  7.56288510e-02,  4.87837796e-02,\n",
       "        5.64766416e-02,  5.56154249e-02,  8.75602150e-02,  7.40688493e-02,\n",
       "        6.66540564e-02,  7.79193652e-02,  6.95681291e-02,  8.20712439e-02,\n",
       "        5.99454234e-02,  5.88424141e-02,  8.18731110e-02,  8.25674874e-02,\n",
       "        6.04689534e-02,  5.56747156e-02,  5.72257704e-02,  8.41848018e-02,\n",
       "        8.68710389e-02,  7.36696458e-02,  6.85146254e-02,  9.10517942e-02,\n",
       "        9.31525055e-02,  8.98249630e-02,  9.01902247e-02,  9.97009671e-02,\n",
       "        1.00722530e-01,  8.91134032e-02,  6.18840364e-02,  9.94929921e-02,\n",
       "        1.07121339e-01,  9.32755770e-02,  9.80393686e-02,  9.53627051e-02,\n",
       "        7.19811820e-02,  7.90190325e-02,  9.21947822e-02,  8.73800603e-02,\n",
       "        1.12599950e-01,  1.18884395e-01,  1.21248682e-01,  1.21727976e-01,\n",
       "        1.20675803e-01,  1.06560273e-01,  1.11703379e-01,  1.13633455e-01,\n",
       "        1.17405902e-01,  1.11858828e-01,  1.17110233e-01,  1.06877765e-01,\n",
       "        1.15729614e-01,  1.06791743e-01,  8.65329007e-02,  1.04055820e-01,\n",
       "        9.92152641e-02,  9.06552741e-02,  6.91330054e-02,  7.15293390e-02,\n",
       "        9.14586944e-02,  7.42281835e-02,  4.21122676e-02,  4.43839577e-02,\n",
       "        5.45733748e-02,  4.67324216e-02,  5.69493543e-02,  6.85814180e-02,\n",
       "        7.85050464e-02,  3.33772178e-02,  9.13060997e-02,  1.00036561e-01,\n",
       "        9.52854411e-02,  1.06840684e-01,  1.07211194e-01,  8.52578954e-02,\n",
       "        9.35559081e-02,  6.52043078e-02,  8.28566463e-02,  9.10222134e-02,\n",
       "        1.01223590e-01,  9.81372874e-02,  8.21556095e-02,  9.22222722e-02,\n",
       "        9.52682520e-02,  1.11744689e-01,  1.11080282e-01,  1.06350105e-01,\n",
       "        1.15887071e-01,  1.08045504e-01,  1.12365548e-01,  1.13989057e-01,\n",
       "        1.07547208e-01,  9.00264099e-02,  9.76805595e-02,  1.10852574e-01,\n",
       "        1.14416195e-01,  1.00748069e-01,  9.48274010e-02,  9.30231925e-02,\n",
       "        1.00987844e-01,  7.42194716e-02,  6.18939187e-02,  1.01820538e-01,\n",
       "        1.07376874e-01,  1.00776751e-01,  1.00128985e-01,  9.44000472e-02,\n",
       "        8.82205145e-02,  9.24241310e-02,  1.07384600e-01,  1.03712762e-01,\n",
       "        1.08127053e-01,  1.09644093e-01,  1.11274388e-01,  1.20707125e-01,\n",
       "        1.26360144e-01,  1.31349117e-01,  1.37615614e-01,  1.30019955e-01,\n",
       "        1.01579569e-01,  1.35924330e-01,  9.22506378e-02,  1.09865467e-01,\n",
       "        1.16759744e-01,  1.40983635e-01,  1.46478450e-01,  1.40156348e-01,\n",
       "        1.34292197e-01,  1.40511648e-01,  1.24533989e-01,  1.25567914e-01,\n",
       "        1.52946294e-01,  1.32715253e-01,  1.29952790e-01,  1.37452026e-01,\n",
       "        1.26289386e-01,  1.34285585e-01,  1.27452767e-01,  1.33039121e-01,\n",
       "        1.31351992e-01,  1.30097803e-01,  1.33128601e-01,  1.23512324e-01,\n",
       "        1.41059738e-01,  1.40478239e-01,  1.38207622e-01,  1.29414888e-01,\n",
       "        1.28535015e-01,  1.16173616e-01,  1.10792760e-01,  1.07404866e-01,\n",
       "        1.04740337e-01,  1.07721070e-01,  1.13764563e-01,  1.03590223e-01,\n",
       "        1.03739079e-01,  1.00445361e-01,  9.84435326e-02,  1.13171849e-01,\n",
       "        1.15045424e-01,  1.16139788e-01,  1.06437980e-01,  1.14334552e-01,\n",
       "        1.08199103e-01,  1.18197731e-01,  1.24704148e-01,  1.33627862e-01,\n",
       "        1.43560655e-01,  1.46163252e-01,  1.44611095e-01,  1.40339707e-01,\n",
       "        1.38334147e-01,  1.34016663e-01,  1.30524299e-01,  1.23903756e-01,\n",
       "        1.24114212e-01,  1.21606576e-01,  1.26555849e-01,  1.22715767e-01,\n",
       "        1.06038735e-01,  1.19793767e-01,  1.27690726e-01,  1.38882866e-01,\n",
       "        1.48695778e-01,  1.23026534e-01,  1.56352249e-01,  1.64409865e-01,\n",
       "        1.62120716e-01,  1.55480224e-01,  1.45352738e-01,  1.48621369e-01,\n",
       "        1.57440801e-01,  1.64460170e-01,  1.75757579e-01,  1.65200670e-01,\n",
       "        1.68739504e-01,  1.27328986e-01,  1.37156950e-01,  1.27222523e-01,\n",
       "        1.48112988e-01,  1.53309147e-01,  1.37184393e-01,  1.65770889e-01,\n",
       "        1.67771354e-01,  1.78311719e-01,  1.55552981e-01,  1.75631234e-01,\n",
       "        1.72928574e-01,  1.03711965e-01,  9.65555771e-02,  1.53203165e-01,\n",
       "        1.61726219e-01,  1.53698839e-01,  1.71445926e-01,  1.72109620e-01,\n",
       "        1.71656319e-01,  1.70054865e-01,  1.54073442e-01,  1.75463018e-01,\n",
       "        1.80148242e-01,  1.75648456e-01,  1.59996755e-01,  1.67925251e-01,\n",
       "        1.94380702e-01,  1.94986115e-01,  1.88439457e-01,  1.76735238e-01,\n",
       "        1.76127153e-01,  1.66897644e-01,  1.86161553e-01,  1.64018673e-01,\n",
       "        1.84506662e-01,  1.82937221e-01,  1.49624092e-01,  1.63325528e-01,\n",
       "        1.60305124e-01,  2.04927892e-01,  1.93941140e-01,  2.10002728e-01,\n",
       "        2.05705893e-01,  2.03741760e-01,  1.99874263e-01,  2.03140662e-01,\n",
       "        2.07951834e-01,  2.04136593e-01,  2.01607527e-01,  1.96406253e-01,\n",
       "        1.48356902e-01,  1.43349384e-01,  1.66421112e-01,  2.01093947e-01,\n",
       "        2.14924486e-01,  2.02818957e-01,  2.06269685e-01,  1.98550016e-01,\n",
       "        2.15871446e-01,  2.26417852e-01,  2.29630911e-01,  2.35552262e-01,\n",
       "        2.36206108e-01,  2.29543693e-01,  2.32436403e-01,  2.31361001e-01,\n",
       "        2.20484792e-01,  2.20273872e-01,  2.13338978e-01,  2.23865543e-01,\n",
       "        2.37267885e-01,  2.34594470e-01,  2.23306945e-01,  2.36331164e-01,\n",
       "        2.13440609e-01,  1.37163599e-01,  2.07832579e-01,  2.15469782e-01,\n",
       "        2.09137436e-01,  1.92726336e-01,  2.22820431e-01,  2.23766013e-01,\n",
       "        2.22893884e-01,  2.22007492e-01,  2.17501835e-01,  2.13022868e-01,\n",
       "        2.06670325e-01,  1.92344072e-01,  2.01451464e-01,  1.87977076e-01,\n",
       "        1.81121369e-01,  1.80505689e-01,  1.78833346e-01,  1.78540162e-01,\n",
       "        1.82304031e-01,  1.82810067e-01,  1.77544304e-01,  1.77741181e-01,\n",
       "        1.75387405e-01,  1.57830053e-01,  1.62095703e-01,  1.34845153e-01,\n",
       "        1.78949097e-01,  1.81000288e-01,  1.98381569e-01,  2.04553098e-01,\n",
       "        2.04049461e-01,  1.95896247e-01,  1.85487944e-01,  1.72583802e-01,\n",
       "        1.96783724e-01,  2.07217222e-01,  1.83502818e-01,  2.14036853e-01,\n",
       "        1.81630087e-01,  2.22914976e-01,  2.18218782e-01,  2.19779735e-01,\n",
       "        2.26112260e-01,  2.20471892e-01,  2.21928384e-01,  2.16324197e-01,\n",
       "        2.15464843e-01,  1.90179969e-01,  2.04817582e-01,  1.64396239e-01,\n",
       "        2.31595524e-01,  2.19423361e-01,  2.14995355e-01,  1.64934852e-01,\n",
       "        2.05708088e-01,  2.33104959e-01,  2.05517389e-01,  2.24065102e-01,\n",
       "        2.19487873e-01,  2.35881480e-01,  2.26338562e-01,  2.50344400e-01,\n",
       "        2.44918022e-01,  2.30222910e-01,  2.35231805e-01,  2.29562113e-01,\n",
       "        1.91965492e-01,  1.47209455e-01,  1.30311512e-01,  1.90626137e-01,\n",
       "        1.88787204e-01,  2.05723366e-01,  2.48495786e-01,  2.64198763e-01,\n",
       "        2.70309029e-01,  2.69305255e-01,  2.21313338e-01,  2.08360461e-01,\n",
       "        2.08908595e-01,  2.10482673e-01,  2.39604346e-01,  2.44436839e-01,\n",
       "        2.25951327e-01,  2.21568475e-01,  2.46354005e-01,  2.38602279e-01,\n",
       "        2.36030920e-01,  2.44327796e-01,  2.44953313e-01,  2.45944124e-01,\n",
       "        2.30161874e-01,  2.39926338e-01,  2.38962447e-01,  2.40613211e-01,\n",
       "        2.21037504e-01,  2.23013706e-01,  1.85982648e-01,  2.32240657e-01,\n",
       "        2.31665065e-01,  2.45819178e-01,  2.24353065e-01,  2.50255808e-01,\n",
       "        2.46849263e-01,  2.23267550e-01,  2.34272908e-01,  2.44219546e-01,\n",
       "        2.43091142e-01,  2.38244165e-01,  2.35618674e-01,  2.41629300e-01,\n",
       "        2.04929397e-01,  2.21254941e-01,  2.30261661e-01,  2.03949459e-01,\n",
       "        2.37545015e-01,  1.98386928e-01,  2.18585039e-01,  2.19997434e-01])"
      ]
     },
     "execution_count": 312,
     "metadata": {},
     "output_type": "execute_result"
    }
   ],
   "source": [
    "np.subtract(n1_validation_loss, n1_test_loss)"
   ]
  },
  {
   "cell_type": "markdown",
   "metadata": {},
   "source": [
    "## 4. "
   ]
  }
 ],
 "metadata": {
  "kernelspec": {
   "display_name": "Python 3",
   "language": "python",
   "name": "python3"
  },
  "language_info": {
   "codemirror_mode": {
    "name": "ipython",
    "version": 3
   },
   "file_extension": ".py",
   "mimetype": "text/x-python",
   "name": "python",
   "nbconvert_exporter": "python",
   "pygments_lexer": "ipython3",
   "version": "3.6.9"
  }
 },
 "nbformat": 4,
 "nbformat_minor": 2
}
