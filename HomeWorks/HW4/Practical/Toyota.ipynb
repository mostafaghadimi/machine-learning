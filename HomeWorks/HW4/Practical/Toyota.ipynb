{
 "cells": [
  {
   "cell_type": "markdown",
   "metadata": {},
   "source": [
    "## Importing packages"
   ]
  },
  {
   "cell_type": "code",
   "execution_count": 178,
   "metadata": {
    "ExecuteTime": {
     "end_time": "2020-11-23T22:13:56.070084Z",
     "start_time": "2020-11-23T22:13:55.658061Z"
    }
   },
   "outputs": [],
   "source": [
    "import numpy as np\n",
    "import pandas as pd\n",
    "import matplotlib.pyplot as plt"
   ]
  },
  {
   "cell_type": "markdown",
   "metadata": {
    "ExecuteTime": {
     "end_time": "2020-11-24T00:24:27.682385Z",
     "start_time": "2020-11-24T00:24:27.659201Z"
    }
   },
   "source": [
    "## Matplotlib Configuration"
   ]
  },
  {
   "cell_type": "code",
   "execution_count": 274,
   "metadata": {
    "ExecuteTime": {
     "end_time": "2020-11-24T00:24:18.135996Z",
     "start_time": "2020-11-24T00:24:18.124820Z"
    }
   },
   "outputs": [],
   "source": [
    "plt.rcParams['figure.figsize'] = [12, 8]\n",
    "plt.rcParams['figure.dpi'] = 100 "
   ]
  },
  {
   "cell_type": "markdown",
   "metadata": {},
   "source": [
    "## Reading Data"
   ]
  },
  {
   "cell_type": "code",
   "execution_count": 244,
   "metadata": {
    "ExecuteTime": {
     "end_time": "2020-11-24T00:08:44.984760Z",
     "start_time": "2020-11-24T00:08:44.680623Z"
    }
   },
   "outputs": [
    {
     "data": {
      "text/html": [
       "<div>\n",
       "<style scoped>\n",
       "    .dataframe tbody tr th:only-of-type {\n",
       "        vertical-align: middle;\n",
       "    }\n",
       "\n",
       "    .dataframe tbody tr th {\n",
       "        vertical-align: top;\n",
       "    }\n",
       "\n",
       "    .dataframe thead th {\n",
       "        text-align: right;\n",
       "    }\n",
       "</style>\n",
       "<table border=\"1\" class=\"dataframe\">\n",
       "  <thead>\n",
       "    <tr style=\"text-align: right;\">\n",
       "      <th></th>\n",
       "      <th>Model</th>\n",
       "      <th>Price</th>\n",
       "      <th>Age_08_04</th>\n",
       "      <th>Mfg_Month</th>\n",
       "      <th>Mfg_Year</th>\n",
       "      <th>KM</th>\n",
       "      <th>Fuel_Type</th>\n",
       "      <th>HP</th>\n",
       "      <th>Met_Color</th>\n",
       "      <th>Color</th>\n",
       "      <th>...</th>\n",
       "      <th>Powered_Windows</th>\n",
       "      <th>Power_Steering</th>\n",
       "      <th>Radio</th>\n",
       "      <th>Mistlamps</th>\n",
       "      <th>Sport_Model</th>\n",
       "      <th>Backseat_Divider</th>\n",
       "      <th>Metallic_Rim</th>\n",
       "      <th>Radio_cassette</th>\n",
       "      <th>Parking_Assistant</th>\n",
       "      <th>Tow_Bar</th>\n",
       "    </tr>\n",
       "    <tr>\n",
       "      <th>Id</th>\n",
       "      <th></th>\n",
       "      <th></th>\n",
       "      <th></th>\n",
       "      <th></th>\n",
       "      <th></th>\n",
       "      <th></th>\n",
       "      <th></th>\n",
       "      <th></th>\n",
       "      <th></th>\n",
       "      <th></th>\n",
       "      <th></th>\n",
       "      <th></th>\n",
       "      <th></th>\n",
       "      <th></th>\n",
       "      <th></th>\n",
       "      <th></th>\n",
       "      <th></th>\n",
       "      <th></th>\n",
       "      <th></th>\n",
       "      <th></th>\n",
       "      <th></th>\n",
       "    </tr>\n",
       "  </thead>\n",
       "  <tbody>\n",
       "    <tr>\n",
       "      <th>1</th>\n",
       "      <td>TOYOTA Corolla 2.0 D4D HATCHB TERRA 2/3-Doors</td>\n",
       "      <td>13500</td>\n",
       "      <td>23</td>\n",
       "      <td>10</td>\n",
       "      <td>2002</td>\n",
       "      <td>46986</td>\n",
       "      <td>Diesel</td>\n",
       "      <td>90</td>\n",
       "      <td>1</td>\n",
       "      <td>Blue</td>\n",
       "      <td>...</td>\n",
       "      <td>1</td>\n",
       "      <td>1</td>\n",
       "      <td>0</td>\n",
       "      <td>0</td>\n",
       "      <td>0</td>\n",
       "      <td>1</td>\n",
       "      <td>0</td>\n",
       "      <td>0</td>\n",
       "      <td>0</td>\n",
       "      <td>0</td>\n",
       "    </tr>\n",
       "    <tr>\n",
       "      <th>2</th>\n",
       "      <td>TOYOTA Corolla 2.0 D4D HATCHB TERRA 2/3-Doors</td>\n",
       "      <td>13750</td>\n",
       "      <td>23</td>\n",
       "      <td>10</td>\n",
       "      <td>2002</td>\n",
       "      <td>72937</td>\n",
       "      <td>Diesel</td>\n",
       "      <td>90</td>\n",
       "      <td>1</td>\n",
       "      <td>Silver</td>\n",
       "      <td>...</td>\n",
       "      <td>0</td>\n",
       "      <td>1</td>\n",
       "      <td>0</td>\n",
       "      <td>0</td>\n",
       "      <td>0</td>\n",
       "      <td>1</td>\n",
       "      <td>0</td>\n",
       "      <td>0</td>\n",
       "      <td>0</td>\n",
       "      <td>0</td>\n",
       "    </tr>\n",
       "    <tr>\n",
       "      <th>3</th>\n",
       "      <td>TOYOTA Corolla 2.0 D4D HATCHB TERRA 2/3-Doors</td>\n",
       "      <td>13950</td>\n",
       "      <td>24</td>\n",
       "      <td>9</td>\n",
       "      <td>2002</td>\n",
       "      <td>41711</td>\n",
       "      <td>Diesel</td>\n",
       "      <td>90</td>\n",
       "      <td>1</td>\n",
       "      <td>Blue</td>\n",
       "      <td>...</td>\n",
       "      <td>0</td>\n",
       "      <td>1</td>\n",
       "      <td>0</td>\n",
       "      <td>0</td>\n",
       "      <td>0</td>\n",
       "      <td>1</td>\n",
       "      <td>0</td>\n",
       "      <td>0</td>\n",
       "      <td>0</td>\n",
       "      <td>0</td>\n",
       "    </tr>\n",
       "    <tr>\n",
       "      <th>4</th>\n",
       "      <td>TOYOTA Corolla 2.0 D4D HATCHB TERRA 2/3-Doors</td>\n",
       "      <td>14950</td>\n",
       "      <td>26</td>\n",
       "      <td>7</td>\n",
       "      <td>2002</td>\n",
       "      <td>48000</td>\n",
       "      <td>Diesel</td>\n",
       "      <td>90</td>\n",
       "      <td>0</td>\n",
       "      <td>Black</td>\n",
       "      <td>...</td>\n",
       "      <td>0</td>\n",
       "      <td>1</td>\n",
       "      <td>0</td>\n",
       "      <td>0</td>\n",
       "      <td>0</td>\n",
       "      <td>1</td>\n",
       "      <td>0</td>\n",
       "      <td>0</td>\n",
       "      <td>0</td>\n",
       "      <td>0</td>\n",
       "    </tr>\n",
       "    <tr>\n",
       "      <th>5</th>\n",
       "      <td>TOYOTA Corolla 2.0 D4D HATCHB SOL 2/3-Doors</td>\n",
       "      <td>13750</td>\n",
       "      <td>30</td>\n",
       "      <td>3</td>\n",
       "      <td>2002</td>\n",
       "      <td>38500</td>\n",
       "      <td>Diesel</td>\n",
       "      <td>90</td>\n",
       "      <td>0</td>\n",
       "      <td>Black</td>\n",
       "      <td>...</td>\n",
       "      <td>1</td>\n",
       "      <td>1</td>\n",
       "      <td>0</td>\n",
       "      <td>1</td>\n",
       "      <td>0</td>\n",
       "      <td>1</td>\n",
       "      <td>0</td>\n",
       "      <td>0</td>\n",
       "      <td>0</td>\n",
       "      <td>0</td>\n",
       "    </tr>\n",
       "  </tbody>\n",
       "</table>\n",
       "<p>5 rows × 38 columns</p>\n",
       "</div>"
      ],
      "text/plain": [
       "                                             Model  Price  Age_08_04  \\\n",
       "Id                                                                     \n",
       "1    TOYOTA Corolla 2.0 D4D HATCHB TERRA 2/3-Doors  13500         23   \n",
       "2    TOYOTA Corolla 2.0 D4D HATCHB TERRA 2/3-Doors  13750         23   \n",
       "3    TOYOTA Corolla 2.0 D4D HATCHB TERRA 2/3-Doors  13950         24   \n",
       "4    TOYOTA Corolla 2.0 D4D HATCHB TERRA 2/3-Doors  14950         26   \n",
       "5      TOYOTA Corolla 2.0 D4D HATCHB SOL 2/3-Doors  13750         30   \n",
       "\n",
       "    Mfg_Month  Mfg_Year     KM Fuel_Type  HP  Met_Color   Color  ...  \\\n",
       "Id                                                               ...   \n",
       "1          10      2002  46986    Diesel  90          1    Blue  ...   \n",
       "2          10      2002  72937    Diesel  90          1  Silver  ...   \n",
       "3           9      2002  41711    Diesel  90          1    Blue  ...   \n",
       "4           7      2002  48000    Diesel  90          0   Black  ...   \n",
       "5           3      2002  38500    Diesel  90          0   Black  ...   \n",
       "\n",
       "    Powered_Windows  Power_Steering  Radio  Mistlamps  Sport_Model  \\\n",
       "Id                                                                   \n",
       "1                 1               1      0          0            0   \n",
       "2                 0               1      0          0            0   \n",
       "3                 0               1      0          0            0   \n",
       "4                 0               1      0          0            0   \n",
       "5                 1               1      0          1            0   \n",
       "\n",
       "    Backseat_Divider  Metallic_Rim  Radio_cassette  Parking_Assistant  Tow_Bar  \n",
       "Id                                                                              \n",
       "1                  1             0               0                  0        0  \n",
       "2                  1             0               0                  0        0  \n",
       "3                  1             0               0                  0        0  \n",
       "4                  1             0               0                  0        0  \n",
       "5                  1             0               0                  0        0  \n",
       "\n",
       "[5 rows x 38 columns]"
      ]
     },
     "execution_count": 244,
     "metadata": {},
     "output_type": "execute_result"
    }
   ],
   "source": [
    "df = pd.read_excel(\"./ToyotaCorolla.xls\", \"data\", index_col=0)\n",
    "df.head()"
   ]
  },
  {
   "cell_type": "markdown",
   "metadata": {},
   "source": [
    "## One-hot Encoding\n"
   ]
  },
  {
   "cell_type": "code",
   "execution_count": 163,
   "metadata": {
    "ExecuteTime": {
     "end_time": "2020-11-23T22:05:16.522071Z",
     "start_time": "2020-11-23T22:05:16.470629Z"
    }
   },
   "outputs": [],
   "source": [
    "one_hot_columns = [\"Fuel_Type\", \"Color\"]\n",
    "for column in one_hot_columns:\n",
    "    dummies = pd.get_dummies(df[column])\n",
    "    df[dummies.columns] = dummies\n",
    "df.drop(columns=one_hot_columns, inplace=True)"
   ]
  },
  {
   "cell_type": "code",
   "execution_count": 164,
   "metadata": {
    "ExecuteTime": {
     "end_time": "2020-11-23T22:05:16.542209Z",
     "start_time": "2020-11-23T22:05:16.528866Z"
    }
   },
   "outputs": [
    {
     "data": {
      "text/plain": [
       "(1436, 48)"
      ]
     },
     "execution_count": 164,
     "metadata": {},
     "output_type": "execute_result"
    }
   ],
   "source": [
    "df.drop(columns=[\"Model\"], inplace=True)\n",
    "df.shape"
   ]
  },
  {
   "cell_type": "markdown",
   "metadata": {},
   "source": [
    "## Normalization"
   ]
  },
  {
   "cell_type": "code",
   "execution_count": 165,
   "metadata": {
    "ExecuteTime": {
     "end_time": "2020-11-23T22:05:16.915754Z",
     "start_time": "2020-11-23T22:05:16.809773Z"
    }
   },
   "outputs": [],
   "source": [
    "# MinMax Normalization for better performance\n",
    "df = (df - df.min()) / (df.max() - df.min())"
   ]
  },
  {
   "cell_type": "code",
   "execution_count": 166,
   "metadata": {
    "ExecuteTime": {
     "end_time": "2020-11-23T22:05:16.945461Z",
     "start_time": "2020-11-23T22:05:16.928175Z"
    }
   },
   "outputs": [
    {
     "data": {
      "text/plain": [
       "Price                   0\n",
       "Age_08_04               0\n",
       "Mfg_Month               0\n",
       "Mfg_Year                0\n",
       "KM                      0\n",
       "HP                      0\n",
       "Met_Color               0\n",
       "Automatic               0\n",
       "CC                      0\n",
       "Doors                   0\n",
       "Cylinders            1436\n",
       "Gears                   0\n",
       "Quarterly_Tax           0\n",
       "Weight                  0\n",
       "Mfr_Guarantee           0\n",
       "BOVAG_Guarantee         0\n",
       "Guarantee_Period        0\n",
       "ABS                     0\n",
       "Airbag_1                0\n",
       "Airbag_2                0\n",
       "Airco                   0\n",
       "Automatic_airco         0\n",
       "Boardcomputer           0\n",
       "CD_Player               0\n",
       "Central_Lock            0\n",
       "Powered_Windows         0\n",
       "Power_Steering          0\n",
       "Radio                   0\n",
       "Mistlamps               0\n",
       "Sport_Model             0\n",
       "Backseat_Divider        0\n",
       "Metallic_Rim            0\n",
       "Radio_cassette          0\n",
       "Parking_Assistant       0\n",
       "Tow_Bar                 0\n",
       "CNG                     0\n",
       "Diesel                  0\n",
       "Petrol                  0\n",
       "Beige                   0\n",
       "Black                   0\n",
       "Blue                    0\n",
       "Green                   0\n",
       "Grey                    0\n",
       "Red                     0\n",
       "Silver                  0\n",
       "Violet                  0\n",
       "White                   0\n",
       "Yellow                  0\n",
       "dtype: int64"
      ]
     },
     "execution_count": 166,
     "metadata": {},
     "output_type": "execute_result"
    }
   ],
   "source": [
    "df.isna().sum()"
   ]
  },
  {
   "cell_type": "code",
   "execution_count": 167,
   "metadata": {
    "ExecuteTime": {
     "end_time": "2020-11-23T22:05:17.057507Z",
     "start_time": "2020-11-23T22:05:17.054377Z"
    }
   },
   "outputs": [],
   "source": [
    "df.fillna(0, inplace=True)"
   ]
  },
  {
   "cell_type": "code",
   "execution_count": 168,
   "metadata": {
    "ExecuteTime": {
     "end_time": "2020-11-23T22:05:17.472514Z",
     "start_time": "2020-11-23T22:05:17.461905Z"
    }
   },
   "outputs": [
    {
     "data": {
      "text/plain": [
       "Price                0\n",
       "Age_08_04            0\n",
       "Mfg_Month            0\n",
       "Mfg_Year             0\n",
       "KM                   0\n",
       "HP                   0\n",
       "Met_Color            0\n",
       "Automatic            0\n",
       "CC                   0\n",
       "Doors                0\n",
       "Cylinders            0\n",
       "Gears                0\n",
       "Quarterly_Tax        0\n",
       "Weight               0\n",
       "Mfr_Guarantee        0\n",
       "BOVAG_Guarantee      0\n",
       "Guarantee_Period     0\n",
       "ABS                  0\n",
       "Airbag_1             0\n",
       "Airbag_2             0\n",
       "Airco                0\n",
       "Automatic_airco      0\n",
       "Boardcomputer        0\n",
       "CD_Player            0\n",
       "Central_Lock         0\n",
       "Powered_Windows      0\n",
       "Power_Steering       0\n",
       "Radio                0\n",
       "Mistlamps            0\n",
       "Sport_Model          0\n",
       "Backseat_Divider     0\n",
       "Metallic_Rim         0\n",
       "Radio_cassette       0\n",
       "Parking_Assistant    0\n",
       "Tow_Bar              0\n",
       "CNG                  0\n",
       "Diesel               0\n",
       "Petrol               0\n",
       "Beige                0\n",
       "Black                0\n",
       "Blue                 0\n",
       "Green                0\n",
       "Grey                 0\n",
       "Red                  0\n",
       "Silver               0\n",
       "Violet               0\n",
       "White                0\n",
       "Yellow               0\n",
       "dtype: int64"
      ]
     },
     "execution_count": 168,
     "metadata": {},
     "output_type": "execute_result"
    }
   ],
   "source": [
    "df.isna().sum()"
   ]
  },
  {
   "cell_type": "markdown",
   "metadata": {},
   "source": [
    "## Train Validation Test Split"
   ]
  },
  {
   "cell_type": "code",
   "execution_count": 169,
   "metadata": {
    "ExecuteTime": {
     "end_time": "2020-11-23T22:05:17.818481Z",
     "start_time": "2020-11-23T22:05:17.807333Z"
    }
   },
   "outputs": [],
   "source": [
    "def train_validation_test_split(df, train_size, validation_size, test_size):\n",
    "    train = df.sample(frac=train_size, random_state=0)\n",
    "    df.drop(train.index, inplace=True)\n",
    "    print(\"train_size:\", train.shape)\n",
    "    validation_size = (validation_size) / (validation_size + test_size)\n",
    "    validation = df.sample(frac=validation_size, random_state=0)\n",
    "    df.drop(validation.index, inplace=True)\n",
    "    print(\"validation_size:\", validation.shape)\n",
    "    test = df\n",
    "    print(\"test_size:\", test.shape)\n",
    "    return train, validation, test"
   ]
  },
  {
   "cell_type": "code",
   "execution_count": 170,
   "metadata": {
    "ExecuteTime": {
     "end_time": "2020-11-23T22:05:18.109060Z",
     "start_time": "2020-11-23T22:05:18.085382Z"
    }
   },
   "outputs": [
    {
     "name": "stdout",
     "output_type": "stream",
     "text": [
      "train_size: (1005, 48)\n",
      "validation_size: (216, 48)\n",
      "test_size: (215, 48)\n"
     ]
    }
   ],
   "source": [
    "train_size, validation_size, test_size = 0.7, 0.15, 0.15\n",
    "train, validation, test = train_validation_test_split(df.copy(), train_size, validation_size, test_size)"
   ]
  },
  {
   "cell_type": "code",
   "execution_count": 171,
   "metadata": {
    "ExecuteTime": {
     "end_time": "2020-11-23T22:05:18.423180Z",
     "start_time": "2020-11-23T22:05:18.406776Z"
    }
   },
   "outputs": [],
   "source": [
    "y_train = train[\"Price\"].to_numpy()\n",
    "X_train = train.drop(\"Price\", axis=1).to_numpy()\n",
    "\n",
    "y_validation = validation[\"Price\"].to_numpy()\n",
    "X_validation = validation.drop(\"Price\", axis=1).to_numpy()\n",
    "\n",
    "y_test = test[\"Price\"].to_numpy()\n",
    "X_test = test.drop(\"Price\", axis=1).to_numpy()"
   ]
  },
  {
   "cell_type": "markdown",
   "metadata": {},
   "source": [
    "## Plot Function"
   ]
  },
  {
   "cell_type": "code",
   "execution_count": 267,
   "metadata": {
    "ExecuteTime": {
     "end_time": "2020-11-24T00:20:46.842555Z",
     "start_time": "2020-11-24T00:20:46.830327Z"
    }
   },
   "outputs": [],
   "source": [
    "def plotting(validation_loss, test_loss, method):\n",
    "    plt.plot(validation_loss, label='validation loss')\n",
    "    plt.plot(test_loss, label='test loss')\n",
    "    plt.title(\"{}: Loss of {} iteration with eta {}\".format(method, iterations_no, eta))\n",
    "    plt.legend()\n",
    "    plt.show()"
   ]
  },
  {
   "cell_type": "markdown",
   "metadata": {},
   "source": [
    "## Constant Values"
   ]
  },
  {
   "cell_type": "code",
   "execution_count": 299,
   "metadata": {
    "ExecuteTime": {
     "end_time": "2020-11-24T00:26:16.161321Z",
     "start_time": "2020-11-24T00:26:16.146061Z"
    }
   },
   "outputs": [],
   "source": [
    "# iterations = np.arange(50, 500, 50)\n",
    "# etas = np.arange(0.0001, 0.001, 0.0001)\n",
    "# batch_sizes = np.arange(20, 200, 10)\n",
    "eta, batch_size, iterations_no = 0.0001, 20, 1000"
   ]
  },
  {
   "cell_type": "markdown",
   "metadata": {
    "ExecuteTime": {
     "end_time": "2020-11-24T00:13:29.189685Z",
     "start_time": "2020-11-24T00:13:29.149764Z"
    }
   },
   "source": [
    "\n",
    "\n",
    "## 1. Stochastic Gradient Descent\n",
    "\n",
    "$$\n",
    "w^{i +1} = w^{i} + \\eta(t_n - w^{(i)T} \\phi_n)\\phi_n\n",
    "$$"
   ]
  },
  {
   "cell_type": "code",
   "execution_count": 300,
   "metadata": {
    "ExecuteTime": {
     "end_time": "2020-11-24T00:26:16.490698Z",
     "start_time": "2020-11-24T00:26:16.467081Z"
    }
   },
   "outputs": [],
   "source": [
    "def SGD(X_train, y_train, X_validation, y_validation, X_test, y_test, eta, batch_size, iterations):\n",
    "    w = np.zeros(X_train.shape[1])\n",
    "    train_loss, validation_loss, test_loss = list(), list(), list()\n",
    "    \n",
    "    for _ in range(iterations):\n",
    "        indices = np.random.choice(X_train.shape[0], batch_size, replace=False)\n",
    "        selected_X_train = X_train[indices]\n",
    "        selected_y_train = y_train[indices]\n",
    "        train_SSE = (np.sum(selected_y_train - selected_X_train.dot(w))**2)/2\n",
    "        validation_SSE = (np.sum(y_validation - X_validation.dot(w))**2)/2\n",
    "        test_SSE = (np.sum(y_test - X_test.dot(w))**2)/2 \n",
    "        train_loss.append(train_SSE)\n",
    "        validation_loss.append(validation_SSE)\n",
    "        test_loss.append(test_SSE)\n",
    "        w += eta * (selected_y_train - selected_X_train.dot(w)).dot(selected_X_train)\n",
    "    return train_loss, validation_loss, test_loss, w"
   ]
  },
  {
   "cell_type": "code",
   "execution_count": 301,
   "metadata": {
    "ExecuteTime": {
     "end_time": "2020-11-24T00:26:17.501260Z",
     "start_time": "2020-11-24T00:26:16.637887Z"
    },
    "scrolled": false
   },
   "outputs": [
    {
     "data": {
      "image/png": "[encoded data removed]",
      "text/plain": [
       "<Figure size 1200x800 with 1 Axes>"
      ]
     },
     "metadata": {},
     "output_type": "display_data"
    }
   ],
   "source": [
    "train_loss, validation_loss, test_loss, w = SGD(X_train, y_train, X_validation, y_validation, X_test, y_test, eta, batch_size, iterations_no)\n",
    "plotting(validation_loss, test_loss, \"SGD\")"
   ]
  },
  {
   "cell_type": "code",
   "execution_count": 314,
   "metadata": {
    "ExecuteTime": {
     "end_time": "2020-11-24T00:28:39.273596Z",
     "start_time": "2020-11-24T00:28:39.189552Z"
    }
   },
   "outputs": [
    {
     "data": {
      "text/plain": [
       "array([-34.21530531, -33.85382062, -33.44938883, -33.19076824,\n",
       "       -32.98674934, -32.6591216 , -32.18603457, -31.85442341,\n",
       "       -31.5835752 , -31.32531951, -30.93384892, -30.47684047,\n",
       "       -30.09491895, -29.72115588, -29.39804984, -29.10986025,\n",
       "       -28.85798122, -28.48849403, -28.22122242, -27.90948062,\n",
       "       -27.55375599, -27.22112769, -26.95165404, -26.62653315,\n",
       "       -26.20490644, -25.98197074, -25.61767223, -25.18879623,\n",
       "       -24.87356958, -24.66766236, -24.18875253, -23.94710048,\n",
       "       -23.47460473, -23.0296838 , -22.7783724 , -22.3161843 ,\n",
       "       -22.02143641, -21.71628471, -21.52017868, -21.04964722,\n",
       "       -20.83930857, -20.37609471, -20.05139919, -19.69594233,\n",
       "       -19.42220525, -19.0765771 , -18.64373899, -18.47441932,\n",
       "       -18.17376058, -17.71108516, -17.50324965, -17.27514005,\n",
       "       -16.91660677, -16.69659341, -16.47748919, -16.28479898,\n",
       "       -16.03599563, -15.85700818, -15.38602005, -15.07452246,\n",
       "       -14.86509983, -14.6444487 , -14.48189764, -14.34667678,\n",
       "       -14.32608499, -14.04360008, -13.77815602, -13.59585329,\n",
       "       -13.26042941, -13.01541141, -12.92013796, -12.76333708,\n",
       "       -12.6436787 , -12.49863551, -12.28731589, -12.05223315,\n",
       "       -11.8916775 , -11.71709712, -11.6785071 , -11.63253844,\n",
       "       -11.35296818, -11.22857386, -11.02305951, -10.67942471,\n",
       "       -10.51898607, -10.33431453, -10.14739567,  -9.92458697,\n",
       "        -9.89099854,  -9.75823512,  -9.64266244,  -9.47802384,\n",
       "        -9.3123198 ,  -8.90816994,  -8.73758792,  -8.62433631,\n",
       "        -8.50053229,  -8.30568309,  -8.27455185,  -8.02633129,\n",
       "        -8.04539077,  -7.81580894,  -7.83991977,  -7.74480904,\n",
       "        -7.65899705,  -7.70855341,  -7.59351408,  -7.52319298,\n",
       "        -7.53927819,  -7.32375843,  -7.11619836,  -6.98861121,\n",
       "        -6.84393404,  -6.51362338,  -6.42706161,  -6.31303979,\n",
       "        -6.27615131,  -6.39956892,  -6.33888686,  -6.23294839,\n",
       "        -6.34349367,  -6.27359211,  -6.33108627,  -6.29513375,\n",
       "        -6.22595473,  -5.80427155,  -5.69557874,  -5.5547486 ,\n",
       "        -5.5157456 ,  -5.4269287 ,  -5.44957245,  -5.3082784 ,\n",
       "        -5.23586347,  -5.34107658,  -5.20118087,  -5.19351764,\n",
       "        -5.11742203,  -5.06177615,  -4.99261665,  -4.82777179,\n",
       "        -4.95516865,  -4.87501372,  -4.72541697,  -4.59372894,\n",
       "        -4.53308893,  -4.29837915,  -4.44187196,  -4.44044721,\n",
       "        -4.41466704,  -4.14630939,  -4.2770237 ,  -4.26457582,\n",
       "        -4.02067434,  -3.90114385,  -3.89131111,  -3.84168936,\n",
       "        -3.73736363,  -3.81808482,  -3.51913172,  -3.3359562 ,\n",
       "        -3.31508345,  -3.28253998,  -3.31744723,  -3.26012493,\n",
       "        -3.15648986,  -3.05958405,  -2.96289103,  -2.92790208,\n",
       "        -2.97639957,  -2.98384572,  -2.84227229,  -2.87418937,\n",
       "        -2.96726308,  -2.92378636,  -2.89472365,  -2.96273706,\n",
       "        -3.07444457,  -2.97514805,  -2.84998674,  -2.8562423 ,\n",
       "        -2.91322735,  -2.88758689,  -2.98942512,  -2.9286391 ,\n",
       "        -2.71609176,  -2.6360197 ,  -2.57515089,  -2.33369739,\n",
       "        -2.22750376,  -2.06759446,  -2.20587244,  -2.27279985,\n",
       "        -2.32671736,  -2.22396353,  -2.2792603 ,  -2.34268239,\n",
       "        -2.42405131,  -2.43331382,  -2.62702542,  -2.4331433 ,\n",
       "        -2.45838886,  -2.54298102,  -2.31323093,  -2.24158749,\n",
       "        -2.22534054,  -2.27451867,  -1.97096362,  -1.90553946,\n",
       "        -2.03758353,  -1.94929295,  -1.71863755,  -1.6725041 ,\n",
       "        -1.4696545 ,  -1.73118672,  -1.74207497,  -1.74940787,\n",
       "        -1.90816401,  -1.72435362,  -1.88297697,  -1.90770787,\n",
       "        -1.96922467,  -1.90909498,  -1.96857274,  -2.01566869,\n",
       "        -1.92171137,  -1.95374029,  -1.83306106,  -1.9439999 ,\n",
       "        -1.86750111,  -1.95688325,  -2.05743577,  -2.02628072,\n",
       "        -1.9942968 ,  -1.91615202,  -1.91169441,  -1.72237806,\n",
       "        -1.82576757,  -1.62788624,  -1.67478382,  -1.66474729,\n",
       "        -1.81594794,  -1.84232516,  -1.7021691 ,  -1.83184676,\n",
       "        -2.00409189,  -2.00042167,  -1.86000875,  -1.69092822,\n",
       "        -1.8230216 ,  -1.88921022,  -1.85379164,  -1.99119869,\n",
       "        -2.02395357,  -2.02588014,  -1.99622275,  -2.00920047,\n",
       "        -1.99998875,  -1.97783835,  -2.00010951,  -1.95983615,\n",
       "        -1.9914718 ,  -2.1158904 ,  -2.23400464,  -2.35674219,\n",
       "        -2.22868333,  -2.2709113 ,  -2.17224592,  -2.25164859,\n",
       "        -2.32965047,  -2.47375426,  -2.48832458,  -2.6208473 ,\n",
       "        -2.66038671,  -2.72140072,  -2.72377268,  -2.63663012,\n",
       "        -2.61793176,  -2.5168866 ,  -2.66141757,  -2.6612682 ,\n",
       "        -2.65760222,  -2.46738227,  -2.45672228,  -2.38483528,\n",
       "        -2.26728787,  -2.25836279,  -2.08618077,  -2.02039998,\n",
       "        -2.03188529,  -2.09489032,  -2.02683026,  -2.19532227,\n",
       "        -2.12256768,  -2.18068302,  -2.2231183 ,  -2.35009031,\n",
       "        -2.04202227,  -2.12173235,  -2.27209291,  -1.87105234,\n",
       "        -1.79994658,  -1.70039542,  -1.5817513 ,  -1.5246235 ,\n",
       "        -1.59410561,  -1.66618761,  -1.60441142,  -1.62467905,\n",
       "        -1.49458534,  -1.47709953,  -1.13269076,  -1.16400956,\n",
       "        -1.21081451,  -1.26679038,  -1.18382783,  -1.33941634,\n",
       "        -1.4863414 ,  -1.47042833,  -1.48457444,  -1.59184047,\n",
       "        -1.63212382,  -1.60169174,  -1.59644208,  -1.66762821,\n",
       "        -1.79313345,  -1.7120052 ,  -1.58824839,  -1.5118148 ,\n",
       "        -1.490432  ,  -1.5260278 ,  -1.63448123,  -1.75843468,\n",
       "        -1.87684605,  -1.82705039,  -1.61405454,  -1.55779639,\n",
       "        -1.67047429,  -1.84617058,  -1.86611325,  -1.85104763,\n",
       "        -1.65425695,  -1.6495915 ,  -1.54793207,  -1.67156872,\n",
       "        -1.687114  ,  -1.72302444,  -1.81192964,  -1.78693256,\n",
       "        -1.67614262,  -1.75092036,  -1.72319062,  -1.82844545,\n",
       "        -1.92056209,  -2.00014389,  -1.8112706 ,  -1.64831669,\n",
       "        -1.75738238,  -1.61659479,  -1.69469456,  -1.78718071,\n",
       "        -1.79611817,  -1.75796124,  -1.88450598,  -1.77625846,\n",
       "        -1.85037006,  -1.93642404,  -2.0218654 ,  -1.99127326,\n",
       "        -2.03177198,  -2.19196462,  -2.3482015 ,  -2.35433578,\n",
       "        -2.31012076,  -2.38766301,  -2.61215585,  -2.7140469 ,\n",
       "        -2.67856951,  -2.43373387,  -2.57293916,  -2.37451805,\n",
       "        -2.31359688,  -2.16364844,  -2.15957179,  -2.24535498,\n",
       "        -2.08097772,  -2.08785926,  -1.92737224,  -2.11273198,\n",
       "        -2.07403447,  -2.14052858,  -2.27172642,  -2.39006765,\n",
       "        -2.24911073,  -2.35005419,  -2.33625507,  -2.29510581,\n",
       "        -2.19651053,  -2.09831814,  -2.08825351,  -2.05356047,\n",
       "        -1.78876852,  -1.63594191,  -1.7525544 ,  -1.80690693,\n",
       "        -1.68081541,  -1.50179427,  -1.51050945,  -1.36288451,\n",
       "        -1.50101994,  -1.27935325,  -1.35253456,  -1.13908247,\n",
       "        -1.07769099,  -1.11994547,  -1.04527117,  -1.22415384,\n",
       "        -1.32610906,  -1.45716483,  -1.46643982,  -1.39981431,\n",
       "        -1.46401698,  -1.39895453,  -1.22783719,  -1.2976401 ,\n",
       "        -1.24563636,  -1.39381942,  -1.23577437,  -1.21494242,\n",
       "        -1.31033664,  -0.92906721,  -0.93475618,  -0.900719  ,\n",
       "        -0.91484646,  -0.83933199,  -0.84289599,  -0.88907848,\n",
       "        -0.93130136,  -0.9512357 ,  -1.03962983,  -0.93343917,\n",
       "        -0.80510897,  -0.90331867,  -1.16780214,  -1.24432921,\n",
       "        -1.1599259 ,  -1.10554905,  -1.04905561,  -1.0333982 ,\n",
       "        -0.93011833,  -1.10334038,  -0.96859041,  -0.85354269,\n",
       "        -1.19421665,  -1.19211934,  -1.31182058,  -1.45203921,\n",
       "        -1.60727553,  -1.4579207 ,  -1.19405133,  -1.09653657,\n",
       "        -1.19946676,  -1.24319223,  -1.38505109,  -1.61085832,\n",
       "        -1.4711503 ,  -1.59159917,  -1.49300387,  -1.6806095 ,\n",
       "        -1.76794742,  -1.76626952,  -1.79149693,  -1.93245886,\n",
       "        -2.03958997,  -2.02150592,  -2.16123313,  -2.29372735,\n",
       "        -2.34597677,  -2.51767464,  -2.53159747,  -2.46447943,\n",
       "        -2.4424216 ,  -2.31003652,  -2.26291096,  -2.47176152,\n",
       "        -2.61089122,  -2.5901624 ,  -2.6621398 ,  -2.66065957,\n",
       "        -2.30400407,  -2.09626391,  -2.09345166,  -2.13552552,\n",
       "        -2.00765791,  -2.00631379,  -2.1138927 ,  -2.04569571,\n",
       "        -2.12579547,  -2.06138563,  -2.11986403,  -2.29654466,\n",
       "        -2.47387111,  -2.4081821 ,  -2.53296727,  -2.583488  ,\n",
       "        -2.57638657,  -2.64979945,  -2.77429621,  -2.8834365 ,\n",
       "        -2.94883706,  -3.02863859,  -3.01028889,  -2.91337366,\n",
       "        -2.9203581 ,  -2.99792592,  -2.70384899,  -2.73612173,\n",
       "        -2.53672879,  -2.42443352,  -2.23358722,  -2.03815356,\n",
       "        -1.90488113,  -1.94446547,  -2.0318339 ,  -2.04324603,\n",
       "        -2.08101368,  -1.99953728,  -2.21428757,  -2.09434673,\n",
       "        -2.08286294,  -2.10375791,  -1.93162301,  -1.89136699,\n",
       "        -1.95612162,  -1.90973413,  -2.02113502,  -1.85065552,\n",
       "        -2.13425733,  -2.27075125,  -2.11937506,  -2.19434797,\n",
       "        -2.32800277,  -2.53012523,  -2.55340781,  -2.57836069,\n",
       "        -2.61310427,  -2.51681096,  -2.45989756,  -2.55109847,\n",
       "        -2.6227836 ,  -2.63245731,  -2.63100598,  -2.54811588,\n",
       "        -2.528404  ,  -2.48277509,  -2.21173309,  -2.40116444,\n",
       "        -2.61205794,  -2.66795586,  -2.48980852,  -2.62208647,\n",
       "        -2.77340603,  -2.64213389,  -2.56657898,  -2.73819726,\n",
       "        -2.88563404,  -2.61608327,  -2.53659507,  -2.5813676 ,\n",
       "        -2.66145577,  -2.43096148,  -2.24382251,  -2.27937573,\n",
       "        -2.08949027,  -1.91427478,  -1.89804152,  -1.99268686,\n",
       "        -1.88616634,  -2.01577526,  -1.83855953,  -1.84051239,\n",
       "        -1.39798673,  -1.42256956,  -1.42103289,  -1.60392943,\n",
       "        -1.8398412 ,  -2.03930072,  -1.80108635,  -1.80385514,\n",
       "        -1.69982964,  -1.75221621,  -1.68686868,  -1.75174673,\n",
       "        -1.72605155,  -1.72616353,  -1.84937168,  -1.57614755,\n",
       "        -1.70138436,  -1.83500373,  -1.93544751,  -1.97060481,\n",
       "        -1.81946365,  -1.89356083,  -1.83699143,  -1.85325903,\n",
       "        -1.91862269,  -2.00123332,  -1.93189609,  -2.21680012,\n",
       "        -2.30532897,  -2.23778036,  -2.27492376,  -2.52036335,\n",
       "        -2.43974177,  -2.62540058,  -2.80901627,  -2.77551714,\n",
       "        -2.82549761,  -2.88891984,  -3.04869997,  -3.00183117,\n",
       "        -3.04967443,  -3.0249112 ,  -2.97461848,  -2.95860279,\n",
       "        -2.79327268,  -2.88916972,  -2.86649418,  -2.99060853,\n",
       "        -2.87677633,  -3.01032258,  -3.17479668,  -3.14649412,\n",
       "        -3.07879234,  -3.07210981,  -3.17603252,  -2.974802  ,\n",
       "        -2.89937862,  -3.02933658,  -2.94781825,  -3.03835131,\n",
       "        -3.10312267,  -3.18696452,  -2.90168889,  -3.01244978,\n",
       "        -3.16607289,  -3.05772804,  -2.81173645,  -2.88724381,\n",
       "        -2.81656081,  -2.86976117,  -3.05468558,  -3.14891128,\n",
       "        -2.99503792,  -3.10805133,  -3.17461836,  -3.05903592,\n",
       "        -3.22614918,  -2.92396215,  -3.0357212 ,  -3.17038859,\n",
       "        -3.08076335,  -3.17709836,  -3.34238888,  -3.15018564,\n",
       "        -3.34032494,  -3.47258032,  -3.54259006,  -3.65319467,\n",
       "        -3.61792044,  -3.63440201,  -3.54730232,  -3.36380361,\n",
       "        -3.45637966,  -3.45812713,  -3.43040718,  -3.54674741,\n",
       "        -3.60834859,  -3.78290666,  -3.5834405 ,  -3.69180012,\n",
       "        -3.69947842,  -3.40208317,  -3.37209456,  -3.20600744,\n",
       "        -3.17597076,  -2.82808585,  -2.77646329,  -2.64251821,\n",
       "        -2.66724461,  -2.66516565,  -2.64398285,  -2.73125049,\n",
       "        -2.76081521,  -2.78594432,  -2.83410261,  -2.66785869,\n",
       "        -2.75104879,  -2.94111797,  -2.79597488,  -2.77168622,\n",
       "        -2.6960864 ,  -2.66573486,  -2.7134517 ,  -2.58519179,\n",
       "        -2.74542777,  -2.64070823,  -2.50061984,  -2.53916288,\n",
       "        -2.50034351,  -2.657952  ,  -2.39788756,  -2.39405811,\n",
       "        -2.28200645,  -2.37897844,  -2.26129113,  -2.21825152,\n",
       "        -2.25140283,  -2.3332329 ,  -2.22649315,  -2.42225574,\n",
       "        -2.32830423,  -2.2823418 ,  -2.30317947,  -2.22645768,\n",
       "        -2.33858669,  -2.38168319,  -2.52415537,  -2.4854832 ,\n",
       "        -2.51710001,  -2.51506233,  -2.55833268,  -2.6225433 ,\n",
       "        -2.45318601,  -2.39758807,  -2.19507244,  -2.34829963,\n",
       "        -2.21878414,  -2.20710301,  -2.31303607,  -2.33589975,\n",
       "        -2.35006786,  -2.15273342,  -2.29815023,  -2.37283763,\n",
       "        -2.16107327,  -2.20542859,  -2.39031432,  -2.08081136,\n",
       "        -2.2200021 ,  -2.35953691,  -2.11256109,  -1.74822871,\n",
       "        -1.59365655,  -1.65197793,  -1.55075862,  -1.64401409,\n",
       "        -1.67734513,  -1.65055723,  -1.71897156,  -1.58517786,\n",
       "        -1.65697222,  -1.75130862,  -1.7370586 ,  -1.76100709,\n",
       "        -1.84720502,  -1.67086825,  -1.56756665,  -1.52577316,\n",
       "        -1.34817441,  -1.5549223 ,  -1.47462735,  -1.35806573,\n",
       "        -1.50928377,  -1.35011501,  -1.3408261 ,  -1.25143366,\n",
       "        -1.28174848,  -1.16629383,  -1.18462841,  -1.00538137,\n",
       "        -1.20006896,  -1.23252109,  -1.39737317,  -1.47756735,\n",
       "        -1.41474917,  -1.4791818 ,  -1.38190695,  -1.54785746,\n",
       "        -1.62943323,  -1.61970388,  -1.67762932,  -1.85685528,\n",
       "        -1.91034874,  -1.86747803,  -1.51922954,  -1.63375712,\n",
       "        -1.77231958,  -1.9434382 ,  -2.12043389,  -1.83837988,\n",
       "        -1.97408447,  -2.04546407,  -2.03846125,  -2.17474199,\n",
       "        -2.26287643,  -2.51093737,  -2.42789074,  -2.43697018,\n",
       "        -2.3460563 ,  -2.43833938,  -2.56216569,  -2.75565536,\n",
       "        -2.72269833,  -2.57633133,  -2.54356624,  -2.34512698,\n",
       "        -2.18526526,  -2.36174212,  -2.42516994,  -2.49460133,\n",
       "        -2.46048725,  -2.44932055,  -2.42959564,  -2.48171948,\n",
       "        -2.53912152,  -2.62683741,  -2.86579087,  -2.80086551,\n",
       "        -2.62923468,  -2.62927146,  -2.67367269,  -2.92041258,\n",
       "        -3.03996264,  -3.14251548,  -3.02644685,  -3.160151  ,\n",
       "        -3.44306074,  -3.47227603,  -3.43032159,  -3.45298004,\n",
       "        -3.13616233,  -3.04185231,  -3.17976507,  -3.10920922,\n",
       "        -2.97157141,  -2.85421229,  -2.85059604,  -2.87490079,\n",
       "        -2.63458144,  -2.56925262,  -2.4338764 ,  -2.56900719,\n",
       "        -2.80392984,  -2.77711248,  -2.73622906,  -2.70854463,\n",
       "        -2.57653656,  -2.52633775,  -2.52601977,  -2.64372537,\n",
       "        -2.67707863,  -2.61947174,  -2.62838485,  -2.4759426 ,\n",
       "        -2.48881635,  -2.33321876,  -2.49555795,  -2.64571264,\n",
       "        -2.52867931,  -2.35166276,  -2.29700178,  -2.39708859,\n",
       "        -2.44090461,  -2.27292712,  -1.95176295,  -2.01677301,\n",
       "        -1.79363846,  -1.85455298,  -1.93287792,  -1.73124673,\n",
       "        -1.89443269,  -1.95766399,  -2.01598043,  -2.17783807,\n",
       "        -2.03089173,  -2.02399931,  -2.00418852,  -2.10220605,\n",
       "        -2.13469281,  -2.15030089,  -1.99217722,  -1.83996989,\n",
       "        -1.69886873,  -1.62931944,  -1.70204206,  -1.5525326 ,\n",
       "        -1.76222942,  -1.7773815 ,  -1.87677527,  -1.44574527,\n",
       "        -1.51059924,  -1.45516977,  -1.65538626,  -1.67071036,\n",
       "        -1.77971817,  -1.81282602,  -1.74901495,  -1.6591228 ,\n",
       "        -1.89680013,  -2.03774823,  -2.08049029,  -2.37111189,\n",
       "        -2.33831505,  -2.37068924,  -2.49186756,  -2.48611615,\n",
       "        -2.61848512,  -2.4505582 ,  -2.55408501,  -2.40437881,\n",
       "        -2.52146582,  -2.61478844,  -2.67293938,  -2.5423959 ,\n",
       "        -2.63718502,  -2.83635258,  -2.88336609,  -2.80229916,\n",
       "        -2.86352532,  -2.75431912,  -2.77067904,  -2.94085584,\n",
       "        -2.80314536,  -2.70769022,  -2.89560946,  -3.01283469,\n",
       "        -3.05101721,  -3.11988839,  -3.1206186 ,  -3.12362864,\n",
       "        -3.22145075,  -3.37293523,  -3.33396692,  -3.5276267 ,\n",
       "        -3.42422374,  -3.42977697,  -3.30251144,  -3.12085243,\n",
       "        -2.88409436,  -2.82102178,  -2.85041051,  -2.75064761,\n",
       "        -2.80591868,  -2.76989538,  -2.57285951,  -2.66654078,\n",
       "        -2.77971559,  -2.87370372,  -2.8560623 ,  -2.91118656,\n",
       "        -2.96003614,  -2.94557407,  -2.80214491,  -2.92313463,\n",
       "        -2.88146583,  -2.78016279,  -2.64847826,  -2.75630985,\n",
       "        -2.753517  ,  -2.76067423,  -2.84343428,  -2.97879609,\n",
       "        -3.14406559,  -2.84515932,  -2.82110161,  -2.74905715,\n",
       "        -2.78036677,  -2.79885026,  -2.68467458,  -2.69047847,\n",
       "        -2.58863473,  -2.85045179,  -2.84026036,  -2.8301782 ,\n",
       "        -2.7709393 ,  -2.65225677,  -2.81552433,  -2.92341041,\n",
       "        -2.65863689,  -2.80034692,  -2.8276002 ,  -2.65909167,\n",
       "        -2.5792679 ,  -2.56826781,  -2.48575942,  -2.33029402,\n",
       "        -2.54666394,  -2.50672153,  -2.6237756 ,  -2.65274219])"
      ]
     },
     "execution_count": 314,
     "metadata": {},
     "output_type": "execute_result"
    }
   ],
   "source": [
    "np.subtract(validation_loss, test_loss)"
   ]
  },
  {
   "cell_type": "markdown",
   "metadata": {},
   "source": [
    "## 2. Ridge Regression"
   ]
  },
  {
   "cell_type": "code",
   "execution_count": 320,
   "metadata": {
    "ExecuteTime": {
     "end_time": "2020-11-24T00:33:48.441372Z",
     "start_time": "2020-11-24T00:33:48.378493Z"
    },
    "scrolled": true
   },
   "outputs": [],
   "source": [
    "def SGD_Regularized(lambda_, X_train, y_train, X_validation, y_validation, X_test, y_test, eta, batch_size, iterations):\n",
    "    w = np.zeros(X_train.shape[1])\n",
    "    train_loss, validation_loss, test_loss = list(), list(), list()\n",
    "    \n",
    "    for _ in range(iterations):\n",
    "        indices = np.random.choice(X_train.shape[0], batch_size, replace=False)\n",
    "        selected_X_train = X_train[indices]\n",
    "        selected_y_train = y_train[indices]\n",
    "        train_SSE =( (np.sum(selected_y_train - selected_X_train.dot(w))**2)  + (lambda_) * np.sum(w.T.dot(w)))/2\n",
    "        validation_SSE = ((np.sum(y_validation - X_validation.dot(w))**2)  + (lambda_) * np.sum(w.T.dot(w)))/2\n",
    "        test_SSE = ((np.sum(y_test - X_test.dot(w))**2) + (lambda_) * np.sum(w.T.dot(w)))/2 \n",
    "        train_loss.append(train_SSE)\n",
    "        validation_loss.append(validation_SSE)\n",
    "        test_loss.append(test_SSE)\n",
    "        w += eta * ((selected_y_train - selected_X_train.dot(w)).dot(selected_X_train) - lambda_ * w)\n",
    "    return train_loss, validation_loss, test_loss, w"
   ]
  },
  {
   "cell_type": "code",
   "execution_count": 321,
   "metadata": {
    "ExecuteTime": {
     "end_time": "2020-11-24T00:33:49.604914Z",
     "start_time": "2020-11-24T00:33:49.138753Z"
    }
   },
   "outputs": [],
   "source": [
    "l1_train_loss, l1_validation_loss, l1_test_loss, l1_w = SGD_Regularized(1, X_train, y_train, X_validation, y_validation, X_test, y_test, eta, batch_size, iterations_no)"
   ]
  },
  {
   "cell_type": "code",
   "execution_count": 322,
   "metadata": {
    "ExecuteTime": {
     "end_time": "2020-11-24T00:33:50.575103Z",
     "start_time": "2020-11-24T00:33:50.239453Z"
    }
   },
   "outputs": [
    {
     "data": {
      "image/png": "[encoded data removed]",
      "text/plain": [
       "<Figure size 1200x800 with 1 Axes>"
      ]
     },
     "metadata": {},
     "output_type": "display_data"
    }
   ],
   "source": [
    "plotting(l1_validation_loss, l1_test_loss, \"SGD Regularized\")"
   ]
  },
  {
   "cell_type": "code",
   "execution_count": 323,
   "metadata": {
    "ExecuteTime": {
     "end_time": "2020-11-24T00:33:50.591922Z",
     "start_time": "2020-11-24T00:33:50.576919Z"
    }
   },
   "outputs": [
    {
     "data": {
      "text/plain": [
       "array([-34.21530531, -33.88245045, -33.45095663, -32.8301452 ,\n",
       "       -32.36016366, -31.94591628, -31.65920493, -31.22573159,\n",
       "       -30.89885934, -30.62206023, -30.3925975 , -30.14126618,\n",
       "       -29.86844191, -29.52417366, -29.32076508, -28.84902535,\n",
       "       -28.55231895, -28.26900716, -27.98889372, -27.73368072,\n",
       "       -27.3958235 , -27.04924447, -26.77445524, -26.4584945 ,\n",
       "       -26.02873259, -25.76152385, -25.43842256, -25.18333068,\n",
       "       -24.93585866, -24.63579819, -24.42037607, -24.18090983,\n",
       "       -23.83765609, -23.52737917, -23.18650325, -22.88496535,\n",
       "       -22.60761926, -22.035976  , -21.70598221, -21.44207929,\n",
       "       -21.08809135, -20.66860117, -20.47406168, -20.25244319,\n",
       "       -19.97485583, -19.84418821, -19.45851366, -19.19369744,\n",
       "       -18.78253394, -18.3483993 , -18.1204185 , -17.80824065,\n",
       "       -17.43138991, -16.93841136, -16.72122304, -16.48102644,\n",
       "       -16.24708814, -16.08072728, -15.86969837, -15.60461009,\n",
       "       -15.16529906, -14.78485616, -14.53639771, -14.13297841,\n",
       "       -13.9687898 , -13.86245176, -13.76984587, -13.59916379,\n",
       "       -13.48397863, -13.26646287, -13.05809681, -12.91069081,\n",
       "       -12.82801321, -12.60414541, -12.34494909, -12.15969173,\n",
       "       -12.00156407, -11.71413676, -11.42802038, -11.17789679,\n",
       "       -11.00646254, -10.90516851, -10.77193021, -10.56345545,\n",
       "       -10.45181772, -10.32290803, -10.3057225 , -10.01443544,\n",
       "        -9.78318374,  -9.69422723,  -9.58647467,  -9.42437061,\n",
       "        -9.29996069,  -9.3050928 ,  -9.25629456,  -9.20133598,\n",
       "        -8.88964847,  -8.79243741,  -8.70839793,  -8.68089864,\n",
       "        -8.56338158,  -8.35242636,  -8.29264951,  -8.26611359,\n",
       "        -8.2188795 ,  -8.13004556,  -8.0370286 ,  -7.87801132,\n",
       "        -8.01791629,  -7.84340619,  -7.63634703,  -7.57699495,\n",
       "        -7.29415569,  -7.17758411,  -6.97668527,  -6.87336851,\n",
       "        -6.715913  ,  -6.59319501,  -6.49713244,  -6.33637564,\n",
       "        -6.37248156,  -6.3640693 ,  -6.26840511,  -6.14832202,\n",
       "        -6.09753879,  -6.05053465,  -6.0298673 ,  -5.75857547,\n",
       "        -5.83564673,  -5.77414878,  -5.6948136 ,  -5.60121497,\n",
       "        -5.5730789 ,  -5.37513702,  -5.17826768,  -5.08476512,\n",
       "        -4.90118747,  -4.91601805,  -4.69449656,  -4.68822001,\n",
       "        -4.40487372,  -4.46754365,  -4.42117559,  -4.50334137,\n",
       "        -4.47583993,  -4.53704374,  -4.59000048,  -4.61648627,\n",
       "        -4.41186766,  -4.21235573,  -4.2172363 ,  -4.16433496,\n",
       "        -4.28454293,  -4.27647665,  -4.32679081,  -4.38359266,\n",
       "        -4.2021924 ,  -4.15492095,  -3.97882273,  -3.8822573 ,\n",
       "        -3.84673419,  -3.77844924,  -3.87250404,  -3.82939517,\n",
       "        -3.83183278,  -3.85726063,  -3.75944886,  -3.61422473,\n",
       "        -3.44887344,  -3.42295723,  -3.30835172,  -3.3407168 ,\n",
       "        -3.45692235,  -3.36356244,  -3.31214574,  -3.48979737,\n",
       "        -3.62102087,  -3.54020721,  -3.45341659,  -3.25644725,\n",
       "        -3.28850488,  -3.31389084,  -3.08223478,  -2.78816059,\n",
       "        -2.92288546,  -3.13542004,  -3.02445475,  -3.02894525,\n",
       "        -2.993598  ,  -3.13005394,  -2.92642185,  -3.01512939,\n",
       "        -2.84340501,  -2.9615343 ,  -3.08557653,  -3.08038067,\n",
       "        -3.1355967 ,  -3.19229289,  -3.25311255,  -3.1899823 ,\n",
       "        -3.21953038,  -3.2351281 ,  -3.31579609,  -3.31102421,\n",
       "        -3.44541661,  -3.37816133,  -3.50607426,  -3.53819411,\n",
       "        -3.32121358,  -3.14194775,  -3.08564026,  -3.02523723,\n",
       "        -2.92588592,  -2.83110833,  -3.04256617,  -3.23009424,\n",
       "        -3.2559457 ,  -3.3454779 ,  -3.31093333,  -3.41949287,\n",
       "        -3.17873579,  -3.20949999,  -3.20109106,  -3.2484954 ,\n",
       "        -3.07357252,  -3.12272525,  -3.04041649,  -3.04467207,\n",
       "        -3.01789935,  -3.10281095,  -3.04294746,  -3.13322965,\n",
       "        -3.11311504,  -2.82914625,  -2.77391369,  -2.63514716,\n",
       "        -2.82886696,  -2.98159873,  -2.99783583,  -2.92540092,\n",
       "        -2.87112851,  -2.84742453,  -2.7346368 ,  -2.88967801,\n",
       "        -2.72818309,  -2.80553682,  -2.561332  ,  -2.36711372,\n",
       "        -2.27053314,  -2.32150279,  -2.3025768 ,  -2.44054613,\n",
       "        -2.34376202,  -2.44907732,  -2.310437  ,  -2.42644295,\n",
       "        -2.36150959,  -2.28686242,  -2.37680452,  -2.32862326,\n",
       "        -2.30498859,  -2.07349202,  -1.86835051,  -1.95094565,\n",
       "        -2.0169336 ,  -1.99098101,  -2.18063843,  -2.23742444,\n",
       "        -2.26640112,  -2.18189996,  -2.22637227,  -2.20292587,\n",
       "        -2.20371178,  -2.23052014,  -2.14536315,  -2.1181734 ,\n",
       "        -2.22947583,  -2.13071333,  -2.17044101,  -2.11994475,\n",
       "        -2.15562153,  -2.22155674,  -2.11146787,  -2.10691611,\n",
       "        -1.98701154,  -1.96996194,  -2.14663707,  -2.16465038,\n",
       "        -1.92531972,  -1.69676359,  -1.87926059,  -1.9856635 ,\n",
       "        -2.19928594,  -2.28138915,  -2.40427451,  -2.51270373,\n",
       "        -2.73286093,  -2.79645058,  -2.62760809,  -2.65599588,\n",
       "        -2.64996229,  -2.75896144,  -2.66736517,  -2.60143528,\n",
       "        -2.50444711,  -2.20434665,  -2.28397779,  -2.2923652 ,\n",
       "        -2.00204362,  -1.94749244,  -1.67558479,  -1.7159083 ,\n",
       "        -1.74764944,  -1.70962744,  -1.89783905,  -1.93887357,\n",
       "        -2.01361306,  -2.00923827,  -1.82547948,  -1.91590885,\n",
       "        -1.97491661,  -1.83993081,  -1.80255139,  -1.80380451,\n",
       "        -1.94820543,  -1.95931699,  -2.03133305,  -2.03448903,\n",
       "        -2.22976356,  -2.0078899 ,  -2.09803052,  -2.19336337,\n",
       "        -2.16744132,  -2.22111446,  -2.36595885,  -2.09999698,\n",
       "        -1.92867118,  -1.83099581,  -1.93379272,  -1.89397365,\n",
       "        -1.83684541,  -1.91316917,  -1.98659101,  -2.07495513,\n",
       "        -2.01455691,  -2.09661033,  -2.1129884 ,  -2.11449269,\n",
       "        -2.0938573 ,  -2.14037749,  -2.08482692,  -2.07718352,\n",
       "        -1.99468442,  -2.11740694,  -1.96507939,  -2.00131068,\n",
       "        -2.07952721,  -1.89696745,  -1.88928624,  -1.91006533,\n",
       "        -2.0677227 ,  -2.0754703 ,  -2.02425264,  -2.08205163,\n",
       "        -2.12742806,  -1.75670394,  -1.93089141,  -1.91993516,\n",
       "        -1.89938829,  -1.82611204,  -1.86820172,  -2.04815921,\n",
       "        -2.14489229,  -2.10423077,  -2.22264637,  -2.2977187 ,\n",
       "        -2.33982714,  -2.1091373 ,  -2.12629179,  -2.04257766,\n",
       "        -2.07660759,  -2.06478362,  -2.07579588,  -1.98934183,\n",
       "        -1.93707789,  -1.96689544,  -2.03677217,  -1.84977942,\n",
       "        -1.80824875,  -1.87965483,  -2.02136091,  -1.97162436,\n",
       "        -1.9376359 ,  -1.98144059,  -2.08144089,  -2.09705903,\n",
       "        -1.97752488,  -1.98362244,  -2.02059318,  -2.10153186,\n",
       "        -2.15841714,  -1.88275492,  -1.83169777,  -1.90861336,\n",
       "        -1.45869007,  -1.59963404,  -1.55456838,  -1.51636872,\n",
       "        -1.68188188,  -1.64600296,  -1.91715249,  -1.66901776,\n",
       "        -1.31806903,  -1.43376446,  -1.34341777,  -1.0997004 ,\n",
       "        -1.15415262,  -1.10103592,  -1.15524024,  -1.42952498,\n",
       "        -1.39408356,  -1.46150936,  -1.41171328,  -1.50680142,\n",
       "        -1.34314858,  -1.3698253 ,  -1.47612725,  -1.41677527,\n",
       "        -1.42534089,  -1.25097643,  -1.41339301,  -1.40473474,\n",
       "        -1.46640041,  -1.41075525,  -1.30571671,  -1.33278734,\n",
       "        -1.32384934,  -1.28618967,  -1.40805732,  -1.31718014,\n",
       "        -1.33802016,  -1.1017177 ,  -1.12026692,  -1.20732273,\n",
       "        -1.22589643,  -1.3999859 ,  -1.71761111,  -1.71735331,\n",
       "        -1.77511649,  -1.79661732,  -1.94674562,  -2.00585014,\n",
       "        -2.04835741,  -2.0476251 ,  -2.02837765,  -2.08862455,\n",
       "        -2.20486044,  -2.29104215,  -2.51190565,  -2.40950431,\n",
       "        -2.22162948,  -2.37186213,  -2.24712191,  -2.15683256,\n",
       "        -2.0680527 ,  -2.068105  ,  -2.19915899,  -2.15512733,\n",
       "        -2.32194303,  -2.37290457,  -2.47049882,  -2.52173951,\n",
       "        -2.48793554,  -2.55427832,  -2.64862307,  -2.36071051,\n",
       "        -1.99672657,  -2.07635106,  -1.93040415,  -2.04923291,\n",
       "        -2.20879977,  -2.20853131,  -2.21151651,  -2.23442151,\n",
       "        -2.09690487,  -2.14365651,  -2.08436364,  -2.03176861,\n",
       "        -2.17278752,  -2.2299297 ,  -2.15173858,  -2.25790936,\n",
       "        -2.34600394,  -2.44072945,  -2.25268835,  -2.36906777,\n",
       "        -2.47232788,  -2.64075999,  -2.69435581,  -2.45125851,\n",
       "        -2.36530423,  -2.38907394,  -2.47776801,  -2.52056924,\n",
       "        -2.48326104,  -2.73011978,  -2.79477078,  -2.44424193,\n",
       "        -2.43487094,  -2.42157821,  -2.55859769,  -2.61405374,\n",
       "        -2.52135486,  -2.64236309,  -2.50503633,  -2.54004119,\n",
       "        -2.67769271,  -2.8335753 ,  -2.8204563 ,  -2.94640893,\n",
       "        -3.06151782,  -3.07229957,  -3.28012916,  -3.42113804,\n",
       "        -3.46309663,  -3.43395805,  -3.55303626,  -3.69900161,\n",
       "        -3.70681866,  -3.75625694,  -3.927427  ,  -3.80428012,\n",
       "        -3.89348232,  -4.03263833,  -3.98579055,  -4.04825748,\n",
       "        -4.07055847,  -4.11943499,  -4.25592921,  -4.2304567 ,\n",
       "        -4.19213324,  -4.30269271,  -4.28779873,  -4.20285106,\n",
       "        -4.3196715 ,  -4.26554886,  -4.38577557,  -4.25405745,\n",
       "        -4.17749923,  -4.09975192,  -4.01661624,  -3.885401  ,\n",
       "        -3.50241198,  -3.48331951,  -3.47219684,  -3.41297569,\n",
       "        -3.42771187,  -3.53824202,  -3.61825654,  -3.47542378,\n",
       "        -3.56463067,  -3.45910482,  -3.70566016,  -3.58635172,\n",
       "        -3.34018819,  -3.26806847,  -3.2886242 ,  -3.15142373,\n",
       "        -2.52642503,  -2.46973534,  -2.3494534 ,  -2.37831396,\n",
       "        -2.24594108,  -1.99589105,  -2.17105355,  -2.13263821,\n",
       "        -2.22523548,  -2.31100569,  -2.4266142 ,  -2.48768209,\n",
       "        -2.39189063,  -2.5584056 ,  -2.64331117,  -2.60215185,\n",
       "        -2.57769587,  -2.45482351,  -2.44326566,  -2.50708863,\n",
       "        -2.2953404 ,  -2.22217927,  -2.20435802,  -1.91840258,\n",
       "        -1.94027572,  -1.9208598 ,  -1.90148721,  -1.7684736 ,\n",
       "        -1.69996947,  -1.532224  ,  -1.59317298,  -1.60450782,\n",
       "        -1.78616444,  -1.74519632,  -1.76651682,  -1.66969603,\n",
       "        -1.86529724,  -1.96925694,  -1.7822145 ,  -1.76865206,\n",
       "        -1.84801246,  -1.73767253,  -1.72356024,  -1.85964486,\n",
       "        -2.02413078,  -2.10576651,  -1.91537393,  -2.07041002,\n",
       "        -2.15383289,  -2.04712937,  -2.2303985 ,  -2.24928911,\n",
       "        -2.20900635,  -2.27862796,  -2.16061498,  -2.26744828,\n",
       "        -2.31768667,  -2.35410124,  -2.35985107,  -2.47823866,\n",
       "        -2.53919101,  -2.66515653,  -2.56241269,  -2.60986537,\n",
       "        -2.82178462,  -2.83466254,  -2.78822993,  -2.84545604,\n",
       "        -2.75846667,  -2.63961731,  -2.59082863,  -2.6920568 ,\n",
       "        -2.63927642,  -2.54402235,  -2.51638564,  -2.59675706,\n",
       "        -2.74417953,  -2.70537343,  -2.63872414,  -2.68005875,\n",
       "        -2.62023566,  -2.55108151,  -2.46820254,  -2.66780399,\n",
       "        -2.35550577,  -2.57351773,  -2.86534305,  -2.77498255,\n",
       "        -2.69166137,  -2.5746834 ,  -2.6820566 ,  -2.74069106,\n",
       "        -2.68621629,  -2.46189424,  -2.56545374,  -2.5915073 ,\n",
       "        -2.69197123,  -2.70650538,  -2.64711707,  -2.70347816,\n",
       "        -2.76714615,  -2.61799063,  -2.89911879,  -2.91277955,\n",
       "        -2.96639154,  -2.94295684,  -2.98515141,  -2.89243355,\n",
       "        -3.02384252,  -2.97539219,  -2.92047385,  -3.00165916,\n",
       "        -2.77510291,  -2.63470893,  -2.7650761 ,  -2.66763692,\n",
       "        -2.74163297,  -2.47991632,  -2.19951723,  -2.06507916,\n",
       "        -2.01805184,  -1.94679633,  -2.04556286,  -2.09510297,\n",
       "        -2.24716959,  -2.3638381 ,  -2.3788263 ,  -2.391511  ,\n",
       "        -2.13178236,  -1.9316673 ,  -2.0027989 ,  -2.05379435,\n",
       "        -2.0726687 ,  -2.14643198,  -2.22977146,  -2.26822073,\n",
       "        -2.26088208,  -2.37066685,  -2.53101913,  -2.52744297,\n",
       "        -2.49107677,  -2.19189144,  -2.1923204 ,  -2.1752538 ,\n",
       "        -2.05284504,  -2.12264325,  -2.1774125 ,  -2.17397632,\n",
       "        -2.1977263 ,  -2.17857137,  -2.24190503,  -2.26939387,\n",
       "        -2.26700559,  -2.55838264,  -2.62937315,  -2.59099578,\n",
       "        -2.39800167,  -2.34760733,  -2.34933388,  -2.28169493,\n",
       "        -2.35637075,  -2.16344747,  -2.22805256,  -2.37052269,\n",
       "        -2.39193503,  -2.59360812,  -2.67081965,  -2.83929036,\n",
       "        -2.82226505,  -2.57081874,  -2.35685444,  -2.43447289,\n",
       "        -2.30520898,  -2.3165388 ,  -2.592237  ,  -2.68208533,\n",
       "        -2.77604527,  -2.86716757,  -2.89944573,  -2.81141212,\n",
       "        -2.6221126 ,  -2.49187955,  -2.36634188,  -2.42479769,\n",
       "        -2.45195505,  -2.45095811,  -2.54339078,  -2.58140118,\n",
       "        -2.49846688,  -2.52443792,  -2.69146961,  -2.62213534,\n",
       "        -2.56221341,  -2.49963535,  -2.54700357,  -2.6827457 ,\n",
       "        -2.7048646 ,  -2.542194  ,  -2.47943822,  -2.55657184,\n",
       "        -2.50511758,  -2.46939849,  -2.62735616,  -2.68529921,\n",
       "        -2.89422742,  -2.94235986,  -3.05399475,  -3.1282121 ,\n",
       "        -3.12244058,  -2.89317687,  -2.83287526,  -2.91754924,\n",
       "        -2.70241541,  -2.53388168,  -2.6477941 ,  -2.70183851,\n",
       "        -2.55439076,  -2.638621  ,  -2.95024788,  -2.9018262 ,\n",
       "        -3.05715943,  -2.82081334,  -2.98850773,  -3.01626537,\n",
       "        -3.14529551,  -3.10916322,  -3.12459947,  -3.09849063,\n",
       "        -3.23619074,  -3.45451023,  -3.47047837,  -3.45623747,\n",
       "        -3.36972376,  -3.30353941,  -3.39247322,  -3.45133032,\n",
       "        -3.47309171,  -3.68619285,  -3.86302367,  -3.98408056,\n",
       "        -3.93128606,  -3.84611925,  -3.82901447,  -4.00321302,\n",
       "        -3.88579712,  -3.99994515,  -3.96945685,  -3.80031322,\n",
       "        -3.73419619,  -3.75982403,  -3.734784  ,  -3.6959721 ,\n",
       "        -3.5534516 ,  -3.77438105,  -3.64080266,  -3.52173079,\n",
       "        -3.55507492,  -3.68801482,  -3.76826901,  -3.70884154,\n",
       "        -3.46329267,  -3.38430009,  -3.45020047,  -3.16867475,\n",
       "        -3.37349092,  -3.28961517,  -3.42637144,  -3.60136821,\n",
       "        -3.63391596,  -3.69528029,  -3.73334516,  -3.59093833,\n",
       "        -3.67274196,  -3.74307477,  -3.77575596,  -3.72468874,\n",
       "        -3.7119821 ,  -3.82544419,  -3.89943253,  -4.05195339,\n",
       "        -4.12338482,  -4.03466123,  -4.25217612,  -4.32472097,\n",
       "        -4.25434591,  -4.12903888,  -4.19413491,  -4.19262055,\n",
       "        -4.26161388,  -4.52741719,  -4.59540461,  -4.60337585,\n",
       "        -4.53377084,  -4.43432705,  -4.46096531,  -4.59970283,\n",
       "        -4.65114967,  -4.52610095,  -4.46061798,  -4.20146943,\n",
       "        -4.19518633,  -4.3138471 ,  -4.28446992,  -4.34935504,\n",
       "        -4.24546681,  -4.11201885,  -4.01476528,  -3.82359216,\n",
       "        -3.89023874,  -3.86663248,  -3.76666794,  -3.7701884 ,\n",
       "        -3.75287159,  -3.87072563,  -3.61971389,  -3.61271685,\n",
       "        -3.5620875 ,  -3.30953973,  -3.22668013,  -3.35192133,\n",
       "        -3.43330732,  -3.20760582,  -3.21564071,  -3.25339989,\n",
       "        -3.27318942,  -3.17531578,  -3.24821002,  -3.20467744,\n",
       "        -3.11125324,  -3.19449209,  -3.22297712,  -3.10350506,\n",
       "        -3.06720597,  -3.11721744,  -3.21397801,  -3.18350933,\n",
       "        -3.20710109,  -3.43720442,  -3.54878536,  -3.53345815,\n",
       "        -3.42508531,  -3.26048157,  -3.3358811 ,  -3.30012118,\n",
       "        -3.07939411,  -3.07712556,  -3.09369913,  -3.15306611,\n",
       "        -3.09636435,  -3.05433253,  -3.21110645,  -3.20683228,\n",
       "        -3.40761051,  -3.32244423,  -3.10739568,  -2.80969192,\n",
       "        -2.82449763,  -2.67646856,  -2.57474513,  -2.6568145 ,\n",
       "        -2.67072264,  -2.7214662 ,  -2.74546093,  -2.79849952,\n",
       "        -2.68248439,  -2.79007467,  -2.95458327,  -2.7207289 ,\n",
       "        -2.77967622,  -2.76406274,  -2.77648313,  -2.93659081,\n",
       "        -2.99915622,  -2.76739834,  -2.70439836,  -2.83534592,\n",
       "        -2.70027223,  -2.82334073,  -2.65457855,  -2.60228052,\n",
       "        -2.68471814,  -2.80631398,  -2.62081527,  -2.67718446,\n",
       "        -2.72600118,  -2.66717808,  -2.49314478,  -2.69972338,\n",
       "        -2.91895345,  -3.03449882,  -2.97542311,  -2.89682451,\n",
       "        -2.96470775,  -3.11557554,  -2.94347689,  -2.75531277,\n",
       "        -2.76273145,  -2.83345889,  -2.98159176,  -3.16918933,\n",
       "        -3.31835362,  -3.25623576,  -3.35289875,  -3.39022729,\n",
       "        -3.33317628,  -3.34366124,  -3.37332223,  -3.35721817,\n",
       "        -3.23105941,  -3.36406584,  -3.27200111,  -3.1400849 ,\n",
       "        -3.06503084,  -2.8905529 ,  -2.98642881,  -3.03272306,\n",
       "        -3.11386107,  -3.13892952,  -3.13768284,  -3.23656135,\n",
       "        -2.90426439,  -2.88614196,  -2.82328974,  -2.8287209 ,\n",
       "        -2.84893517,  -3.04210349,  -3.12665827,  -3.27733474,\n",
       "        -3.27094007,  -3.18645387,  -3.29614265,  -3.45639338])"
      ]
     },
     "execution_count": 323,
     "metadata": {},
     "output_type": "execute_result"
    }
   ],
   "source": [
    "np.subtract(l1_validation_loss, l1_test_loss)"
   ]
  },
  {
   "cell_type": "markdown",
   "metadata": {},
   "source": [
    "## 3. $$||Y - XW||_1$$"
   ]
  },
  {
   "cell_type": "code",
   "execution_count": 324,
   "metadata": {
    "ExecuteTime": {
     "end_time": "2020-11-24T00:33:51.155069Z",
     "start_time": "2020-11-24T00:33:51.123114Z"
    }
   },
   "outputs": [],
   "source": [
    "def SGD_norm1(X_train, y_train, X_validation, y_validation, X_test, y_test, eta, batch_size, iterations):\n",
    "    w = np.zeros(X_train.shape[1])\n",
    "    train_loss, validation_loss, test_loss = list(), list(), list()\n",
    "    \n",
    "    for _ in range(iterations):\n",
    "        indices = np.random.choice(X_train.shape[0], batch_size, replace=False)\n",
    "        selected_X_train = X_train[indices]\n",
    "        selected_y_train = y_train[indices]\n",
    "        train_SSE = np.sum(np.abs(selected_y_train - selected_X_train.dot(w)))/2\n",
    "        validation_SSE = np.sum(np.abs(y_validation - X_validation.dot(w)))/2\n",
    "        test_SSE = np.sum(np.abs(y_test - X_test.dot(w)))/2\n",
    "        train_loss.append(train_SSE)\n",
    "        validation_loss.append(validation_SSE)\n",
    "        test_loss.append(test_SSE)\n",
    "        gradient = selected_X_train\n",
    "        gradient[(selected_y_train - selected_X_train.dot(w)) < 0] = gradient[(selected_y_train - selected_X_train.dot(w)) < 0] * (-1)\n",
    "        gradient = np.sum(gradient, axis=0)\n",
    "        w += eta * gradient\n",
    "    return train_loss, validation_loss, test_loss, w"
   ]
  },
  {
   "cell_type": "code",
   "execution_count": 325,
   "metadata": {
    "ExecuteTime": {
     "end_time": "2020-11-24T00:33:52.261849Z",
     "start_time": "2020-11-24T00:33:51.361862Z"
    }
   },
   "outputs": [],
   "source": [
    "n1_train_loss, n1_validation_loss, n1_test_loss, n1_w = SGD_norm1(X_train, y_train, X_validation, y_validation, X_test, y_test, eta, batch_size, iterations_no)"
   ]
  },
  {
   "cell_type": "code",
   "execution_count": 326,
   "metadata": {
    "ExecuteTime": {
     "end_time": "2020-11-24T00:33:52.575739Z",
     "start_time": "2020-11-24T00:33:52.264582Z"
    }
   },
   "outputs": [
    {
     "data": {
      "image/png": "[encoded data removed]",
      "text/plain": [
       "<Figure size 1200x800 with 1 Axes>"
      ]
     },
     "metadata": {},
     "output_type": "display_data"
    }
   ],
   "source": [
    "plotting(n1_validation_loss, n1_test_loss, \"SGD norm1\")"
   ]
  },
  {
   "cell_type": "code",
   "execution_count": 327,
   "metadata": {
    "ExecuteTime": {
     "end_time": "2020-11-24T00:33:52.604338Z",
     "start_time": "2020-11-24T00:33:52.577886Z"
    },
    "scrolled": true
   },
   "outputs": [
    {
     "data": {
      "text/plain": [
       "array([-0.34353464, -0.34802336, -0.34463878, -0.34027823, -0.33622438,\n",
       "       -0.2725041 , -0.18583885, -0.08149692,  0.0012765 , -0.04175351,\n",
       "       -0.10047354, -0.09926215, -0.08343784, -0.14810047, -0.18405115,\n",
       "       -0.22174187, -0.26331219, -0.27884311, -0.29505091, -0.29455835,\n",
       "       -0.28572624, -0.2770827 , -0.29679852, -0.30343287, -0.29102208,\n",
       "       -0.3066493 , -0.30625192, -0.29667949, -0.28853069, -0.29973374,\n",
       "       -0.29774605, -0.28483024, -0.28651641, -0.28001098, -0.28203651,\n",
       "       -0.27871707, -0.27687938, -0.27617211, -0.2472577 , -0.27883999,\n",
       "       -0.27713263, -0.2722986 , -0.27226727, -0.2657441 , -0.25854741,\n",
       "       -0.26252275, -0.27080545, -0.26141885, -0.26742226, -0.28622623,\n",
       "       -0.27506471, -0.27510864, -0.26905404, -0.27121304, -0.26785407,\n",
       "       -0.25676025, -0.24890194, -0.25621129, -0.25121804, -0.25201397,\n",
       "       -0.26419888, -0.26037231, -0.24844556, -0.250294  , -0.25056714,\n",
       "       -0.24254206, -0.24112857, -0.24207318, -0.2435763 , -0.24288594,\n",
       "       -0.24851333, -0.23875232, -0.24147976, -0.2402949 , -0.23766927,\n",
       "       -0.2391311 , -0.23558269, -0.23232606, -0.23820036, -0.2344319 ,\n",
       "       -0.22883594, -0.24472146, -0.24067266, -0.2417712 , -0.23714164,\n",
       "       -0.22451674, -0.22951767, -0.22902977, -0.22926103, -0.22961232,\n",
       "       -0.23350182, -0.24975204, -0.22970591, -0.22722211, -0.21869144,\n",
       "       -0.21912597, -0.20966058, -0.20526456, -0.19349354, -0.20656424,\n",
       "       -0.21290529, -0.2039928 , -0.20280732, -0.19294423, -0.19899648,\n",
       "       -0.1950756 , -0.19564741, -0.19668657, -0.18518986, -0.20475373,\n",
       "       -0.19917294, -0.20037774, -0.18358513, -0.19427747, -0.18497161,\n",
       "       -0.18439117, -0.18334303, -0.20617834, -0.19165334, -0.18167919,\n",
       "       -0.17685818, -0.17280958, -0.17271825, -0.17023626, -0.16478045,\n",
       "       -0.16773304, -0.17859728, -0.19459962, -0.19238003, -0.1822956 ,\n",
       "       -0.17799712, -0.20661948, -0.1970723 , -0.2087423 , -0.19144754,\n",
       "       -0.213807  , -0.20160229, -0.18723313, -0.19630511, -0.17558393,\n",
       "       -0.17807067, -0.19737121, -0.20987341, -0.21384155, -0.20014718,\n",
       "       -0.1864867 , -0.18869791, -0.18212227, -0.16264007, -0.18160892,\n",
       "       -0.16215451, -0.18292156, -0.20090058, -0.21234917, -0.2085524 ,\n",
       "       -0.18811942, -0.15763507, -0.14916696, -0.1499503 , -0.17778786,\n",
       "       -0.16150192, -0.15297913, -0.14366685, -0.14955377, -0.14709284,\n",
       "       -0.1352758 , -0.13380779, -0.14297431, -0.12936001, -0.14701495,\n",
       "       -0.1330986 , -0.13629139, -0.14703557, -0.14537218, -0.13555085,\n",
       "       -0.14743333, -0.12894924, -0.12557338, -0.13070323, -0.12885384,\n",
       "       -0.12439064, -0.12192748, -0.12453023, -0.12548952, -0.12271176,\n",
       "       -0.11732992, -0.11094008, -0.11468862, -0.10350448, -0.09671649,\n",
       "       -0.11503223, -0.12614342, -0.10646909, -0.10882772, -0.11243532,\n",
       "       -0.10665628, -0.09464846, -0.08757304, -0.08092813, -0.08011602,\n",
       "       -0.09387744, -0.10531857, -0.10600277, -0.12074356, -0.10629064,\n",
       "       -0.1044239 , -0.10674421, -0.12057598, -0.11729328, -0.12559833,\n",
       "       -0.10499143, -0.12775225, -0.11948412, -0.0991936 , -0.10354514,\n",
       "       -0.08305133, -0.09188682, -0.09172565, -0.09305468, -0.09364095,\n",
       "       -0.10630598, -0.10884426, -0.09921157, -0.07697453, -0.0760349 ,\n",
       "       -0.0690619 , -0.06044693, -0.08219826, -0.04669659, -0.05966215,\n",
       "       -0.09252928, -0.07483692, -0.06014256, -0.06568095, -0.05739444,\n",
       "       -0.04671409, -0.02048897, -0.03132615, -0.02807893, -0.03297747,\n",
       "       -0.02921416, -0.02971766, -0.02590451, -0.01771202, -0.02577124,\n",
       "       -0.02787912, -0.04569835, -0.03534241, -0.0408564 , -0.0463866 ,\n",
       "       -0.03687988, -0.05531633, -0.02800343, -0.02778723, -0.03842436,\n",
       "       -0.04910852, -0.05691017, -0.06818994, -0.07676746, -0.08278157,\n",
       "       -0.06313949, -0.0576967 , -0.05759087, -0.05771604, -0.05941837,\n",
       "       -0.06260745, -0.06269576, -0.06115731, -0.06618153, -0.08445201,\n",
       "       -0.07666576, -0.08397647, -0.07003906, -0.06358038, -0.05190795,\n",
       "       -0.05698313, -0.09401611, -0.05207898, -0.06201014, -0.05905874,\n",
       "       -0.05783756, -0.04578365, -0.03520582, -0.05373486, -0.05309038,\n",
       "       -0.049932  , -0.06160593, -0.06128363, -0.06678158, -0.07592041,\n",
       "       -0.07665702, -0.0781961 , -0.07517207, -0.07928564, -0.07695334,\n",
       "       -0.0802562 , -0.07905446, -0.07809795, -0.06572823, -0.06862288,\n",
       "       -0.07913412, -0.06857142, -0.07144447, -0.07737341, -0.07502552,\n",
       "       -0.09810925, -0.08061278, -0.09368313, -0.07432718, -0.09140661,\n",
       "       -0.08983845, -0.08022606, -0.07816402, -0.07622573, -0.07488393,\n",
       "       -0.07826173, -0.11186431, -0.10036391, -0.07978052, -0.07765036,\n",
       "       -0.08032707, -0.08543423, -0.06547134, -0.06398609, -0.05523791,\n",
       "       -0.07416486, -0.06452362, -0.06227786, -0.05346939, -0.04389119,\n",
       "       -0.05339857, -0.04533392, -0.06292773, -0.03924957, -0.03596842,\n",
       "       -0.03810512, -0.03668079, -0.03402076, -0.03170744, -0.0427012 ,\n",
       "       -0.03908761, -0.03026427, -0.01450683, -0.0116159 , -0.01864557,\n",
       "       -0.01354186, -0.02691991, -0.03951832, -0.04159032, -0.03434934,\n",
       "       -0.02991367, -0.02110769, -0.02589014, -0.0189803 , -0.02045008,\n",
       "       -0.0166051 , -0.01583922, -0.02367128, -0.02888453, -0.04580534,\n",
       "       -0.02566758, -0.03444873, -0.02161523, -0.01576702, -0.03655957,\n",
       "       -0.02365175, -0.04376764, -0.06143603, -0.04025545, -0.0334781 ,\n",
       "       -0.00284122, -0.01022904, -0.00403705, -0.00285385, -0.01029017,\n",
       "       -0.00294487, -0.00858186,  0.01651265,  0.02010205,  0.00445759,\n",
       "        0.01018525, -0.00051981, -0.00514749, -0.01408071, -0.02345721,\n",
       "       -0.04369669, -0.00552121, -0.00798892,  0.00064531,  0.00524017,\n",
       "        0.01074462, -0.00868089, -0.01567185,  0.01118132,  0.01146196,\n",
       "       -0.01171358, -0.01586891, -0.01731916, -0.01112868, -0.04006812,\n",
       "       -0.00880094, -0.00998606, -0.06306228, -0.05883713, -0.01953364,\n",
       "       -0.03408794, -0.0478209 , -0.00874997, -0.01578098, -0.01670852,\n",
       "        0.00395066,  0.01414042,  0.00832569, -0.00165794,  0.03961751,\n",
       "        0.05132645,  0.06065277,  0.06130671,  0.04304319,  0.04733879,\n",
       "        0.05201966,  0.04197598,  0.04062914,  0.05350055,  0.06885579,\n",
       "        0.05495166,  0.02930137,  0.02794794,  0.04353028,  0.02945033,\n",
       "        0.03416842,  0.05709352,  0.02349256,  0.04207538,  0.03259493,\n",
       "        0.04283298,  0.03400451,  0.04636001,  0.05217467,  0.05702398,\n",
       "        0.02980725,  0.03270919,  0.01498556,  0.01627843,  0.02237909,\n",
       "        0.00184583, -0.01706378, -0.01355321, -0.02288417, -0.03299923,\n",
       "        0.00622234,  0.02286929,  0.03244736,  0.03011933,  0.02437259,\n",
       "        0.01473898,  0.02714636,  0.02187644,  0.0259407 ,  0.04958843,\n",
       "        0.03389026,  0.02202209,  0.01372571,  0.0295008 ,  0.02930658,\n",
       "        0.03697452,  0.01194435,  0.03149663,  0.02733297,  0.03836657,\n",
       "        0.03216695,  0.03564276,  0.07351559,  0.07030097,  0.07615689,\n",
       "        0.08279897,  0.08081846,  0.05668666,  0.04129928,  0.04948803,\n",
       "        0.04542802,  0.06872205,  0.07957109,  0.08286168,  0.05968522,\n",
       "        0.07414339,  0.06156526,  0.07141778,  0.07476381,  0.08052971,\n",
       "        0.06801326,  0.07587294,  0.07076244,  0.07365306,  0.07480674,\n",
       "        0.09344012,  0.07644752,  0.10364715,  0.10769848,  0.11327481,\n",
       "        0.11176291,  0.09574221,  0.09590536,  0.09394286,  0.09346919,\n",
       "        0.1024747 ,  0.11809857,  0.12535107,  0.11920184,  0.12286419,\n",
       "        0.11814739,  0.11656315,  0.12417101,  0.12827211,  0.13590188,\n",
       "        0.13737462,  0.14020332,  0.13174311,  0.11330244,  0.10594894,\n",
       "        0.14402517,  0.14761814,  0.15051703,  0.14557254,  0.12246829,\n",
       "        0.14448991,  0.12978872,  0.15054253,  0.15409753,  0.157876  ,\n",
       "        0.14356548,  0.13650542,  0.14517158,  0.1440198 ,  0.14014608,\n",
       "        0.12985988,  0.13783784,  0.14929283,  0.1654845 ,  0.16094377,\n",
       "        0.1755432 ,  0.16699183,  0.17788925,  0.15790382,  0.16773769,\n",
       "        0.15812476,  0.16378101,  0.17467624,  0.16501293,  0.15097032,\n",
       "        0.15676357,  0.15156227,  0.16066351,  0.14112009,  0.14615137,\n",
       "        0.16323062,  0.13502535,  0.12876184,  0.13337795,  0.13950569,\n",
       "        0.15644109,  0.15495821,  0.14144015,  0.12268466,  0.1177457 ,\n",
       "        0.10375757,  0.13002039,  0.10633797,  0.14544666,  0.16032133,\n",
       "        0.14811243,  0.15179162,  0.13318877,  0.12034367,  0.13337173,\n",
       "        0.13391715,  0.13081131,  0.12273133,  0.1130126 ,  0.1256799 ,\n",
       "        0.14083922,  0.15336353,  0.14872678,  0.14639199,  0.14350223,\n",
       "        0.14107646,  0.14212911,  0.14366592,  0.14894648,  0.13456521,\n",
       "        0.11399378,  0.13705431,  0.13910806,  0.14134868,  0.13333601,\n",
       "        0.13465629,  0.10936315,  0.1165313 ,  0.09775368,  0.13430393,\n",
       "        0.12498918,  0.11225563,  0.10907584,  0.10400627,  0.13026459,\n",
       "        0.14231789,  0.14198618,  0.14175685,  0.14766341,  0.14729272,\n",
       "        0.15017548,  0.15235388,  0.14724542,  0.161542  ,  0.16410197,\n",
       "        0.14110515,  0.13025233,  0.13206332,  0.14875783,  0.13565675,\n",
       "        0.15184467,  0.15956985,  0.14595168,  0.12325436,  0.12336483,\n",
       "        0.13312126,  0.14014034,  0.15289136,  0.16220987,  0.16425689,\n",
       "        0.16891233,  0.15486803,  0.14520025,  0.1138188 ,  0.14588504,\n",
       "        0.13991609,  0.15001804,  0.1573188 ,  0.14178639,  0.13005757,\n",
       "        0.13306275,  0.15802516,  0.15794674,  0.15241109,  0.15669794,\n",
       "        0.14216371,  0.14170769,  0.12913169,  0.14300896,  0.1573518 ,\n",
       "        0.15975614,  0.16100369,  0.13791431,  0.11612302,  0.15450739,\n",
       "        0.1616819 ,  0.15342734,  0.16268221,  0.16195328,  0.15933573,\n",
       "        0.16124946,  0.16172445,  0.15681918,  0.1797204 ,  0.18878538,\n",
       "        0.19348395,  0.18301404,  0.18236492,  0.1819348 ,  0.16855609,\n",
       "        0.17045241,  0.17457958,  0.15959037,  0.14404465,  0.14992768,\n",
       "        0.13938896,  0.12213494,  0.10126369,  0.06593346,  0.10056774,\n",
       "        0.11252718,  0.13542838,  0.13506044,  0.1340556 ,  0.13832941,\n",
       "        0.13695597,  0.14138813,  0.14314762,  0.13033922,  0.13144995,\n",
       "        0.12520227,  0.14246079,  0.14943114,  0.1463598 ,  0.15251718,\n",
       "        0.15305175,  0.1599166 ,  0.15286029,  0.14479368,  0.14094649,\n",
       "        0.14940338,  0.15491602,  0.15790593,  0.17058004,  0.18200615,\n",
       "        0.18989523,  0.19302666,  0.19119609,  0.18599732,  0.19050242,\n",
       "        0.14929539,  0.12925808,  0.18050411,  0.1932727 ,  0.19698489,\n",
       "        0.2044607 ,  0.20315859,  0.20498846,  0.20289295,  0.20987834,\n",
       "        0.20389993,  0.20209812,  0.2013851 ,  0.17480328,  0.11751649,\n",
       "        0.20243921,  0.20815262,  0.20884477,  0.2105231 ,  0.19069444,\n",
       "        0.18791125,  0.20296368,  0.20406499,  0.20233582,  0.20199866,\n",
       "        0.1930716 ,  0.20092404,  0.20996957,  0.19899655,  0.21432719,\n",
       "        0.21100224,  0.21214423,  0.21868732,  0.21839218,  0.18139424,\n",
       "        0.19793187,  0.21163578,  0.18718045,  0.21646519,  0.22606612,\n",
       "        0.23027728,  0.22279488,  0.24040682,  0.23812773,  0.23579702,\n",
       "        0.2343319 ,  0.24247496,  0.23004082,  0.2468591 ,  0.24359069,\n",
       "        0.25223989,  0.25246993,  0.2442585 ,  0.24581196,  0.23995945,\n",
       "        0.22511285,  0.23217806,  0.23684645,  0.23594619,  0.24000313,\n",
       "        0.2207118 ,  0.2280982 ,  0.22860178,  0.22086744,  0.22278408,\n",
       "        0.22278369,  0.22100739,  0.22502758,  0.22001629,  0.21976122,\n",
       "        0.24502237,  0.25456653,  0.25648439,  0.25056585,  0.24680248,\n",
       "        0.2195937 ,  0.21614154,  0.21012456,  0.2202199 ,  0.23757809,\n",
       "        0.26134769,  0.25074406,  0.26274412,  0.2670953 ,  0.25021009,\n",
       "        0.25892498,  0.25793593,  0.26148675,  0.25514649,  0.25736584,\n",
       "        0.22606904,  0.23323528,  0.24935118,  0.24692615,  0.24292341,\n",
       "        0.24916484,  0.24152095,  0.24698525,  0.24613196,  0.24454594,\n",
       "        0.20949198,  0.19075562,  0.18087951,  0.2260062 ,  0.22398927,\n",
       "        0.20170867,  0.21709945,  0.20848038,  0.21827504,  0.24002396,\n",
       "        0.22968058,  0.23567441,  0.20446247,  0.23679702,  0.23010847,\n",
       "        0.23280071,  0.24275115,  0.24439188,  0.24751832,  0.23847929,\n",
       "        0.21517801,  0.2257084 ,  0.22292178,  0.22836118,  0.22739529,\n",
       "        0.23641227,  0.22371984,  0.22977531,  0.23429376,  0.22929305,\n",
       "        0.22878983,  0.23264938,  0.24741855,  0.246511  ,  0.24598547,\n",
       "        0.24112233,  0.24242002,  0.2460799 ,  0.23892637,  0.24327641,\n",
       "        0.1916015 ,  0.23680847,  0.2438405 ,  0.24666633,  0.25298531,\n",
       "        0.24214577,  0.25859936,  0.24931095,  0.24165124,  0.23486147,\n",
       "        0.24292927,  0.25086027,  0.23952832,  0.24313796,  0.23704499,\n",
       "        0.23686109,  0.18825255,  0.2303788 ,  0.16695128,  0.15943327,\n",
       "        0.17987933,  0.20323853,  0.20893199,  0.19894406,  0.19481207,\n",
       "        0.19214351,  0.20742262,  0.14965297,  0.20083176,  0.20531021,\n",
       "        0.21285104,  0.20910982,  0.20395835,  0.20011836,  0.20403833,\n",
       "        0.20394019,  0.2068163 ,  0.20943254,  0.17492672,  0.21847921,\n",
       "        0.21154974,  0.19635639,  0.20336089,  0.19935374,  0.19294568,\n",
       "        0.20325632,  0.19584444,  0.17537653,  0.17484483,  0.18006516,\n",
       "        0.19352979,  0.17643047,  0.17676672,  0.1907428 ,  0.18108499,\n",
       "        0.18774589,  0.19658984,  0.1877365 ,  0.18276954,  0.19395062,\n",
       "        0.2063125 ,  0.20764292,  0.20276582,  0.20715136,  0.21340326,\n",
       "        0.20905136,  0.2321225 ,  0.21313324,  0.20868565,  0.15433538,\n",
       "        0.16782592,  0.17016914,  0.131361  ,  0.15015942,  0.17167225,\n",
       "        0.14052772,  0.19057909,  0.21560831,  0.21176307,  0.22605825,\n",
       "        0.19374102,  0.2266701 ,  0.17773938,  0.16467775,  0.12959076,\n",
       "        0.21132562,  0.20128985,  0.22307836,  0.23203145,  0.23694664,\n",
       "        0.2357743 ,  0.18311993,  0.13545686,  0.17194031,  0.14867954,\n",
       "        0.09954825,  0.14271237,  0.22707763,  0.22901959,  0.22167861,\n",
       "        0.21441781,  0.18914374,  0.21980691,  0.22370454,  0.20604362,\n",
       "        0.20352294,  0.18549466,  0.17342865,  0.11197606,  0.18131234,\n",
       "        0.20464409,  0.16995698,  0.17987707,  0.18988714,  0.17757853,\n",
       "        0.19939848,  0.19692786,  0.2182764 ,  0.19052518,  0.21828093,\n",
       "        0.21858261,  0.18610574,  0.2145167 ,  0.18912647,  0.19934136,\n",
       "        0.20204168,  0.18078148,  0.15752833,  0.14878274,  0.09916299,\n",
       "        0.13390691,  0.14697062,  0.18433482,  0.14585342,  0.1292167 ,\n",
       "        0.19224153,  0.19607502,  0.21423538,  0.20962685,  0.16833288,\n",
       "        0.15611131,  0.18319989,  0.21359201,  0.21898852,  0.20602611,\n",
       "        0.20713911,  0.19905362,  0.17938663,  0.1854808 ,  0.19591218])"
      ]
     },
     "execution_count": 327,
     "metadata": {},
     "output_type": "execute_result"
    }
   ],
   "source": [
    "np.subtract(n1_validation_loss, n1_test_loss)"
   ]
  },
  {
   "cell_type": "markdown",
   "metadata": {},
   "source": [
    "## 4. "
   ]
  },
  {
   "cell_type": "markdown",
   "metadata": {},
   "source": [
    "## Investigating Weights"
   ]
  },
  {
   "cell_type": "markdown",
   "metadata": {},
   "source": [
    "##  $W_{SGD}$"
   ]
  },
  {
   "cell_type": "code",
   "execution_count": 328,
   "metadata": {
    "ExecuteTime": {
     "end_time": "2020-11-24T00:33:53.424394Z",
     "start_time": "2020-11-24T00:33:53.407551Z"
    }
   },
   "outputs": [
    {
     "data": {
      "text/plain": [
       "array([-0.06885316,  0.00089091,  0.15616667, -0.06364301,  0.03283496,\n",
       "       -0.0025    ,  0.031     ,  0.00427005,  0.0371    ,  0.        ,\n",
       "        0.055     ,  0.04340455,  0.04234244,  0.0169    ,  0.0136    ,\n",
       "        0.03048182,  0.0006    ,  0.022     , -0.0053    ,  0.0142    ,\n",
       "        0.0785    ,  0.0384    ,  0.0257    ,  0.0073    ,  0.0109    ,\n",
       "        0.0375    ,  0.0045    , -0.0049    ,  0.0194    , -0.0147    ,\n",
       "        0.001     ,  0.0041    ,  0.0004    , -0.0116    ,  0.0004    ,\n",
       "        0.0327    ,  0.0405    , -0.0015    ,  0.017     ,  0.0111    ,\n",
       "        0.0062    ,  0.0182    ,  0.0082    ,  0.0073    ,  0.0042    ,\n",
       "        0.001     ,  0.0019    ])"
      ]
     },
     "execution_count": 328,
     "metadata": {},
     "output_type": "execute_result"
    }
   ],
   "source": [
    "w"
   ]
  },
  {
   "cell_type": "markdown",
   "metadata": {},
   "source": [
    "## $W_{L1}$"
   ]
  },
  {
   "cell_type": "code",
   "execution_count": 329,
   "metadata": {
    "ExecuteTime": {
     "end_time": "2020-11-24T00:33:53.955691Z",
     "start_time": "2020-11-24T00:33:53.950968Z"
    }
   },
   "outputs": [
    {
     "data": {
      "text/plain": [
       "array([-0.01348661,  0.00678155,  0.03984524, -0.00791772,  0.01285652,\n",
       "        0.01361905,  0.0041631 ,  0.00115845,  0.02304438,  0.        ,\n",
       "        0.0164512 ,  0.01127398,  0.0112517 ,  0.01483391,  0.01590551,\n",
       "        0.00508647,  0.02341197,  0.01981326,  0.0154036 ,  0.02459218,\n",
       "        0.02324493,  0.03896135,  0.02785209,  0.02069298,  0.02083878,\n",
       "        0.02051006,  0.00372839,  0.00472405,  0.01369329,  0.00764332,\n",
       "        0.00493869,  0.00384204,  0.00062678, -0.00852975, -0.00045417,\n",
       "        0.00789593,  0.01633054, -0.00011526,  0.00292458,  0.00498635,\n",
       "       -0.00167108,  0.0146185 ,  0.00018613,  0.00374679,  0.00019081,\n",
       "       -0.00122178,  0.00012727])"
      ]
     },
     "execution_count": 329,
     "metadata": {},
     "output_type": "execute_result"
    }
   ],
   "source": [
    "l1_w"
   ]
  },
  {
   "cell_type": "markdown",
   "metadata": {},
   "source": [
    "## $W_{N1}$"
   ]
  },
  {
   "cell_type": "code",
   "execution_count": 330,
   "metadata": {
    "ExecuteTime": {
     "end_time": "2020-11-24T00:33:54.746544Z",
     "start_time": "2020-11-24T00:33:54.718421Z"
    }
   },
   "outputs": [
    {
     "data": {
      "text/plain": [
       "array([-0.06884177,  0.00335455,  0.1549    , -0.06389054,  0.03552602,\n",
       "       -0.0005    ,  0.0302    ,  0.00430769,  0.0368    ,  0.        ,\n",
       "        0.05153333,  0.04421553,  0.04152   ,  0.0147    ,  0.014     ,\n",
       "        0.02846364, -0.0014    ,  0.0225    , -0.0059    ,  0.0144    ,\n",
       "        0.0797    ,  0.0348    ,  0.026     ,  0.0083    ,  0.0071    ,\n",
       "        0.0377    ,  0.0056    , -0.0051    ,  0.0224    , -0.0113    ,\n",
       "        0.0046    ,  0.0046    ,  0.0009    , -0.0109    ,  0.0012    ,\n",
       "        0.0309    ,  0.0407    , -0.0021    ,  0.0157    ,  0.0131    ,\n",
       "        0.0053    ,  0.0169    ,  0.0117    ,  0.0083    ,  0.0026    ,\n",
       "       -0.0005    ,  0.0018    ])"
      ]
     },
     "execution_count": 330,
     "metadata": {},
     "output_type": "execute_result"
    }
   ],
   "source": [
    "n1_w"
   ]
  },
  {
   "cell_type": "markdown",
   "metadata": {},
   "source": [
    "## Adjust $\\lambda = 0$"
   ]
  },
  {
   "cell_type": "markdown",
   "metadata": {},
   "source": [
    "Setting $\\lambda = 0$ makes the ridge regression same as Sum Squared Error (SSE)."
   ]
  },
  {
   "cell_type": "code",
   "execution_count": 333,
   "metadata": {
    "ExecuteTime": {
     "end_time": "2020-11-24T00:38:30.482660Z",
     "start_time": "2020-11-24T00:38:29.918093Z"
    }
   },
   "outputs": [],
   "source": [
    "new_l1_train_loss, new_l1_validation_loss, new_l1_test_loss, new_l1_w = SGD_Regularized(0, X_train, y_train, X_validation, y_validation, X_test, y_test, eta, batch_size, iterations_no)"
   ]
  },
  {
   "cell_type": "code",
   "execution_count": 334,
   "metadata": {
    "ExecuteTime": {
     "end_time": "2020-11-24T00:38:47.735156Z",
     "start_time": "2020-11-24T00:38:47.418446Z"
    }
   },
   "outputs": [
    {
     "data": {
      "image/png": "[encoded data removed]",
      "text/plain": [
       "<Figure size 1200x800 with 1 Axes>"
      ]
     },
     "metadata": {},
     "output_type": "display_data"
    }
   ],
   "source": [
    "plotting(new_l1_validation_loss, new_l1_train_loss, \"Lambda 0\")"
   ]
  },
  {
   "cell_type": "markdown",
   "metadata": {},
   "source": [
    "## Ridge Regression Benefits:\n",
    "\n",
    "\\begin{itemize}\n",
    "    \\item By adding penalty reduces overfitting. \n",
    "    \\item It is guaranteed that we find "
   ]
  }
 ],
 "metadata": {
  "kernelspec": {
   "display_name": "Python 3",
   "language": "python",
   "name": "python3"
  },
  "language_info": {
   "codemirror_mode": {
    "name": "ipython",
    "version": 3
   },
   "file_extension": ".py",
   "mimetype": "text/x-python",
   "name": "python",
   "nbconvert_exporter": "python",
   "pygments_lexer": "ipython3",
   "version": "3.6.9"
  }
 },
 "nbformat": 4,
 "nbformat_minor": 2
}
